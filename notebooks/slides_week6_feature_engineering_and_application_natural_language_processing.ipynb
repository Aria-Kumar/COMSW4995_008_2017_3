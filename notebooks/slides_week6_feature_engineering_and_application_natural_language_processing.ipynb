{
 "cells": [
  {
   "cell_type": "markdown",
   "metadata": {
    "slideshow": {
     "slide_type": "slide"
    }
   },
   "source": [
    "# Elements of Data Science: A First Course \n",
    "\n",
    "# COMS W4995 008 2017 3\n",
    "\n",
    "\n",
    "## Week 6:  Feature Engineering and Natural Language Processing"
   ]
  },
  {
   "cell_type": "code",
   "execution_count": 1,
   "metadata": {
    "collapsed": true,
    "slideshow": {
     "slide_type": "skip"
    }
   },
   "outputs": [],
   "source": [
    "import numpy as np\n",
    "import pandas as pd\n",
    "import seaborn as sns\n",
    "import matplotlib.pyplot as plt\n",
    "\n",
    "np.random.seed(123)\n",
    "%matplotlib inline"
   ]
  },
  {
   "cell_type": "markdown",
   "metadata": {
    "slideshow": {
     "slide_type": "slide"
    }
   },
   "source": [
    "## Reading: "
   ]
  },
  {
   "cell_type": "markdown",
   "metadata": {
    "slideshow": {
     "slide_type": "slide"
    }
   },
   "source": [
    "## Today"
   ]
  },
  {
   "cell_type": "markdown",
   "metadata": {
    "slideshow": {
     "slide_type": "fragment"
    }
   },
   "source": [
    "- Feature Engineering\n",
    "    - dummy variables, one-hot encoding\n",
    "    - scaling, normalizing\n",
    "    - imputing"
   ]
  },
  {
   "cell_type": "markdown",
   "metadata": {
    "slideshow": {
     "slide_type": "fragment"
    }
   },
   "source": [
    "- Natural Language Processing\n",
    "    - Examples (sentiment analysis, entity extraction, ...)\n",
    "    - BOW\n",
    "    - TfIdf\n",
    "    - Stopwords\n",
    "    - Stemming and Lemmatization\n",
    "    - N-Grams\n",
    "    - Parse Trees"
   ]
  },
  {
   "cell_type": "markdown",
   "metadata": {
    "slideshow": {
     "slide_type": "slide"
    }
   },
   "source": [
    "## Feature Engineering"
   ]
  },
  {
   "cell_type": "code",
   "execution_count": 2,
   "metadata": {
    "collapsed": true,
    "slideshow": {
     "slide_type": "slide"
    }
   },
   "outputs": [],
   "source": [
    "from sklearn.preprocessing import OneHotEncoder, LabelBinarizer\n",
    "\n",
    "ohe = OneHotEncoder(sparse=False)"
   ]
  },
  {
   "cell_type": "code",
   "execution_count": 3,
   "metadata": {
    "collapsed": true,
    "slideshow": {
     "slide_type": "fragment"
    }
   },
   "outputs": [],
   "source": [
    "X = [[0,0],[1,1],[0,2]]"
   ]
  },
  {
   "cell_type": "code",
   "execution_count": 4,
   "metadata": {
    "slideshow": {
     "slide_type": "fragment"
    }
   },
   "outputs": [
    {
     "data": {
      "text/plain": [
       "array([[ 1.,  0.,  1.,  0.,  0.],\n",
       "       [ 0.,  1.,  0.,  1.,  0.],\n",
       "       [ 1.,  0.,  0.,  0.,  1.]])"
      ]
     },
     "execution_count": 4,
     "metadata": {},
     "output_type": "execute_result"
    }
   ],
   "source": [
    "ohe.fit_transform(X)"
   ]
  },
  {
   "cell_type": "code",
   "execution_count": 5,
   "metadata": {
    "slideshow": {
     "slide_type": "slide"
    }
   },
   "outputs": [],
   "source": [
    "from sklearn.preprocessing import StandardScaler, RobustScaler\n",
    "\n",
    "scaler = StandardScaler(with_mean=True,     # substract mean\n",
    "                        with_std=True)      # scale to unit variance\n",
    "\n",
    "rscaler = RobustScaler(with_centering=True, # subtract median\n",
    "                      with_scaling=True)    # scale to IQR\n",
    "\n",
    "X = np.array([1.,2.,10.]).reshape(-1,1)"
   ]
  },
  {
   "cell_type": "code",
   "execution_count": 6,
   "metadata": {
    "slideshow": {
     "slide_type": "fragment"
    }
   },
   "outputs": [
    {
     "data": {
      "text/plain": [
       "array([[-0.82760589],\n",
       "       [-0.57932412],\n",
       "       [ 1.40693001]])"
      ]
     },
     "execution_count": 6,
     "metadata": {},
     "output_type": "execute_result"
    }
   ],
   "source": [
    "scaler.fit_transform(X)"
   ]
  },
  {
   "cell_type": "code",
   "execution_count": 7,
   "metadata": {
    "slideshow": {
     "slide_type": "fragment"
    }
   },
   "outputs": [
    {
     "data": {
      "text/plain": [
       "array([[-0.22222222],\n",
       "       [ 0.        ],\n",
       "       [ 1.77777778]])"
      ]
     },
     "execution_count": 7,
     "metadata": {},
     "output_type": "execute_result"
    }
   ],
   "source": [
    "rscaler.fit_transform(X)"
   ]
  },
  {
   "cell_type": "code",
   "execution_count": 8,
   "metadata": {
    "collapsed": true,
    "slideshow": {
     "slide_type": "slide"
    }
   },
   "outputs": [],
   "source": [
    "from sklearn.preprocessing import Binarizer\n",
    "\n",
    "binar = Binarizer(threshold=1000.0)\n",
    "\n",
    "X = np.array([1000.0, 999.0,1001.0]).reshape(-1,1)"
   ]
  },
  {
   "cell_type": "code",
   "execution_count": 9,
   "metadata": {
    "slideshow": {
     "slide_type": "fragment"
    }
   },
   "outputs": [
    {
     "data": {
      "text/plain": [
       "array([[ 0.],\n",
       "       [ 0.],\n",
       "       [ 1.]])"
      ]
     },
     "execution_count": 9,
     "metadata": {},
     "output_type": "execute_result"
    }
   ],
   "source": [
    "binar.fit_transform(X)"
   ]
  },
  {
   "cell_type": "code",
   "execution_count": 10,
   "metadata": {
    "collapsed": true,
    "slideshow": {
     "slide_type": "slide"
    }
   },
   "outputs": [],
   "source": [
    "from sklearn.preprocessing import PolynomialFeatures\n",
    "\n",
    "poly = PolynomialFeatures(degree=2,               # degree of polynomial\n",
    "                          include_bias=True,      # include column of ones\n",
    "                          interaction_only=False) # exclude terms raised to degree\n",
    "\n",
    "X = [[1, 2],[2,3]]"
   ]
  },
  {
   "cell_type": "code",
   "execution_count": 11,
   "metadata": {
    "slideshow": {
     "slide_type": "fragment"
    }
   },
   "outputs": [
    {
     "data": {
      "text/plain": [
       "array([[ 1.,  1.,  2.,  1.,  2.,  4.],\n",
       "       [ 1.,  2.,  3.,  4.,  6.,  9.]])"
      ]
     },
     "execution_count": 11,
     "metadata": {},
     "output_type": "execute_result"
    }
   ],
   "source": [
    "poly.fit_transform(X) # x_0, x_1, x_2, x_1**2, x_1*x_2, x_2**2"
   ]
  },
  {
   "cell_type": "code",
   "execution_count": 12,
   "metadata": {
    "collapsed": true,
    "slideshow": {
     "slide_type": "slide"
    }
   },
   "outputs": [],
   "source": [
    "from sklearn.preprocessing import FunctionTransformer"
   ]
  },
  {
   "cell_type": "code",
   "execution_count": 13,
   "metadata": {
    "collapsed": true,
    "slideshow": {
     "slide_type": "slide"
    }
   },
   "outputs": [],
   "source": [
    "from sklearn.preprocessing import Imputer\n",
    "\n",
    "imputer = Imputer(strategy='mean') # mean, median, most_frequent\n",
    "\n",
    "X = np.array([1,np.nan,2]).reshape(-1,1)"
   ]
  },
  {
   "cell_type": "code",
   "execution_count": 14,
   "metadata": {
    "slideshow": {
     "slide_type": "fragment"
    }
   },
   "outputs": [
    {
     "data": {
      "text/plain": [
       "array([[ 1. ],\n",
       "       [ 1.5],\n",
       "       [ 2. ]])"
      ]
     },
     "execution_count": 14,
     "metadata": {},
     "output_type": "execute_result"
    }
   ],
   "source": [
    "imputer.fit_transform(X)"
   ]
  },
  {
   "cell_type": "code",
   "execution_count": 15,
   "metadata": {
    "collapsed": true,
    "slideshow": {
     "slide_type": "slide"
    }
   },
   "outputs": [],
   "source": [
    "from sklearn.pipeline import Pipeline, FeatureUnion"
   ]
  },
  {
   "cell_type": "code",
   "execution_count": 16,
   "metadata": {
    "collapsed": true,
    "slideshow": {
     "slide_type": "fragment"
    }
   },
   "outputs": [],
   "source": [
    "from sklearn.pipeline import make_union, make_pipeline"
   ]
  },
  {
   "cell_type": "code",
   "execution_count": 17,
   "metadata": {
    "collapsed": true,
    "slideshow": {
     "slide_type": "fragment"
    }
   },
   "outputs": [],
   "source": [
    "def get_categorical_cols(X):\n",
    "    categorical_col_idxs = []\n",
    "    return X[:,categorical_col_idxs]"
   ]
  },
  {
   "cell_type": "code",
   "execution_count": 18,
   "metadata": {
    "collapsed": true,
    "slideshow": {
     "slide_type": "fragment"
    }
   },
   "outputs": [],
   "source": [
    "def get_real_cols(X):\n",
    "    real_col_idxs = []\n",
    "    return X[:,real_col_idxs]"
   ]
  },
  {
   "cell_type": "code",
   "execution_count": 19,
   "metadata": {
    "slideshow": {
     "slide_type": "fragment"
    }
   },
   "outputs": [],
   "source": [
    "vec = make_union(make_pipeline(FunctionTransformer(get_categorical_cols, validate=False), \n",
    "                                OneHotEncoder()),\n",
    "                  make_pipeline(FunctionTransformer(get_real_cols, validate=False), \n",
    "                                StandardScaler())\n",
    "                )"
   ]
  },
  {
   "cell_type": "markdown",
   "metadata": {
    "slideshow": {
     "slide_type": "slide"
    }
   },
   "source": [
    "## Natural Language Processing"
   ]
  },
  {
   "cell_type": "markdown",
   "metadata": {
    "slideshow": {
     "slide_type": "fragment"
    }
   },
   "source": [
    "### Example Tasks"
   ]
  },
  {
   "cell_type": "markdown",
   "metadata": {
    "slideshow": {
     "slide_type": "fragment"
    }
   },
   "source": [
    "- sentiment analysis"
   ]
  },
  {
   "cell_type": "markdown",
   "metadata": {
    "slideshow": {
     "slide_type": "fragment"
    }
   },
   "source": [
    "- entity recognition"
   ]
  },
  {
   "cell_type": "markdown",
   "metadata": {
    "slideshow": {
     "slide_type": "fragment"
    }
   },
   "source": [
    "- machine translation"
   ]
  },
  {
   "cell_type": "markdown",
   "metadata": {
    "slideshow": {
     "slide_type": "fragment"
    }
   },
   "source": [
    "- natural language generation"
   ]
  },
  {
   "cell_type": "markdown",
   "metadata": {
    "slideshow": {
     "slide_type": "fragment"
    }
   },
   "source": [
    "- question answering"
   ]
  },
  {
   "cell_type": "markdown",
   "metadata": {
    "slideshow": {
     "slide_type": "fragment"
    }
   },
   "source": [
    "- relationship extraction"
   ]
  },
  {
   "cell_type": "markdown",
   "metadata": {
    "slideshow": {
     "slide_type": "fragment"
    }
   },
   "source": [
    "- automatic summarization"
   ]
  },
  {
   "cell_type": "markdown",
   "metadata": {
    "slideshow": {
     "slide_type": "fragment"
    }
   },
   "source": [
    "- ..."
   ]
  },
  {
   "cell_type": "markdown",
   "metadata": {
    "slideshow": {
     "slide_type": "slide"
    }
   },
   "source": [
    "### Documents\n",
    "\n",
    "- tweets\n",
    "- reviews\n",
    "- resumes\n",
    "- books\n",
    "- articles\n",
    "- ..."
   ]
  },
  {
   "cell_type": "markdown",
   "metadata": {
    "slideshow": {
     "slide_type": "fragment"
    }
   },
   "source": [
    "**corpus**: a collection of documents"
   ]
  },
  {
   "cell_type": "markdown",
   "metadata": {
    "slideshow": {
     "slide_type": "slide"
    }
   },
   "source": [
    "### How do we represent a document?"
   ]
  },
  {
   "cell_type": "markdown",
   "metadata": {
    "slideshow": {
     "slide_type": "fragment"
    }
   },
   "source": [
    "**terms**: the distinct values in our vocabulary ('aardvark','are','animal',...)"
   ]
  },
  {
   "cell_type": "markdown",
   "metadata": {
    "slideshow": {
     "slide_type": "fragment"
    }
   },
   "source": [
    "**tokens**: the strings that make up a document ('These','are','tokens','.')"
   ]
  },
  {
   "cell_type": "markdown",
   "metadata": {
    "slideshow": {
     "slide_type": "fragment"
    }
   },
   "source": [
    "**tokenization**: transforming a document into tokens."
   ]
  },
  {
   "cell_type": "markdown",
   "metadata": {
    "slideshow": {
     "slide_type": "slide"
    }
   },
   "source": [
    "### Bag of Words Representation"
   ]
  },
  {
   "cell_type": "markdown",
   "metadata": {
    "slideshow": {
     "slide_type": "fragment"
    }
   },
   "source": [
    "- split document into tokens\n",
    "- ignoring order"
   ]
  },
  {
   "cell_type": "markdown",
   "metadata": {
    "slideshow": {
     "slide_type": "fragment"
    }
   },
   "source": [
    "**Term Frequency**: number of occurance of a term in a document"
   ]
  },
  {
   "cell_type": "markdown",
   "metadata": {
    "slideshow": {
     "slide_type": "fragment"
    }
   },
   "source": [
    "**Document Frequency**: number of documents a term occurs in"
   ]
  },
  {
   "cell_type": "code",
   "execution_count": 20,
   "metadata": {
    "collapsed": true,
    "slideshow": {
     "slide_type": "slide"
    }
   },
   "outputs": [],
   "source": [
    "from sklearn.feature_extraction.text import CountVectorizer"
   ]
  },
  {
   "cell_type": "code",
   "execution_count": 21,
   "metadata": {
    "slideshow": {
     "slide_type": "fragment"
    }
   },
   "outputs": [
    {
     "data": {
      "text/plain": [
       "CountVectorizer(analyzer='word', binary=False, decode_error='strict',\n",
       "        dtype=<class 'numpy.int64'>, encoding='utf-8', input='content',\n",
       "        lowercase=True, max_df=1.0, max_features=None, min_df=1,\n",
       "        ngram_range=(1, 1), preprocessor=None, stop_words=None,\n",
       "        strip_accents=None, token_pattern='(?u)\\\\b\\\\w\\\\w+\\\\b',\n",
       "        tokenizer=None, vocabulary=None)"
      ]
     },
     "execution_count": 21,
     "metadata": {},
     "output_type": "execute_result"
    }
   ],
   "source": [
    "cv = CountVectorizer()\n",
    "cv"
   ]
  },
  {
   "cell_type": "markdown",
   "metadata": {
    "slideshow": {
     "slide_type": "slide"
    }
   },
   "source": [
    "### Tf-Idf Representation"
   ]
  },
  {
   "cell_type": "markdown",
   "metadata": {
    "slideshow": {
     "slide_type": "fragment"
    }
   },
   "source": [
    "- term frequency - inverse document frequency\n",
    "- downweight terms seen in many documents"
   ]
  },
  {
   "cell_type": "code",
   "execution_count": 22,
   "metadata": {
    "collapsed": true,
    "slideshow": {
     "slide_type": "slide"
    }
   },
   "outputs": [],
   "source": [
    "from sklearn.feature_extraction.text import TfidfVectorizer"
   ]
  },
  {
   "cell_type": "code",
   "execution_count": 23,
   "metadata": {
    "slideshow": {
     "slide_type": "fragment"
    }
   },
   "outputs": [
    {
     "data": {
      "text/plain": [
       "TfidfVectorizer(analyzer='word', binary=False, decode_error='strict',\n",
       "        dtype=<class 'numpy.int64'>, encoding='utf-8', input='content',\n",
       "        lowercase=True, max_df=1.0, max_features=None, min_df=1,\n",
       "        ngram_range=(1, 1), norm='l2', preprocessor=None, smooth_idf=True,\n",
       "        stop_words=None, strip_accents=None, sublinear_tf=False,\n",
       "        token_pattern='(?u)\\\\b\\\\w\\\\w+\\\\b', tokenizer=None, use_idf=True,\n",
       "        vocabulary=None)"
      ]
     },
     "execution_count": 23,
     "metadata": {},
     "output_type": "execute_result"
    }
   ],
   "source": [
    "tfidf = TfidfVectorizer()\n",
    "tfidf"
   ]
  },
  {
   "cell_type": "markdown",
   "metadata": {
    "slideshow": {
     "slide_type": "slide"
    }
   },
   "source": [
    "**Stopwords**: uninformative terms we know we want to exclude (a, and, the, ...)"
   ]
  },
  {
   "cell_type": "code",
   "execution_count": 24,
   "metadata": {
    "slideshow": {
     "slide_type": "fragment"
    }
   },
   "outputs": [
    {
     "data": {
      "text/plain": [
       "['latterly',\n",
       " 'until',\n",
       " 'below',\n",
       " 'amongst',\n",
       " 'per',\n",
       " 'eleven',\n",
       " 'third',\n",
       " 'enough',\n",
       " 'may',\n",
       " 'myself']"
      ]
     },
     "execution_count": 24,
     "metadata": {},
     "output_type": "execute_result"
    }
   ],
   "source": [
    "from sklearn.feature_extraction.text import ENGLISH_STOP_WORDS\n",
    "\n",
    "list(ENGLISH_STOP_WORDS)[:10]"
   ]
  },
  {
   "cell_type": "markdown",
   "metadata": {
    "slideshow": {
     "slide_type": "slide"
    }
   },
   "source": [
    "### Stemming/Lemmatization"
   ]
  },
  {
   "cell_type": "markdown",
   "metadata": {
    "slideshow": {
     "slide_type": "slide"
    }
   },
   "source": [
    "### How do we capture context?"
   ]
  },
  {
   "cell_type": "markdown",
   "metadata": {
    "slideshow": {
     "slide_type": "fragment"
    }
   },
   "source": [
    "**n_grams**: combinations of colocated terms"
   ]
  },
  {
   "cell_type": "markdown",
   "metadata": {
    "slideshow": {
     "slide_type": "fragment"
    }
   },
   "source": [
    "**parse trees**: grammatical mapping of a sentence"
   ]
  },
  {
   "cell_type": "markdown",
   "metadata": {
    "slideshow": {
     "slide_type": "fragment"
    }
   },
   "source": [
    "**word2vec**: encode terms by their neighbors"
   ]
  },
  {
   "cell_type": "code",
   "execution_count": 25,
   "metadata": {
    "slideshow": {
     "slide_type": "slide"
    }
   },
   "outputs": [],
   "source": [
    "sample_tweets_file = '../data/sample_tweets.txt'\n",
    "\n",
    "if 0 == 1:\n",
    "    with open('/home/bgibson/Downloads/twitter_consumer_key.txt') as f:\n",
    "        consumer_key = f.read().strip()\n",
    "    with open('/home/bgibson/Downloads/twitter_consumer_secret.txt') as f:\n",
    "        consumer_secret = f.read().strip()\n",
    "    with open('/home/bgibson/Downloads/twitter_access_token.txt') as f:\n",
    "        access_token = f.read().strip()\n",
    "    with open('/home/bgibson/Downloads/twitter_access_token_secret.txt') as f:\n",
    "        access_token_secret = f.read().strip()\n",
    "\n",
    "    import tweepy\n",
    "    \n",
    "    auth = tweepy.OAuthHandler(consumer_key, consumer_secret)\n",
    "    auth.set_access_token(access_token, access_token_secret)\n",
    "\n",
    "    api = tweepy.API(auth)\n",
    "\n",
    "    public_tweets = api.search(['columbia'],count=100)\n",
    "    tweets = [tweet.text for tweet in public_tweets]\n",
    "    print(len(tweets))\n",
    "    with open(sample_tweets_file,'w') as f:\n",
    "        for tweet in tweets:\n",
    "            \n",
    "            f.write(tweet.replace('\\n',' '),'\\n')\n",
    "else:\n",
    "    with open(sample_tweets_file) as f:\n",
    "        tweets = f.readlines()\n",
    "    tweets = [tweet.replace('\\n','') for tweet in tweets]"
   ]
  },
  {
   "cell_type": "code",
   "execution_count": 26,
   "metadata": {
    "slideshow": {
     "slide_type": "slide"
    }
   },
   "outputs": [
    {
     "data": {
      "text/plain": [
       "['@CombMyAfro @ussoccer_ynt But Ghana clearly wins the group on goal difference. Columbia 2nd, US 3rd. Rankings are n… https://t.co/joR7g4KJN3',\n",
       " 'RT @Schwartzie14: Another great piece on @Columbia football by @henryschwartz7 https://t.co/OKQYQ44HOq',\n",
       " \"RT @Far_Right_Watch: So Racist Thug Tommy Robinson did a 'Speech' at a NY University (by Skype) and it DID NOT go well :-)  https://t.co/Qu…\",\n",
       " '\"Hail, Columbia\" was written for George Washington\\'s inauguration and is basically, \"Hell yeah, we won the Revolutionary War!\"',\n",
       " 'RT @NYTMetro: A ceremony at Columbia honored Kim Wall, an alumna whose death in August has shaken the journalism community. https://t.co/eO…',\n",
       " 'Key Leader: Lululemon Athletica (Kelowna BC): \"Kelowna , British Columbia , Canada Job Family G.. #retail #eluta https://t.co/1d4XoMGIS0',\n",
       " 'RT @uaf: Protesters stopped a speech at #Columbia University by fascist Tommy Robinson @uaf Good on them! https://t.co/xIzjWTvZmG',\n",
       " 'RT @kremlincardinal: 16/10 would let these best doggos tackle me and drag me to a patrol car even if I was perfectly innocent https://t.co/…',\n",
       " 'Hungry? Here’s what not-to-miss during Restaurant Week Columbia https://t.co/kWf9Ticc4r #thestate',\n",
       " '16/10 would let these best doggos tackle me and drag me to a patrol car even if I was perfectly innocent… https://t.co/H91KJxP7VW',\n",
       " 'British Columbia my house on my bucket list 💕🙏🏼 https://t.co/mf3ePyWzy5',\n",
       " 'RT @cheena1: Grizzly meat hunt is a trophy hunt in disguise, say 38 organizations https://t.co/DfQhWTTExE #ANIMALRIGHTS @gnomeoffender @que…',\n",
       " 'RT @joshmartin95: If you don’t come to Columbia Football’s homecoming game you’re playing yourself. #Undefeated #MakingHistory #RoarLionRoa…',\n",
       " \"RT @ColumbiaLionsFB: John Feinstein of the @PostSports pens piece on @ColumbiaLionsFB 'There's actually hype around Columbia Football!': ht…\",\n",
       " 'RT @HoganSOG: The Sternwheeler Columbia. Photo by T, Hogan https://t.co/FYLhomVcd8',\n",
       " 'RT @GreaterVan_News: 【#BC #News】 Mistrial declared at murder trial of Peter Beckett in Kamloops, B.C. https://t.co/3RMoWLun12 https://t.co/…',\n",
       " \"@williamdbaker @StevenDurack @Spoonhead8 @Saffiya_Khan1 @TheRebelTV @Columbia @TRobinsonNewEra No. You aren't.  Your pretty sound william\",\n",
       " 'Super excited to share the trailer for our next Fishing BC short film on fishing in Port Hardy, British Columbia... https://t.co/ABeOElQOuZ',\n",
       " 'Another great piece on @Columbia football by @henryschwartz7 https://t.co/OKQYQ44HOq',\n",
       " 'RT @BobRae48: Game changer  https://t.co/f3m8oyJDOH',\n",
       " 'The Comedy House. 2768 Decker Blvd. Columbia, Sc!!! #ComedyHouse @ Comedy House https://t.co/9uZZg1Yfbr',\n",
       " '@rooshv  https://t.co/jJVI71TloK',\n",
       " 'RT @HoganSOG: Bridge of the Gods and the Columbia River. Photo by T. Hogan https://t.co/VDCMTPrsd1',\n",
       " '#Columbia_County_Arkansas under burn ban. https://t.co/Yz7Fqp3kCN https://t.co/QXjO1s9HfB',\n",
       " \"RT @Far_Right_Watch: So Racist Thug Tommy Robinson did a 'Speech' at a NY University (by Skype) and it DID NOT go well :-)  https://t.co/Qu…\",\n",
       " 'Join us November 5 for The Great Canadian Songbook, three different takes on the Great Canadian Songbook https://t.co/2SBmAkE0bw',\n",
       " 'Anybody wanna go to canada, like British Columbia territory fer vaca',\n",
       " 'RT @GoColumbiaLions: We’re not just a #FitFam we’re a #LionFam. Show up to spot your team on 10/18 #LionGains #ColumbiaGivingDay https://t.…',\n",
       " \"@UltraRunnerPod I'd say the west coast because running through the Columbia Gorge while it's on fire is pretty toug… https://t.co/L6IZSgHaZd\",\n",
       " '1971 Jack &amp; Jerry Brisco vs Rip Hawk &amp; Swede Hanson w/ manager Gary Hart! 46 years ago tonight in #Columbia SC!… https://t.co/9lgoIni7EY',\n",
       " 'RT @ColumbiaCTL: Workshop, Oct 18: Join us for \"Slow Teaching, Deep Learning: Contemplative Practices for Faculty and Instructors.\" https:/…',\n",
       " 'Federal Register :: Upper Columbia Alternative Flood Control and Fish Operations, Libby and Hungry Horse Dams, MT https://t.co/MFlirp4pe7',\n",
       " 'New Parental Leave Laws in Washington D.C. https://t.co/ih9P7FMRUK [adv] https://t.co/KsKiXth7KF',\n",
       " 'How did teenage girls in Harlem see World War Two? @EduHarlem gives amazing glimpses of their school yearbooks... https://t.co/1UBtv0fcRK',\n",
       " 'RT @Cauhz: ™🌍 https://t.co/2XHnafCCGN (Available locally &amp; online) @ Columbia, Missouri https://t.co/cMNvvkpYtp',\n",
       " '🏔🏐 GAME DAY!  🆚 @cbcBearcats  📍 Columbia Place ⏰ WVB 6pm, MVB 8pm 🖥 https://t.co/kNVRk9u92K  #GoCascades… https://t.co/JZtG9Hgz2Y',\n",
       " 'watching Columbia vs USA u-17 at DY Patil stadium.. Columbia thrashed them 3-1 including am amazing curved  free ki… https://t.co/O199QWDS6b',\n",
       " 'https://t.co/wLgll5t6BE',\n",
       " 'Key Leader: Lululemon Athletica (Kelowna BC): \"Kelowna , British Columbia , Canada Job Family .. #kelowna #eluta https://t.co/aDYk9GJqEs',\n",
       " 'Workshop, Oct 18: Join us for \"Slow Teaching, Deep Learning: Contemplative Practices for Faculty and Instructors.\" https://t.co/3LdF8KbnS2',\n",
       " 'RT @HoganSOG: Columbia Paddlewheeler passing underneath the Bridge of the Gods. Photo by T. Hogan https://t.co/b5T7xqlVBr',\n",
       " '@williamdbaker @AmDoubt @Spoonhead8 @Saffiya_Khan1 @TheRebelTV @Columbia @TRobinsonNewEra When I was a kid my best… https://t.co/b0ICc2eIPF',\n",
       " \"RT @Far_Right_Watch: So Racist Thug Tommy Robinson did a 'Speech' at a NY University (by Skype) and it DID NOT go well :-)  https://t.co/Qu…\",\n",
       " 'RT @HoganSOG: Cascade Locks on the Columbia River looking toward the Bridge of the Gods. Photo by T. Hogan https://t.co/uU1ONW2Hbc',\n",
       " 'RT @HoganSOG: Columbia River Gorge looking eastward. Photo by T. Hogan https://t.co/sxdWcuFlX8',\n",
       " '™🌍 https://t.co/2XHnafCCGN (Available locally &amp; online) @ Columbia, Missouri https://t.co/cMNvvkpYtp',\n",
       " \"RT @Far_Right_Watch: So Racist Thug Tommy Robinson did a 'Speech' at a NY University (by Skype) and it DID NOT go well :-)  https://t.co/Qu…\",\n",
       " '@AmDoubt @StevenDurack @Spoonhead8 @Saffiya_Khan1 @TheRebelTV @Columbia @TRobinsonNewEra It gets very confusing in… https://t.co/QqjHYrHzbo',\n",
       " 'RT @ARForestryComm: Columbia and Polk Counties are now under Burn Bans, increasing the state total to 28. Stay updated: https://t.co/CouA21…',\n",
       " '@CombMyAfro @ussoccer_ynt US may advance as one of best 3rd placed teams. Columbia finish 2nd on head-to-head?',\n",
       " 'RT @HoganSOG: The Sternwheeler Columbia. Photo by T, Hogan https://t.co/FYLhomVcd8',\n",
       " 'So the US loses to Columbia 3-1 at the Under-17 World Cup. USA falls to third in group but will advance.',\n",
       " 'RT @CULionsSoftball: #ColumbiaGivingDay is next week 10.8.17! Hear from our Seniors what your support means to them. Help #LionGains at htt…',\n",
       " 'RT @Toni_Airaksinen: State of campus discourse: just had a long conversation w/ a classmate who sincerely believes all Columbia Republicans…',\n",
       " 'RT @tlupick: 8 #VPD officers beat the crap out of Myles Gray. https://t.co/mjSoxvodkw &amp; failed to cooperate w/ investigators for 26 months…',\n",
       " 'RT @HoganSOG: Columbia River Gorge looking eastward. Photo by T. Hogan https://t.co/sxdWcuFlX8',\n",
       " 'RT @BobRae48: Game changer  https://t.co/f3m8oyJDOH',\n",
       " 'I was really spoiled living .2 miles from Walgreens and having a decent Target to go to back home. Columbia Heights is meh af.',\n",
       " 'Inaugural Max Ritvo #poetry series w/ Lucie Brock-Broido, Timothy Donnelly, Dorothea Lasky, etc @ColumbiaSOA 10/18 https://t.co/brdXI0QdCm',\n",
       " 'RT @ExploreCanada: MT @HelloBC: Unusual accommodations? Here are 10 for your next BC trip: https://t.co/qIxaQZZw9a  #exploreBC https://t.co…',\n",
       " \"@StevenDurack @williamdbaker @Spoonhead8 @Saffiya_Khan1 @TheRebelTV @Columbia @TRobinsonNewEra Don't talk rubbish S… https://t.co/usdRifp5bG\",\n",
       " \"RT @Far_Right_Watch: So Racist Thug Tommy Robinson did a 'Speech' at a NY University (by Skype) and it DID NOT go well :-)  https://t.co/Qu…\",\n",
       " \"Trial delayed for Columbia man charged in Virginia teen's killing https://t.co/pb0lK2c7U6 https://t.co/JHZf58l5ko\",\n",
       " 'RT @Carlosjnuva: El Transbordador espacial #columbia https://t.co/4A5hH8L3CR #shutte #space #felizlunes https://t.co/W6j1eQvZFa',\n",
       " \"Nov. '55: Columbia Pictures wants you to vote for your favorite star. At the movies, Bogart-March THR DESPERATE HOU… https://t.co/bGolNBgjBN\",\n",
       " \"RT @Far_Right_Watch: So Racist Thug Tommy Robinson did a 'Speech' at a NY University (by Skype) and it DID NOT go well :-)  https://t.co/Qu…\",\n",
       " 'RT @HoganSOG: Bridge of the Gods and the Columbia River. Photo by T. Hogan https://t.co/VDCMTPrsd1',\n",
       " 'See a virtual tour of my listing on 202 Pine Bluff Road Columbia, SC. (YouTube Video:... https://t.co/t1UNGf7urJ',\n",
       " 'Icing on top of the #USMNT shitcake, u17s upset by Columbia 3-1',\n",
       " '11660 rt 23, Ashland, NY 12407 | MLS#: 117784 https://t.co/zJef0FgaKR',\n",
       " '@atlantaoutlaws Ahh thought it was gd, goals scored, the lm goals allowed',\n",
       " 'Columbia, SC tonight! @tinroofcolumbia 5:00! https://t.co/qSXr5UC0cl',\n",
       " '@FOXSoccer They actually tied with Columbia by points and goal difference, it’s a tough break, but there’s still the knockout rounds left',\n",
       " 'RT @paulahsspot: #throwbackthurday In The Tatacoa Desert-Columbia amazing but hot hot - went to catch up with him on his travels in South A…',\n",
       " '好久没吃到西瓜了 @ Vancouver, British Columbia https://t.co/33mypAzLJj',\n",
       " '@TL_Columbia Goal differential is the tie breaker and Colombia beat us head to head.',\n",
       " \"So Racist Thug Tommy Robinson did a 'Speech' at a NY University (by Skype) and it DID NOT go well :-)… https://t.co/qmmSJzLxlj\",\n",
       " '@rooshv Weinerstein is not a lone wolf !!',\n",
       " 'Just posted a photo @ Victoria, British Columbia https://t.co/yekE89uBJv',\n",
       " '@CombMyAfro @ussoccer_ynt How? Ghana won the group. Columbia 2nd?',\n",
       " 'That time I met that guy from @blogotheque in the woods of Columbia, MD. https://t.co/6F3Z5sEJMZ',\n",
       " 'T🙄H👊🏾U😍R❤️S😘D🙌🏾A🤤Y @ Washington, District of Columbia https://t.co/tZzd9vLAPs',\n",
       " '@williamdbaker @AmDoubt @Spoonhead8 @Saffiya_Khan1 @TheRebelTV @Columbia @TRobinsonNewEra In 20 years time the numb… https://t.co/dLOrotZHzM',\n",
       " '@williamdbaker @StevenDurack @Spoonhead8 @Saffiya_Khan1 @TheRebelTV @Columbia @TRobinsonNewEra Me either, but he ho… https://t.co/fzpKkd6otJ',\n",
       " 'The K-9s are expected to receive their vests within the next 8-10 weeks. https://t.co/Zes0isqzvI',\n",
       " 'The K-9s are expected to receive their vests within the next 8-10 weeks. https://t.co/WJwCycn68M',\n",
       " 'Before the U.S. had an official anthem, the songs used in this capacity  were mainly \"Hail, Columbia,\" and \"My Country, \\'Tis of Thee.\"',\n",
       " 'Get an overview of the basic features and functionality CourseWorks (Canvas). Register for upcoming trainings:… https://t.co/Og4FMoMtJj',\n",
       " 'Columbia will go through',\n",
       " '#News via #FOXNEWS \"Potent storms from the Pacific to bombard British Columbia, northwestern US\" |… https://t.co/zMTM9kkPo3',\n",
       " '\"Potent storms from the Pacific to bombard British Columbia, northwestern US\" via FOX NEWS https://t.co/MMQjua1ua0 https://t.co/pdDZlkgNrS',\n",
       " '@newonceagain In route to Columbia today. Playing Cotton Eyed Joe on December 16!',\n",
       " '\"Potent storms from the Pacific to bombard British Columbia, northwestern US\" via FOX NEWS https://t.co/nSeHoddZ1K',\n",
       " 'B.C. real estate sales and prices continue upward trend in September, says B.C. Real Estate… https://t.co/f8OSRlCiLo https://t.co/LHrk6CMJg0',\n",
       " 'Join us on Nov 1! Presenters include @Columbia faculty Deborah Mowshowitz, Dept of Biological Sciences &amp; David Helf… https://t.co/s09iB6gcgg',\n",
       " 'Save the date: #ColumbiaGivingDay is Oct. 18. Show your record-breaking support for @Columbia_Biz again this year! https://t.co/3TnVaw9sGl',\n",
       " 'Colombia, an example to world, balances conservation and development https://t.co/uWW9ttmhYI via @Mongabay',\n",
       " '66,000 miles 1998 Mercury Villager mini van $800 - https://t.co/cjJLtRuNg0 https://t.co/ruOpPmCD8E',\n",
       " \"@Thomas1774Paine Stay focused, there is so much going on right now folks, don't get sidetracked\",\n",
       " 'RT @Lord_Gow: A shoutout also to the farmers of Columbia! 😀☕ https://t.co/bWZfypHp9k']"
      ]
     },
     "execution_count": 26,
     "metadata": {},
     "output_type": "execute_result"
    }
   ],
   "source": [
    "tweets"
   ]
  },
  {
   "cell_type": "code",
   "execution_count": 27,
   "metadata": {
    "slideshow": {
     "slide_type": "slide"
    }
   },
   "outputs": [
    {
     "data": {
      "text/plain": [
       "['@combmyafro',\n",
       " '@ussoccer_ynt',\n",
       " 'but',\n",
       " 'ghana',\n",
       " 'clearly',\n",
       " 'wins',\n",
       " 'the',\n",
       " 'group',\n",
       " 'on',\n",
       " 'goal',\n",
       " 'difference.',\n",
       " 'columbia',\n",
       " '2nd,',\n",
       " 'us',\n",
       " '3rd.',\n",
       " 'rankings',\n",
       " 'are',\n",
       " 'n…',\n",
       " 'https://t.co/jor7g4kjn3']"
      ]
     },
     "execution_count": 27,
     "metadata": {},
     "output_type": "execute_result"
    }
   ],
   "source": [
    "tweets[0].lower().split()"
   ]
  },
  {
   "cell_type": "code",
   "execution_count": 28,
   "metadata": {
    "collapsed": true,
    "slideshow": {
     "slide_type": "slide"
    }
   },
   "outputs": [],
   "source": [
    "from collections import Counter"
   ]
  },
  {
   "cell_type": "code",
   "execution_count": 29,
   "metadata": {
    "collapsed": true,
    "slideshow": {
     "slide_type": "fragment"
    }
   },
   "outputs": [],
   "source": [
    "term_counts = Counter()\n",
    "for t in tweets:\n",
    "    for x in t.lower().split():\n",
    "        term_counts[x] += 1"
   ]
  },
  {
   "cell_type": "code",
   "execution_count": 30,
   "metadata": {
    "slideshow": {
     "slide_type": "fragment"
    }
   },
   "outputs": [
    {
     "data": {
      "text/plain": [
       "[('the', 46),\n",
       " ('rt', 36),\n",
       " ('columbia', 35),\n",
       " ('a', 30),\n",
       " ('and', 24),\n",
       " ('to', 24),\n",
       " ('on', 18),\n",
       " ('of', 18),\n",
       " ('in', 16),\n",
       " ('did', 15)]"
      ]
     },
     "execution_count": 30,
     "metadata": {},
     "output_type": "execute_result"
    }
   ],
   "source": [
    "term_counts.most_common(10)"
   ]
  },
  {
   "cell_type": "code",
   "execution_count": 31,
   "metadata": {
    "slideshow": {
     "slide_type": "slide"
    }
   },
   "outputs": [
    {
     "data": {
      "text/plain": [
       "[<matplotlib.lines.Line2D at 0x7f8b35bb51d0>]"
      ]
     },
     "execution_count": 31,
     "metadata": {},
     "output_type": "execute_result"
    },
    {
     "data": {
      "image/png": "[encoded data removed]",
      "text/plain": [
       "<matplotlib.figure.Figure at 0x7f8b6cf7e780>"
      ]
     },
     "metadata": {},
     "output_type": "display_data"
    }
   ],
   "source": [
    "plt.plot([x[1] for x in term_counts.most_common()])"
   ]
  },
  {
   "cell_type": "code",
   "execution_count": 32,
   "metadata": {
    "collapsed": true,
    "slideshow": {
     "slide_type": "slide"
    }
   },
   "outputs": [],
   "source": [
    "cv = CountVectorizer(ngram_range=(1,2))\n",
    "X = cv.fit_transform(tweets)"
   ]
  },
  {
   "cell_type": "code",
   "execution_count": 33,
   "metadata": {
    "slideshow": {
     "slide_type": "fragment"
    }
   },
   "outputs": [
    {
     "data": {
      "text/plain": [
       "['00',\n",
       " '00 https',\n",
       " '000',\n",
       " '000 miles',\n",
       " '10',\n",
       " '10 17',\n",
       " '10 18',\n",
       " '10 for',\n",
       " '10 weeks',\n",
       " '10 would',\n",
       " '11660',\n",
       " '11660 rt',\n",
       " '117784',\n",
       " '117784 https',\n",
       " '12407',\n",
       " '12407 mls',\n",
       " '16',\n",
       " '16 10',\n",
       " '17',\n",
       " '17 at',\n",
       " '17 hear',\n",
       " '17 world',\n",
       " '18',\n",
       " '18 https',\n",
       " '18 join',\n",
       " '18 liongains',\n",
       " '18 show',\n",
       " '1971',\n",
       " '1971 jack',\n",
       " '1998',\n",
       " '1998 mercury',\n",
       " '1d4xomgis0',\n",
       " '1ubtv0fcrk',\n",
       " '20',\n",
       " '20 years',\n",
       " '202',\n",
       " '202 pine',\n",
       " '23',\n",
       " '23 ashland',\n",
       " '26',\n",
       " '26 months',\n",
       " '2768',\n",
       " '2768 decker',\n",
       " '28',\n",
       " '28 stay',\n",
       " '2nd',\n",
       " '2nd on',\n",
       " '2nd us',\n",
       " '2sbmake0bw',\n",
       " '2xhnafccgn',\n",
       " '2xhnafccgn available',\n",
       " '33mypazljj',\n",
       " '38',\n",
       " '38 organizations',\n",
       " '3ldf8kbns2',\n",
       " '3rd',\n",
       " '3rd placed',\n",
       " '3rd rankings',\n",
       " '3rmowlun12',\n",
       " '3rmowlun12 https',\n",
       " '3tnvaw9sgl',\n",
       " '46',\n",
       " '46 years',\n",
       " '4a5hh8l3cr',\n",
       " '4a5hh8l3cr shutte',\n",
       " '55',\n",
       " '55 columbia',\n",
       " '66',\n",
       " '66 000',\n",
       " '6f3z5sejmz',\n",
       " '6pm',\n",
       " '6pm mvb',\n",
       " '800',\n",
       " '800 https',\n",
       " '8pm',\n",
       " '8pm https',\n",
       " '9lgoini7ey',\n",
       " '9s',\n",
       " '9s are',\n",
       " '9uzzg1yfbr',\n",
       " 'abeoelqouz',\n",
       " 'accommodations',\n",
       " 'accommodations here',\n",
       " 'actually',\n",
       " 'actually hype',\n",
       " 'actually tied',\n",
       " 'adv',\n",
       " 'adv https',\n",
       " 'advance',\n",
       " 'advance as',\n",
       " 'adyk9gjqes',\n",
       " 'af',\n",
       " 'again',\n",
       " 'again this',\n",
       " 'ago',\n",
       " 'ago tonight',\n",
       " 'ahh',\n",
       " 'ahh thought',\n",
       " 'all',\n",
       " 'all columbia',\n",
       " 'allowed',\n",
       " 'also',\n",
       " 'also to',\n",
       " 'alternative',\n",
       " 'alternative flood',\n",
       " 'alumna',\n",
       " 'alumna whose',\n",
       " 'am',\n",
       " 'am amazing',\n",
       " 'amazing',\n",
       " 'amazing but',\n",
       " 'amazing curved',\n",
       " 'amazing glimpses',\n",
       " 'amdoubt',\n",
       " 'amdoubt spoonhead8',\n",
       " 'amdoubt stevendurack',\n",
       " 'amp',\n",
       " 'amp david',\n",
       " 'amp failed',\n",
       " 'amp jerry',\n",
       " 'amp online',\n",
       " 'amp swede',\n",
       " 'an',\n",
       " 'an alumna',\n",
       " 'an example',\n",
       " 'an official',\n",
       " 'an overview',\n",
       " 'and',\n",
       " 'and colombia',\n",
       " 'and development',\n",
       " 'and drag',\n",
       " 'and fish',\n",
       " 'and functionality',\n",
       " 'and goal',\n",
       " 'and having',\n",
       " 'and hungry',\n",
       " 'and instructors',\n",
       " 'and is',\n",
       " 'and it',\n",
       " 'and my',\n",
       " 'and polk',\n",
       " 'and prices',\n",
       " 'and the',\n",
       " 'animalrights',\n",
       " 'animalrights gnomeoffender',\n",
       " 'another',\n",
       " 'another great',\n",
       " 'anthem',\n",
       " 'anthem the',\n",
       " 'anybody',\n",
       " 'anybody wanna',\n",
       " 'are',\n",
       " 'are 10',\n",
       " 'are expected',\n",
       " 'are https',\n",
       " 'are now',\n",
       " 'aren',\n",
       " 'aren your',\n",
       " 'arforestrycomm',\n",
       " 'arforestrycomm columbia',\n",
       " 'around',\n",
       " 'around columbia',\n",
       " 'as',\n",
       " 'as one',\n",
       " 'ashland',\n",
       " 'ashland ny',\n",
       " 'at',\n",
       " 'at columbia',\n",
       " 'at dy',\n",
       " 'at htt',\n",
       " 'at murder',\n",
       " 'at ny',\n",
       " 'at the',\n",
       " 'athletica',\n",
       " 'athletica kelowna',\n",
       " 'atlantaoutlaws',\n",
       " 'atlantaoutlaws ahh',\n",
       " 'august',\n",
       " 'august has',\n",
       " 'available',\n",
       " 'available locally',\n",
       " 'b0icc2eipf',\n",
       " 'b5t7xqlvbr',\n",
       " 'back',\n",
       " 'back home',\n",
       " 'balances',\n",
       " 'balances conservation',\n",
       " 'ban',\n",
       " 'ban https',\n",
       " 'bans',\n",
       " 'bans increasing',\n",
       " 'basic',\n",
       " 'basic features',\n",
       " 'basically',\n",
       " 'basically hell',\n",
       " 'bc',\n",
       " 'bc kelowna',\n",
       " 'bc news',\n",
       " 'bc short',\n",
       " 'bc trip',\n",
       " 'beat',\n",
       " 'beat the',\n",
       " 'beat us',\n",
       " 'because',\n",
       " 'because running',\n",
       " 'beckett',\n",
       " 'beckett in',\n",
       " 'before',\n",
       " 'before the',\n",
       " 'believes',\n",
       " 'believes all',\n",
       " 'best',\n",
       " 'best 3rd',\n",
       " 'best doggos',\n",
       " 'best https',\n",
       " 'bgolnbgjbn',\n",
       " 'biological',\n",
       " 'biological sciences',\n",
       " 'blogotheque',\n",
       " 'blogotheque in',\n",
       " 'bluff',\n",
       " 'bluff road',\n",
       " 'blvd',\n",
       " 'blvd columbia',\n",
       " 'bobrae48',\n",
       " 'bobrae48 game',\n",
       " 'bogart',\n",
       " 'bogart march',\n",
       " 'bombard',\n",
       " 'bombard british',\n",
       " 'brdxi0qdcm',\n",
       " 'break',\n",
       " 'break but',\n",
       " 'breaker',\n",
       " 'breaker and',\n",
       " 'breaking',\n",
       " 'breaking support',\n",
       " 'bridge',\n",
       " 'bridge of',\n",
       " 'brisco',\n",
       " 'brisco vs',\n",
       " 'british',\n",
       " 'british columbia',\n",
       " 'brock',\n",
       " 'brock broido',\n",
       " 'broido',\n",
       " 'broido timothy',\n",
       " 'bucket',\n",
       " 'bucket list',\n",
       " 'burn',\n",
       " 'burn ban',\n",
       " 'burn bans',\n",
       " 'but',\n",
       " 'but ghana',\n",
       " 'but he',\n",
       " 'but hot',\n",
       " 'but there',\n",
       " 'but will',\n",
       " 'bwzfyphp9k',\n",
       " 'by',\n",
       " 'by columbia',\n",
       " 'by fascist',\n",
       " 'by henryschwartz7',\n",
       " 'by hogan',\n",
       " 'by points',\n",
       " 'by skype',\n",
       " 'campus',\n",
       " 'campus discourse',\n",
       " 'canada',\n",
       " 'canada job',\n",
       " 'canada like',\n",
       " 'canadian',\n",
       " 'canadian songbook',\n",
       " 'canvas',\n",
       " 'canvas register',\n",
       " 'capacity',\n",
       " 'capacity were',\n",
       " 'car',\n",
       " 'car even',\n",
       " 'carlosjnuva',\n",
       " 'carlosjnuva el',\n",
       " 'cascade',\n",
       " 'cascade locks',\n",
       " 'catch',\n",
       " 'catch up',\n",
       " 'cauhz',\n",
       " 'cauhz https',\n",
       " 'cbcbearcats',\n",
       " 'cbcbearcats columbia',\n",
       " 'ceremony',\n",
       " 'ceremony at',\n",
       " 'changer',\n",
       " 'changer https',\n",
       " 'charged',\n",
       " 'charged in',\n",
       " 'cheena1',\n",
       " 'cheena1 grizzly',\n",
       " 'cjjltrung0',\n",
       " 'cjjltrung0 https',\n",
       " 'classmate',\n",
       " 'classmate who',\n",
       " 'clearly',\n",
       " 'clearly wins',\n",
       " 'cmnvvkpytp',\n",
       " 'co',\n",
       " 'co 1d4xomgis0',\n",
       " 'co 1ubtv0fcrk',\n",
       " 'co 2sbmake0bw',\n",
       " 'co 2xhnafccgn',\n",
       " 'co 33mypazljj',\n",
       " 'co 3ldf8kbns2',\n",
       " 'co 3rmowlun12',\n",
       " 'co 3tnvaw9sgl',\n",
       " 'co 4a5hh8l3cr',\n",
       " 'co 6f3z5sejmz',\n",
       " 'co 9lgoini7ey',\n",
       " 'co 9uzzg1yfbr',\n",
       " 'co abeoelqouz',\n",
       " 'co adyk9gjqes',\n",
       " 'co b0icc2eipf',\n",
       " 'co b5t7xqlvbr',\n",
       " 'co bgolnbgjbn',\n",
       " 'co brdxi0qdcm',\n",
       " 'co bwzfyphp9k',\n",
       " 'co cjjltrung0',\n",
       " 'co cmnvvkpytp',\n",
       " 'co coua21',\n",
       " 'co dfqhwttexe',\n",
       " 'co dlorotzhzm',\n",
       " 'co eo',\n",
       " 'co f3m8oyjdoh',\n",
       " 'co f8osrlcilo',\n",
       " 'co fylhomvcd8',\n",
       " 'co fzpkkd6otj',\n",
       " 'co h91kjxp7vw',\n",
       " 'co ih9p7fmruk',\n",
       " 'co jhzf58l5ko',\n",
       " 'co jjvi71tlok',\n",
       " 'co jor7g4kjn3',\n",
       " 'co jztg9hgz2y',\n",
       " 'co knvrk9u92k',\n",
       " 'co kskixth7kf',\n",
       " 'co kwf9ticc4r',\n",
       " 'co l6izsghazd',\n",
       " 'co lhrk6cmjg0',\n",
       " 'co mf3epywzy5',\n",
       " 'co mflirp4pe7',\n",
       " 'co mjsoxvodkw',\n",
       " 'co mmqjua1ua0',\n",
       " 'co nsehoddz1k',\n",
       " 'co o199qwds6b',\n",
       " 'co og4fmomtjj',\n",
       " 'co okqyq44hoq',\n",
       " 'co pb0lk2c7u6',\n",
       " 'co pddzlkgnrs',\n",
       " 'co qixaqzzw9a',\n",
       " 'co qmmsjzlxlj',\n",
       " 'co qqjhyrhzbo',\n",
       " 'co qsxr5uc0cl',\n",
       " 'co qu',\n",
       " 'co qxjo1s9hfb',\n",
       " 'co ruoppmcd8e',\n",
       " 'co s09ib6gcgg',\n",
       " 'co sxdwcuflx8',\n",
       " 'co t1ungf7urj',\n",
       " 'co tzzd9vlaps',\n",
       " 'co usdrifp5bg',\n",
       " 'co uu1onw2hbc',\n",
       " 'co uww9ttmhyi',\n",
       " 'co vdcmtprsd1',\n",
       " 'co w6j1eqvzfa',\n",
       " 'co wjwcycn68m',\n",
       " 'co wlgll5t6be',\n",
       " 'co xizjwtvzmg',\n",
       " 'co yeke89ubjv',\n",
       " 'co yz7fqp3kcn',\n",
       " 'co zes0isqzvi',\n",
       " 'co zjef0fgakr',\n",
       " 'co zmtm9kkpo3',\n",
       " 'coast',\n",
       " 'coast because',\n",
       " 'colombia',\n",
       " 'colombia an',\n",
       " 'colombia beat',\n",
       " 'columbia',\n",
       " 'columbia 2nd',\n",
       " 'columbia alternative',\n",
       " 'columbia amazing',\n",
       " 'columbia and',\n",
       " 'columbia at',\n",
       " 'columbia by',\n",
       " 'columbia canada',\n",
       " 'columbia faculty',\n",
       " 'columbia finish',\n",
       " 'columbia football',\n",
       " 'columbia gorge',\n",
       " 'columbia heights',\n",
       " 'columbia honored',\n",
       " 'columbia https',\n",
       " 'columbia man',\n",
       " 'columbia md',\n",
       " 'columbia missouri',\n",
       " 'columbia my',\n",
       " 'columbia northwestern',\n",
       " 'columbia paddlewheeler',\n",
       " 'columbia photo',\n",
       " 'columbia pictures',\n",
       " 'columbia place',\n",
       " 'columbia republicans',\n",
       " 'columbia river',\n",
       " 'columbia sc',\n",
       " 'columbia territory',\n",
       " 'columbia thrashed',\n",
       " 'columbia today',\n",
       " 'columbia trobinsonnewera',\n",
       " 'columbia university',\n",
       " 'columbia vs',\n",
       " 'columbia was',\n",
       " 'columbia will',\n",
       " 'columbia_biz',\n",
       " 'columbia_biz again',\n",
       " 'columbia_county_arkansas',\n",
       " 'columbia_county_arkansas under',\n",
       " 'columbiactl',\n",
       " 'columbiactl workshop',\n",
       " 'columbiagivingday',\n",
       " 'columbiagivingday https',\n",
       " 'columbiagivingday is',\n",
       " 'columbialionsfb',\n",
       " 'columbialionsfb john',\n",
       " 'columbialionsfb there',\n",
       " 'columbiasoa',\n",
       " 'columbiasoa 10',\n",
       " 'combmyafro',\n",
       " 'combmyafro ussoccer_ynt',\n",
       " 'come',\n",
       " 'come to',\n",
       " 'comedy',\n",
       " 'comedy house',\n",
       " 'comedyhouse',\n",
       " 'comedyhouse comedy',\n",
       " 'community',\n",
       " 'community https',\n",
       " 'confusing',\n",
       " 'confusing in',\n",
       " 'conservation',\n",
       " 'conservation and',\n",
       " 'contemplative',\n",
       " 'contemplative practices',\n",
       " 'continue',\n",
       " 'continue upward',\n",
       " 'control',\n",
       " 'control and',\n",
       " 'conversation',\n",
       " 'conversation classmate',\n",
       " 'cooperate',\n",
       " 'cooperate investigators',\n",
       " 'cotton',\n",
       " 'cotton eyed',\n",
       " 'coua21',\n",
       " 'counties',\n",
       " 'counties are',\n",
       " 'country',\n",
       " 'country tis',\n",
       " 'courseworks',\n",
       " 'courseworks canvas',\n",
       " 'crap',\n",
       " 'crap out',\n",
       " 'culionssoftball',\n",
       " 'culionssoftball columbiagivingday',\n",
       " 'cup',\n",
       " 'cup usa',\n",
       " 'curved',\n",
       " 'curved free',\n",
       " 'dams',\n",
       " 'dams mt',\n",
       " 'date',\n",
       " 'date columbiagivingday',\n",
       " 'david',\n",
       " 'david helf',\n",
       " 'day',\n",
       " 'day cbcbearcats',\n",
       " 'death',\n",
       " 'death in',\n",
       " 'deborah',\n",
       " 'deborah mowshowitz',\n",
       " 'december',\n",
       " 'december 16',\n",
       " 'decent',\n",
       " 'decent target',\n",
       " 'decker',\n",
       " 'decker blvd',\n",
       " 'declared',\n",
       " 'declared at',\n",
       " 'deep',\n",
       " 'deep learning',\n",
       " 'delayed',\n",
       " 'delayed for',\n",
       " 'dept',\n",
       " 'dept of',\n",
       " 'desert',\n",
       " 'desert columbia',\n",
       " 'desperate',\n",
       " 'desperate hou',\n",
       " 'development',\n",
       " 'development https',\n",
       " 'dfqhwttexe',\n",
       " 'dfqhwttexe animalrights',\n",
       " 'did',\n",
       " 'did not',\n",
       " 'did speech',\n",
       " 'did teenage',\n",
       " 'difference',\n",
       " 'difference columbia',\n",
       " 'difference it',\n",
       " 'different',\n",
       " 'different takes',\n",
       " 'differential',\n",
       " 'differential is',\n",
       " 'discourse',\n",
       " 'discourse just',\n",
       " 'disguise',\n",
       " 'disguise say',\n",
       " 'district',\n",
       " 'district of',\n",
       " 'dlorotzhzm',\n",
       " 'doggos',\n",
       " 'doggos tackle',\n",
       " 'don',\n",
       " 'don come',\n",
       " 'don get',\n",
       " 'don talk',\n",
       " 'donnelly',\n",
       " 'donnelly dorothea',\n",
       " 'dorothea',\n",
       " 'dorothea lasky',\n",
       " 'drag',\n",
       " 'drag me',\n",
       " 'during',\n",
       " 'during restaurant',\n",
       " 'dy',\n",
       " 'dy patil',\n",
       " 'eastward',\n",
       " 'eastward photo',\n",
       " 'eduharlem',\n",
       " 'eduharlem gives',\n",
       " 'either',\n",
       " 'either but',\n",
       " 'el',\n",
       " 'el transbordador',\n",
       " 'eluta',\n",
       " 'eluta https',\n",
       " 'eo',\n",
       " 'espacial',\n",
       " 'espacial columbia',\n",
       " 'estate',\n",
       " 'estate https',\n",
       " 'estate sales',\n",
       " 'etc',\n",
       " 'etc columbiasoa',\n",
       " 'even',\n",
       " 'even if',\n",
       " 'example',\n",
       " 'example to',\n",
       " 'excited',\n",
       " 'excited to',\n",
       " 'expected',\n",
       " 'expected to',\n",
       " 'explorebc',\n",
       " 'explorebc https',\n",
       " 'explorecanada',\n",
       " 'explorecanada mt',\n",
       " 'eyed',\n",
       " 'eyed joe',\n",
       " 'f3m8oyjdoh',\n",
       " 'f8osrlcilo',\n",
       " 'f8osrlcilo https',\n",
       " 'faculty',\n",
       " 'faculty and',\n",
       " 'faculty deborah',\n",
       " 'failed',\n",
       " 'failed to',\n",
       " 'falls',\n",
       " 'falls to',\n",
       " 'family',\n",
       " 'family kelowna',\n",
       " 'family retail',\n",
       " 'far_right_watch',\n",
       " 'far_right_watch so',\n",
       " 'farmers',\n",
       " 'farmers of',\n",
       " 'fascist',\n",
       " 'fascist tommy',\n",
       " 'favorite',\n",
       " 'favorite star',\n",
       " 'features',\n",
       " 'features and',\n",
       " 'federal',\n",
       " 'federal register',\n",
       " 'feinstein',\n",
       " 'feinstein of',\n",
       " 'felizlunes',\n",
       " 'felizlunes https',\n",
       " 'fer',\n",
       " 'fer vaca',\n",
       " 'film',\n",
       " 'film on',\n",
       " 'finish',\n",
       " 'finish 2nd',\n",
       " 'fire',\n",
       " 'fire is',\n",
       " 'fish',\n",
       " 'fish operations',\n",
       " 'fishing',\n",
       " 'fishing bc',\n",
       " 'fishing in',\n",
       " 'fitfam',\n",
       " 'fitfam we',\n",
       " 'flood',\n",
       " 'flood control',\n",
       " 'focused',\n",
       " 'focused there',\n",
       " 'folks',\n",
       " 'folks don',\n",
       " 'football',\n",
       " 'football by',\n",
       " 'football homecoming',\n",
       " 'football ht',\n",
       " 'for',\n",
       " 'for 26',\n",
       " 'for columbia',\n",
       " 'for columbia_biz',\n",
       " 'for faculty',\n",
       " 'for george',\n",
       " 'for our',\n",
       " 'for slow',\n",
       " 'for the',\n",
       " 'for upcoming',\n",
       " 'for your',\n",
       " 'fox',\n",
       " 'fox news',\n",
       " 'foxnews',\n",
       " 'foxnews potent',\n",
       " 'foxsoccer',\n",
       " 'foxsoccer they',\n",
       " 'free',\n",
       " 'free ki',\n",
       " 'from',\n",
       " 'from blogotheque',\n",
       " 'from our',\n",
       " 'from the',\n",
       " 'from walgreens',\n",
       " 'functionality',\n",
       " 'functionality courseworks',\n",
       " 'fylhomvcd8',\n",
       " 'fzpkkd6otj',\n",
       " 'game',\n",
       " 'game changer',\n",
       " 'game day',\n",
       " 'game you',\n",
       " 'gary',\n",
       " 'gary hart',\n",
       " 'gd',\n",
       " 'gd goals',\n",
       " 'george',\n",
       " 'george washington',\n",
       " 'get',\n",
       " 'get an',\n",
       " 'get sidetracked',\n",
       " 'gets',\n",
       " 'gets very',\n",
       " 'ghana',\n",
       " 'ghana clearly',\n",
       " 'ghana won',\n",
       " 'girls',\n",
       " 'girls in',\n",
       " 'gives',\n",
       " 'gives amazing',\n",
       " 'glimpses',\n",
       " 'glimpses of',\n",
       " 'gnomeoffender',\n",
       " 'gnomeoffender que',\n",
       " 'go',\n",
       " 'go through',\n",
       " 'go to',\n",
       " 'go well',\n",
       " 'goal',\n",
       " 'goal difference',\n",
       " 'goal differential',\n",
       " 'goals',\n",
       " 'goals allowed',\n",
       " 'goals scored',\n",
       " 'gocascades',\n",
       " 'gocascades https',\n",
       " 'gocolumbialions',\n",
       " 'gocolumbialions we',\n",
       " 'gods',\n",
       " 'gods and',\n",
       " 'gods photo',\n",
       " 'going',\n",
       " 'going on',\n",
       " 'good',\n",
       " 'good on',\n",
       " 'gorge',\n",
       " 'gorge looking',\n",
       " 'gorge while',\n",
       " 'gray',\n",
       " 'gray https',\n",
       " 'great',\n",
       " 'great canadian',\n",
       " 'great piece',\n",
       " 'greatervan_news',\n",
       " 'greatervan_news bc',\n",
       " 'grizzly',\n",
       " 'grizzly meat',\n",
       " 'group',\n",
       " 'group but',\n",
       " 'group columbia',\n",
       " 'group on',\n",
       " 'guy',\n",
       " 'guy from',\n",
       " 'h91kjxp7vw',\n",
       " 'had',\n",
       " 'had an',\n",
       " 'had long',\n",
       " 'hail',\n",
       " 'hail columbia',\n",
       " 'hanson',\n",
       " 'hanson manager',\n",
       " 'hardy',\n",
       " 'hardy british',\n",
       " 'harlem',\n",
       " 'harlem see',\n",
       " 'hart',\n",
       " 'hart 46',\n",
       " 'has',\n",
       " 'has shaken',\n",
       " 'having',\n",
       " 'having decent',\n",
       " 'hawk',\n",
       " 'hawk amp',\n",
       " 'he',\n",
       " 'he ho',\n",
       " 'head',\n",
       " 'head to',\n",
       " 'hear',\n",
       " 'hear from',\n",
       " 'heights',\n",
       " 'heights is',\n",
       " 'helf',\n",
       " 'helf https',\n",
       " 'hell',\n",
       " 'hell yeah',\n",
       " 'hellobc',\n",
       " 'hellobc unusual',\n",
       " 'help',\n",
       " 'help liongains',\n",
       " 'henryschwartz7',\n",
       " 'henryschwartz7 https',\n",
       " 'here',\n",
       " 'here are',\n",
       " 'here what',\n",
       " 'him',\n",
       " 'him on',\n",
       " 'his',\n",
       " 'his travels',\n",
       " 'ho',\n",
       " 'ho https',\n",
       " 'hogan',\n",
       " 'hogan https',\n",
       " 'hogansog',\n",
       " 'hogansog bridge',\n",
       " 'hogansog cascade',\n",
       " 'hogansog columbia',\n",
       " 'hogansog the',\n",
       " 'home',\n",
       " 'home columbia',\n",
       " 'homecoming',\n",
       " 'homecoming game',\n",
       " 'honored',\n",
       " 'honored kim',\n",
       " 'horse',\n",
       " 'horse dams',\n",
       " 'hot',\n",
       " 'hot hot',\n",
       " 'hot went',\n",
       " 'hou',\n",
       " 'hou https',\n",
       " 'house',\n",
       " 'house 2768',\n",
       " 'house https',\n",
       " 'house on',\n",
       " 'how',\n",
       " 'how did',\n",
       " 'how ghana',\n",
       " 'ht',\n",
       " 'htt',\n",
       " 'https',\n",
       " 'https co',\n",
       " 'hungry',\n",
       " 'hungry here',\n",
       " 'hungry horse',\n",
       " 'hunt',\n",
       " 'hunt in',\n",
       " 'hunt is',\n",
       " 'hype',\n",
       " 'hype around',\n",
       " 'icing',\n",
       " 'icing on',\n",
       " 'if',\n",
       " 'if was',\n",
       " 'if you',\n",
       " 'ih9p7fmruk',\n",
       " 'ih9p7fmruk adv',\n",
       " 'in',\n",
       " 'in 20',\n",
       " 'in august',\n",
       " 'in columbia',\n",
       " 'in disguise',\n",
       " 'in group',\n",
       " 'in harlem',\n",
       " 'in https',\n",
       " 'in kamloops',\n",
       " 'in port',\n",
       " 'in route',\n",
       " 'in september',\n",
       " 'in south',\n",
       " 'in the',\n",
       " 'in this',\n",
       " 'in virginia',\n",
       " 'in washington',\n",
       " 'inaugural',\n",
       " 'inaugural max',\n",
       " 'inauguration',\n",
       " 'inauguration and',\n",
       " 'include',\n",
       " 'include columbia',\n",
       " 'including',\n",
       " 'including am',\n",
       " 'increasing',\n",
       " 'increasing the',\n",
       " 'innocent',\n",
       " 'innocent https',\n",
       " 'instructors',\n",
       " 'instructors https',\n",
       " 'investigators',\n",
       " 'investigators for',\n",
       " 'is',\n",
       " 'is basically',\n",
       " 'is meh',\n",
       " 'is next',\n",
       " 'is not',\n",
       " 'is oct',\n",
       " 'is pretty',\n",
       " 'is so',\n",
       " 'is the',\n",
       " 'is trophy',\n",
       " 'it',\n",
       " 'it did',\n",
       " 'it gets',\n",
       " 'it on',\n",
       " 'it tough',\n",
       " 'it was',\n",
       " 'jack',\n",
       " 'jack amp',\n",
       " 'jerry',\n",
       " 'jerry brisco',\n",
       " 'jhzf58l5ko',\n",
       " 'jjvi71tlok',\n",
       " 'job',\n",
       " 'job family',\n",
       " 'joe',\n",
       " 'joe on',\n",
       " 'john',\n",
       " 'john feinstein',\n",
       " 'join',\n",
       " 'join us',\n",
       " 'jor7g4kjn3',\n",
       " 'joshmartin95',\n",
       " 'joshmartin95 if',\n",
       " 'journalism',\n",
       " 'journalism community',\n",
       " 'just',\n",
       " 'just fitfam',\n",
       " 'just had',\n",
       " 'just posted',\n",
       " 'jztg9hgz2y',\n",
       " 'kamloops',\n",
       " 'kamloops https',\n",
       " 'kelowna',\n",
       " 'kelowna bc',\n",
       " 'kelowna british',\n",
       " 'kelowna eluta',\n",
       " 'key',\n",
       " 'key leader',\n",
       " 'ki',\n",
       " 'ki https',\n",
       " 'kid',\n",
       " 'kid my',\n",
       " 'killing',\n",
       " 'killing https',\n",
       " 'kim',\n",
       " 'kim wall',\n",
       " 'knockout',\n",
       " 'knockout rounds',\n",
       " 'knvrk9u92k',\n",
       " 'knvrk9u92k gocascades',\n",
       " 'kremlincardinal',\n",
       " 'kremlincardinal 16',\n",
       " 'kskixth7kf',\n",
       " 'kwf9ticc4r',\n",
       " 'kwf9ticc4r thestate',\n",
       " 'l6izsghazd',\n",
       " 'lasky',\n",
       " 'lasky etc',\n",
       " 'laws',\n",
       " 'laws in',\n",
       " 'leader',\n",
       " 'leader lululemon',\n",
       " 'learning',\n",
       " 'learning contemplative',\n",
       " 'leave',\n",
       " 'leave laws',\n",
       " 'left',\n",
       " 'let',\n",
       " 'let these',\n",
       " 'lhrk6cmjg0',\n",
       " 'libby',\n",
       " 'libby and',\n",
       " 'like',\n",
       " 'like british',\n",
       " 'lionfam',\n",
       " 'lionfam show',\n",
       " 'liongains',\n",
       " 'liongains at',\n",
       " 'liongains columbiagivingday',\n",
       " 'list',\n",
       " 'list https',\n",
       " 'listing',\n",
       " 'listing on',\n",
       " 'living',\n",
       " 'living miles',\n",
       " 'lm',\n",
       " 'lm goals',\n",
       " 'locally',\n",
       " 'locally amp',\n",
       " 'locks',\n",
       " 'locks on',\n",
       " 'lone',\n",
       " 'lone wolf',\n",
       " 'long',\n",
       " 'long conversation',\n",
       " 'looking',\n",
       " 'looking eastward',\n",
       " 'looking toward',\n",
       " 'lord_gow',\n",
       " 'lord_gow shoutout',\n",
       " 'loses',\n",
       " 'loses to',\n",
       " 'lucie',\n",
       " 'lucie brock',\n",
       " 'lululemon',\n",
       " 'lululemon athletica',\n",
       " 'mainly',\n",
       " 'mainly hail',\n",
       " 'makinghistory',\n",
       " 'makinghistory roarlionroa',\n",
       " 'man',\n",
       " 'man charged',\n",
       " 'manager',\n",
       " 'manager gary',\n",
       " 'march',\n",
       " 'march thr',\n",
       " 'max',\n",
       " 'max ritvo',\n",
       " 'may',\n",
       " 'may advance',\n",
       " 'md',\n",
       " 'md https',\n",
       " 'me',\n",
       " 'me and',\n",
       " 'me either',\n",
       " 'me to',\n",
       " 'means',\n",
       " 'means to',\n",
       " 'meat',\n",
       " 'meat hunt',\n",
       " 'meh',\n",
       " 'meh af',\n",
       " 'mercury',\n",
       " 'mercury villager',\n",
       " 'met',\n",
       " 'met that',\n",
       " 'mf3epywzy5',\n",
       " 'mflirp4pe7',\n",
       " 'miles',\n",
       " 'miles 1998',\n",
       " 'miles from',\n",
       " 'mini',\n",
       " 'mini van',\n",
       " ...]"
      ]
     },
     "execution_count": 33,
     "metadata": {},
     "output_type": "execute_result"
    }
   ],
   "source": [
    "cv.get_feature_names()"
   ]
  },
  {
   "cell_type": "code",
   "execution_count": 34,
   "metadata": {
    "slideshow": {
     "slide_type": "slide"
    }
   },
   "outputs": [
    {
     "data": {
      "text/plain": [
       "['10',\n",
       " '10 18',\n",
       " '10 let',\n",
       " '10 weeks',\n",
       " '16',\n",
       " '16 10',\n",
       " '17',\n",
       " '18',\n",
       " '18 join',\n",
       " '2nd',\n",
       " '2xhnafccgn',\n",
       " '2xhnafccgn available',\n",
       " '3rd',\n",
       " '9s',\n",
       " '9s expected',\n",
       " 'actually',\n",
       " 'advance',\n",
       " 'amazing',\n",
       " 'amdoubt',\n",
       " 'amdoubt spoonhead8',\n",
       " 'amp',\n",
       " 'amp online',\n",
       " 'athletica',\n",
       " 'athletica kelowna',\n",
       " 'available',\n",
       " 'available locally',\n",
       " 'bc',\n",
       " 'bc kelowna',\n",
       " 'beat',\n",
       " 'best',\n",
       " 'best doggos',\n",
       " 'bobrae48',\n",
       " 'bobrae48 game',\n",
       " 'bombard',\n",
       " 'bombard british',\n",
       " 'bridge',\n",
       " 'bridge gods',\n",
       " 'british',\n",
       " 'british columbia',\n",
       " 'burn',\n",
       " 'canada',\n",
       " 'canada job',\n",
       " 'car',\n",
       " 'car perfectly',\n",
       " 'changer',\n",
       " 'changer https',\n",
       " 'cmnvvkpytp',\n",
       " 'colombia',\n",
       " 'columbia',\n",
       " 'columbia 2nd',\n",
       " 'columbia canada',\n",
       " 'columbia football',\n",
       " 'columbia https',\n",
       " 'columbia missouri',\n",
       " 'columbia northwestern',\n",
       " 'columbia photo',\n",
       " 'columbia river',\n",
       " 'columbia sc',\n",
       " 'columbia trobinsonnewera',\n",
       " 'columbiagivingday',\n",
       " 'combmyafro',\n",
       " 'combmyafro ussoccer_ynt',\n",
       " 'contemplative',\n",
       " 'contemplative practices',\n",
       " 'deep',\n",
       " 'deep learning',\n",
       " 'did',\n",
       " 'did https',\n",
       " 'did speech',\n",
       " 'difference',\n",
       " 'doggos',\n",
       " 'doggos tackle',\n",
       " 'don',\n",
       " 'drag',\n",
       " 'drag patrol',\n",
       " 'eastward',\n",
       " 'eastward photo',\n",
       " 'eluta',\n",
       " 'eluta https',\n",
       " 'expected',\n",
       " 'expected receive',\n",
       " 'f3m8oyjdoh',\n",
       " 'faculty',\n",
       " 'faculty instructors',\n",
       " 'family',\n",
       " 'far_right_watch',\n",
       " 'far_right_watch racist',\n",
       " 'football',\n",
       " 'football henryschwartz7',\n",
       " 'fox',\n",
       " 'fox news',\n",
       " 'fylhomvcd8',\n",
       " 'game',\n",
       " 'game changer',\n",
       " 'ghana',\n",
       " 'goal',\n",
       " 'goal difference',\n",
       " 'gods',\n",
       " 'gods columbia',\n",
       " 'gods photo',\n",
       " 'gorge',\n",
       " 'gorge looking',\n",
       " 'great',\n",
       " 'great piece',\n",
       " 'group',\n",
       " 'hail',\n",
       " 'hail columbia',\n",
       " 'head',\n",
       " 'head head',\n",
       " 'henryschwartz7',\n",
       " 'henryschwartz7 https',\n",
       " 'hogan',\n",
       " 'hogan https',\n",
       " 'hogansog',\n",
       " 'hogansog bridge',\n",
       " 'hogansog columbia',\n",
       " 'hogansog sternwheeler',\n",
       " 'house',\n",
       " 'https',\n",
       " 'https 2xhnafccgn',\n",
       " 'https cmnvvkpytp',\n",
       " 'https f3m8oyjdoh',\n",
       " 'https fylhomvcd8',\n",
       " 'https okqyq44hoq',\n",
       " 'https qu',\n",
       " 'https sxdwcuflx8',\n",
       " 'https vdcmtprsd1',\n",
       " 'hungry',\n",
       " 'innocent',\n",
       " 'innocent https',\n",
       " 'instructors',\n",
       " 'instructors https',\n",
       " 'job',\n",
       " 'job family',\n",
       " 'join',\n",
       " 'join slow',\n",
       " 'just',\n",
       " 'kelowna',\n",
       " 'kelowna bc',\n",
       " 'kelowna british',\n",
       " 'key',\n",
       " 'key leader',\n",
       " 'leader',\n",
       " 'leader lululemon',\n",
       " 'learning',\n",
       " 'learning contemplative',\n",
       " 'let',\n",
       " 'let best',\n",
       " 'liongains',\n",
       " 'locally',\n",
       " 'locally amp',\n",
       " 'looking',\n",
       " 'looking eastward',\n",
       " 'lululemon',\n",
       " 'lululemon athletica',\n",
       " 'miles',\n",
       " 'missouri',\n",
       " 'missouri https',\n",
       " 'mt',\n",
       " 'news',\n",
       " 'news https',\n",
       " 'northwestern',\n",
       " 'northwestern fox',\n",
       " 'nov',\n",
       " 'ny',\n",
       " 'ny university',\n",
       " 'oct',\n",
       " 'oct 18',\n",
       " 'okqyq44hoq',\n",
       " 'online',\n",
       " 'online columbia',\n",
       " 'pacific',\n",
       " 'pacific bombard',\n",
       " 'patrol',\n",
       " 'patrol car',\n",
       " 'perfectly',\n",
       " 'perfectly innocent',\n",
       " 'photo',\n",
       " 'photo hogan',\n",
       " 'piece',\n",
       " 'piece columbia',\n",
       " 'playing',\n",
       " 'potent',\n",
       " 'potent storms',\n",
       " 'practices',\n",
       " 'practices faculty',\n",
       " 'pretty',\n",
       " 'qu',\n",
       " 'racist',\n",
       " 'racist thug',\n",
       " 'receive',\n",
       " 'receive vests',\n",
       " 'register',\n",
       " 'river',\n",
       " 'river gorge',\n",
       " 'river photo',\n",
       " 'robinson',\n",
       " 'robinson did',\n",
       " 'rooshv',\n",
       " 'rt',\n",
       " 'rt bobrae48',\n",
       " 'rt far_right_watch',\n",
       " 'rt hogansog',\n",
       " 'saffiya_khan1',\n",
       " 'saffiya_khan1 therebeltv',\n",
       " 'say',\n",
       " 'sc',\n",
       " 'skype',\n",
       " 'skype did',\n",
       " 'slow',\n",
       " 'slow teaching',\n",
       " 'speech',\n",
       " 'speech ny',\n",
       " 'spoonhead8',\n",
       " 'spoonhead8 saffiya_khan1',\n",
       " 'state',\n",
       " 'stay',\n",
       " 'sternwheeler',\n",
       " 'sternwheeler columbia',\n",
       " 'stevendurack',\n",
       " 'stevendurack spoonhead8',\n",
       " 'storms',\n",
       " 'storms pacific',\n",
       " 'support',\n",
       " 'sxdwcuflx8',\n",
       " 'tackle',\n",
       " 'tackle drag',\n",
       " 'teaching',\n",
       " 'teaching deep',\n",
       " 'therebeltv',\n",
       " 'therebeltv columbia',\n",
       " 'thug',\n",
       " 'thug tommy',\n",
       " 'time',\n",
       " 'tommy',\n",
       " 'tommy robinson',\n",
       " 'tonight',\n",
       " 'trial',\n",
       " 'trobinsonnewera',\n",
       " 'university',\n",
       " 'university skype',\n",
       " 'usa',\n",
       " 'ussoccer_ynt',\n",
       " 'ussoccer_ynt ghana',\n",
       " 'vdcmtprsd1',\n",
       " 'vests',\n",
       " 'vests 10',\n",
       " 'vs',\n",
       " 'war',\n",
       " 'washington',\n",
       " 'week',\n",
       " 'weeks',\n",
       " 'weeks https',\n",
       " 'williamdbaker',\n",
       " 'williamdbaker amdoubt',\n",
       " 'williamdbaker stevendurack',\n",
       " 'won',\n",
       " 'workshop',\n",
       " 'workshop oct',\n",
       " 'world',\n",
       " 'years']"
      ]
     },
     "execution_count": 34,
     "metadata": {},
     "output_type": "execute_result"
    }
   ],
   "source": [
    "cv = CountVectorizer(ngram_range=(1,2), min_df=2, stop_words='english')\n",
    "X = cv.fit_transform(tweets)\n",
    "cv.get_feature_names()"
   ]
  },
  {
   "cell_type": "code",
   "execution_count": 35,
   "metadata": {
    "slideshow": {
     "slide_type": "slide"
    }
   },
   "outputs": [
    {
     "data": {
      "text/plain": [
       "'@CombMyAfro @ussoccer_ynt But Ghana clearly wins the group on goal difference. Columbia 2nd, US 3rd. Rankings are n… https://t.co/joR7g4KJN3'"
      ]
     },
     "execution_count": 35,
     "metadata": {},
     "output_type": "execute_result"
    }
   ],
   "source": [
    "tweets[0]"
   ]
  },
  {
   "cell_type": "code",
   "execution_count": 36,
   "metadata": {
    "slideshow": {
     "slide_type": "fragment"
    }
   },
   "outputs": [
    {
     "name": "stdout",
     "output_type": "stream",
     "text": [
      "  (0, 49)\t1\n",
      "  (0, 96)\t1\n",
      "  (0, 243)\t1\n",
      "  (0, 61)\t1\n",
      "  (0, 118)\t1\n",
      "  (0, 12)\t1\n",
      "  (0, 9)\t1\n",
      "  (0, 48)\t1\n",
      "  (0, 69)\t1\n",
      "  (0, 95)\t1\n",
      "  (0, 104)\t1\n",
      "  (0, 94)\t1\n",
      "  (0, 242)\t1\n",
      "  (0, 60)\t1\n"
     ]
    }
   ],
   "source": [
    "print(X[0])"
   ]
  },
  {
   "cell_type": "code",
   "execution_count": 37,
   "metadata": {
    "slideshow": {
     "slide_type": "fragment"
    }
   },
   "outputs": [
    {
     "data": {
      "text/plain": [
       "'https'"
      ]
     },
     "execution_count": 37,
     "metadata": {},
     "output_type": "execute_result"
    }
   ],
   "source": [
    "cv.get_feature_names()[118]"
   ]
  },
  {
   "cell_type": "code",
   "execution_count": 38,
   "metadata": {
    "collapsed": true,
    "slideshow": {
     "slide_type": "slide"
    }
   },
   "outputs": [],
   "source": [
    "tfidf = TfidfVectorizer(ngram_range=(1,2), min_df=2, stop_words='english')\n",
    "X = tfidf.fit_transform(tweets)"
   ]
  },
  {
   "cell_type": "code",
   "execution_count": 39,
   "metadata": {
    "slideshow": {
     "slide_type": "fragment"
    }
   },
   "outputs": [
    {
     "name": "stdout",
     "output_type": "stream",
     "text": [
      "  (0, 60)\t0.276815064174\n",
      "  (0, 242)\t0.276815064174\n",
      "  (0, 94)\t0.295646467598\n",
      "  (0, 104)\t0.276815064174\n",
      "  (0, 95)\t0.276815064174\n",
      "  (0, 69)\t0.295646467598\n",
      "  (0, 48)\t0.0963548337156\n",
      "  (0, 9)\t0.276815064174\n",
      "  (0, 12)\t0.295646467598\n",
      "  (0, 118)\t0.0807171894884\n",
      "  (0, 61)\t0.276815064174\n",
      "  (0, 243)\t0.295646467598\n",
      "  (0, 96)\t0.295646467598\n",
      "  (0, 49)\t0.295646467598\n"
     ]
    }
   ],
   "source": [
    "print(X[0])"
   ]
  },
  {
   "cell_type": "code",
   "execution_count": 40,
   "metadata": {
    "collapsed": true,
    "slideshow": {
     "slide_type": "slide"
    }
   },
   "outputs": [],
   "source": [
    "import spacy"
   ]
  },
  {
   "cell_type": "code",
   "execution_count": 41,
   "metadata": {
    "collapsed": true,
    "slideshow": {
     "slide_type": "fragment"
    }
   },
   "outputs": [],
   "source": [
    "nlp = spacy.load('en')"
   ]
  },
  {
   "cell_type": "code",
   "execution_count": 42,
   "metadata": {
    "slideshow": {
     "slide_type": "fragment"
    }
   },
   "outputs": [
    {
     "data": {
      "text/plain": [
       "@CombMyAfro @ussoccer_ynt But Ghana clearly wins the group on goal difference. Columbia 2nd, US 3rd. Rankings are n… https://t.co/joR7g4KJN3"
      ]
     },
     "execution_count": 42,
     "metadata": {},
     "output_type": "execute_result"
    }
   ],
   "source": [
    "doc = nlp(tweets[0])\n",
    "dochttp://localhost:8888/tree"
   ]
  },
  {
   "cell_type": "code",
   "execution_count": 43,
   "metadata": {
    "slideshow": {
     "slide_type": "slide"
    }
   },
   "outputs": [
    {
     "data": {
      "text/html": [
       "<div>\n",
       "<style>\n",
       "    .dataframe thead tr:only-child th {\n",
       "        text-align: right;\n",
       "    }\n",
       "\n",
       "    .dataframe thead th {\n",
       "        text-align: left;\n",
       "    }\n",
       "\n",
       "    .dataframe tbody tr th {\n",
       "        vertical-align: top;\n",
       "    }\n",
       "</style>\n",
       "<table border=\"1\" class=\"dataframe\">\n",
       "  <thead>\n",
       "    <tr style=\"text-align: right;\">\n",
       "      <th></th>\n",
       "      <th>token</th>\n",
       "      <th>pos</th>\n",
       "    </tr>\n",
       "  </thead>\n",
       "  <tbody>\n",
       "    <tr>\n",
       "      <th>0</th>\n",
       "      <td>@CombMyAfro</td>\n",
       "      <td>NOUN</td>\n",
       "    </tr>\n",
       "    <tr>\n",
       "      <th>1</th>\n",
       "      <td>@ussoccer_ynt</td>\n",
       "      <td>PROPN</td>\n",
       "    </tr>\n",
       "    <tr>\n",
       "      <th>2</th>\n",
       "      <td>But</td>\n",
       "      <td>CCONJ</td>\n",
       "    </tr>\n",
       "    <tr>\n",
       "      <th>3</th>\n",
       "      <td>Ghana</td>\n",
       "      <td>PROPN</td>\n",
       "    </tr>\n",
       "    <tr>\n",
       "      <th>4</th>\n",
       "      <td>clearly</td>\n",
       "      <td>ADV</td>\n",
       "    </tr>\n",
       "    <tr>\n",
       "      <th>5</th>\n",
       "      <td>wins</td>\n",
       "      <td>VERB</td>\n",
       "    </tr>\n",
       "    <tr>\n",
       "      <th>6</th>\n",
       "      <td>the</td>\n",
       "      <td>DET</td>\n",
       "    </tr>\n",
       "    <tr>\n",
       "      <th>7</th>\n",
       "      <td>group</td>\n",
       "      <td>NOUN</td>\n",
       "    </tr>\n",
       "    <tr>\n",
       "      <th>8</th>\n",
       "      <td>on</td>\n",
       "      <td>ADP</td>\n",
       "    </tr>\n",
       "    <tr>\n",
       "      <th>9</th>\n",
       "      <td>goal</td>\n",
       "      <td>NOUN</td>\n",
       "    </tr>\n",
       "    <tr>\n",
       "      <th>10</th>\n",
       "      <td>difference</td>\n",
       "      <td>NOUN</td>\n",
       "    </tr>\n",
       "    <tr>\n",
       "      <th>11</th>\n",
       "      <td>.</td>\n",
       "      <td>PUNCT</td>\n",
       "    </tr>\n",
       "    <tr>\n",
       "      <th>12</th>\n",
       "      <td>Columbia</td>\n",
       "      <td>PROPN</td>\n",
       "    </tr>\n",
       "    <tr>\n",
       "      <th>13</th>\n",
       "      <td>2nd</td>\n",
       "      <td>NOUN</td>\n",
       "    </tr>\n",
       "    <tr>\n",
       "      <th>14</th>\n",
       "      <td>,</td>\n",
       "      <td>PUNCT</td>\n",
       "    </tr>\n",
       "    <tr>\n",
       "      <th>15</th>\n",
       "      <td>US</td>\n",
       "      <td>PROPN</td>\n",
       "    </tr>\n",
       "    <tr>\n",
       "      <th>16</th>\n",
       "      <td>3rd</td>\n",
       "      <td>NOUN</td>\n",
       "    </tr>\n",
       "    <tr>\n",
       "      <th>17</th>\n",
       "      <td>.</td>\n",
       "      <td>PUNCT</td>\n",
       "    </tr>\n",
       "    <tr>\n",
       "      <th>18</th>\n",
       "      <td>Rankings</td>\n",
       "      <td>NOUN</td>\n",
       "    </tr>\n",
       "    <tr>\n",
       "      <th>19</th>\n",
       "      <td>are</td>\n",
       "      <td>VERB</td>\n",
       "    </tr>\n",
       "    <tr>\n",
       "      <th>20</th>\n",
       "      <td>n</td>\n",
       "      <td>ADV</td>\n",
       "    </tr>\n",
       "    <tr>\n",
       "      <th>21</th>\n",
       "      <td>…</td>\n",
       "      <td>PUNCT</td>\n",
       "    </tr>\n",
       "    <tr>\n",
       "      <th>22</th>\n",
       "      <td>https://t.co/joR7g4KJN3</td>\n",
       "      <td>X</td>\n",
       "    </tr>\n",
       "  </tbody>\n",
       "</table>\n",
       "</div>"
      ],
      "text/plain": [
       "                      token    pos\n",
       "0               @CombMyAfro   NOUN\n",
       "1             @ussoccer_ynt  PROPN\n",
       "2                       But  CCONJ\n",
       "3                     Ghana  PROPN\n",
       "4                   clearly    ADV\n",
       "5                      wins   VERB\n",
       "6                       the    DET\n",
       "7                     group   NOUN\n",
       "8                        on    ADP\n",
       "9                      goal   NOUN\n",
       "10               difference   NOUN\n",
       "11                        .  PUNCT\n",
       "12                 Columbia  PROPN\n",
       "13                      2nd   NOUN\n",
       "14                        ,  PUNCT\n",
       "15                       US  PROPN\n",
       "16                      3rd   NOUN\n",
       "17                        .  PUNCT\n",
       "18                 Rankings   NOUN\n",
       "19                      are   VERB\n",
       "20                        n    ADV\n",
       "21                        …  PUNCT\n",
       "22  https://t.co/joR7g4KJN3      X"
      ]
     },
     "execution_count": 43,
     "metadata": {},
     "output_type": "execute_result"
    }
   ],
   "source": [
    "pd.DataFrame([(w.text,w.pos_) for w in doc],\n",
    "             columns=['token','pos'])"
   ]
  },
  {
   "cell_type": "code",
   "execution_count": 44,
   "metadata": {
    "slideshow": {
     "slide_type": "slide"
    }
   },
   "outputs": [
    {
     "data": {
      "text/html": [
       "<div>\n",
       "<style>\n",
       "    .dataframe thead tr:only-child th {\n",
       "        text-align: right;\n",
       "    }\n",
       "\n",
       "    .dataframe thead th {\n",
       "        text-align: left;\n",
       "    }\n",
       "\n",
       "    .dataframe tbody tr th {\n",
       "        vertical-align: top;\n",
       "    }\n",
       "</style>\n",
       "<table border=\"1\" class=\"dataframe\">\n",
       "  <thead>\n",
       "    <tr style=\"text-align: right;\">\n",
       "      <th></th>\n",
       "      <th>token</th>\n",
       "      <th>lemma</th>\n",
       "    </tr>\n",
       "  </thead>\n",
       "  <tbody>\n",
       "    <tr>\n",
       "      <th>0</th>\n",
       "      <td>@CombMyAfro</td>\n",
       "      <td>@combmyafro</td>\n",
       "    </tr>\n",
       "    <tr>\n",
       "      <th>1</th>\n",
       "      <td>@ussoccer_ynt</td>\n",
       "      <td>@ussoccer_ynt</td>\n",
       "    </tr>\n",
       "    <tr>\n",
       "      <th>2</th>\n",
       "      <td>But</td>\n",
       "      <td>but</td>\n",
       "    </tr>\n",
       "    <tr>\n",
       "      <th>3</th>\n",
       "      <td>Ghana</td>\n",
       "      <td>ghana</td>\n",
       "    </tr>\n",
       "    <tr>\n",
       "      <th>4</th>\n",
       "      <td>clearly</td>\n",
       "      <td>clearly</td>\n",
       "    </tr>\n",
       "    <tr>\n",
       "      <th>5</th>\n",
       "      <td>wins</td>\n",
       "      <td>win</td>\n",
       "    </tr>\n",
       "    <tr>\n",
       "      <th>6</th>\n",
       "      <td>the</td>\n",
       "      <td>the</td>\n",
       "    </tr>\n",
       "    <tr>\n",
       "      <th>7</th>\n",
       "      <td>group</td>\n",
       "      <td>group</td>\n",
       "    </tr>\n",
       "    <tr>\n",
       "      <th>8</th>\n",
       "      <td>on</td>\n",
       "      <td>on</td>\n",
       "    </tr>\n",
       "    <tr>\n",
       "      <th>9</th>\n",
       "      <td>goal</td>\n",
       "      <td>goal</td>\n",
       "    </tr>\n",
       "    <tr>\n",
       "      <th>10</th>\n",
       "      <td>difference</td>\n",
       "      <td>difference</td>\n",
       "    </tr>\n",
       "    <tr>\n",
       "      <th>11</th>\n",
       "      <td>.</td>\n",
       "      <td>.</td>\n",
       "    </tr>\n",
       "    <tr>\n",
       "      <th>12</th>\n",
       "      <td>Columbia</td>\n",
       "      <td>columbia</td>\n",
       "    </tr>\n",
       "    <tr>\n",
       "      <th>13</th>\n",
       "      <td>2nd</td>\n",
       "      <td>2nd</td>\n",
       "    </tr>\n",
       "    <tr>\n",
       "      <th>14</th>\n",
       "      <td>,</td>\n",
       "      <td>,</td>\n",
       "    </tr>\n",
       "    <tr>\n",
       "      <th>15</th>\n",
       "      <td>US</td>\n",
       "      <td>us</td>\n",
       "    </tr>\n",
       "    <tr>\n",
       "      <th>16</th>\n",
       "      <td>3rd</td>\n",
       "      <td>3rd</td>\n",
       "    </tr>\n",
       "    <tr>\n",
       "      <th>17</th>\n",
       "      <td>.</td>\n",
       "      <td>.</td>\n",
       "    </tr>\n",
       "    <tr>\n",
       "      <th>18</th>\n",
       "      <td>Rankings</td>\n",
       "      <td>ranking</td>\n",
       "    </tr>\n",
       "    <tr>\n",
       "      <th>19</th>\n",
       "      <td>are</td>\n",
       "      <td>be</td>\n",
       "    </tr>\n",
       "    <tr>\n",
       "      <th>20</th>\n",
       "      <td>n</td>\n",
       "      <td>n</td>\n",
       "    </tr>\n",
       "    <tr>\n",
       "      <th>21</th>\n",
       "      <td>…</td>\n",
       "      <td>…</td>\n",
       "    </tr>\n",
       "    <tr>\n",
       "      <th>22</th>\n",
       "      <td>https://t.co/joR7g4KJN3</td>\n",
       "      <td>https://t.co/jor7g4kjn3</td>\n",
       "    </tr>\n",
       "  </tbody>\n",
       "</table>\n",
       "</div>"
      ],
      "text/plain": [
       "                      token                    lemma\n",
       "0               @CombMyAfro              @combmyafro\n",
       "1             @ussoccer_ynt            @ussoccer_ynt\n",
       "2                       But                      but\n",
       "3                     Ghana                    ghana\n",
       "4                   clearly                  clearly\n",
       "5                      wins                      win\n",
       "6                       the                      the\n",
       "7                     group                    group\n",
       "8                        on                       on\n",
       "9                      goal                     goal\n",
       "10               difference               difference\n",
       "11                        .                        .\n",
       "12                 Columbia                 columbia\n",
       "13                      2nd                      2nd\n",
       "14                        ,                        ,\n",
       "15                       US                       us\n",
       "16                      3rd                      3rd\n",
       "17                        .                        .\n",
       "18                 Rankings                  ranking\n",
       "19                      are                       be\n",
       "20                        n                        n\n",
       "21                        …                        …\n",
       "22  https://t.co/joR7g4KJN3  https://t.co/jor7g4kjn3"
      ]
     },
     "execution_count": 44,
     "metadata": {},
     "output_type": "execute_result"
    }
   ],
   "source": [
    "pd.DataFrame([(w.text,w.lemma_) for w in doc],\n",
    "             columns=['token','lemma'])"
   ]
  },
  {
   "cell_type": "code",
   "execution_count": 45,
   "metadata": {
    "slideshow": {
     "slide_type": "slide"
    }
   },
   "outputs": [
    {
     "data": {
      "text/plain": [
       "[Ghana, Columbia, US]"
      ]
     },
     "execution_count": 45,
     "metadata": {},
     "output_type": "execute_result"
    }
   ],
   "source": [
    "[ent for ent in doc.ents]"
   ]
  },
  {
   "cell_type": "markdown",
   "metadata": {
    "slideshow": {
     "slide_type": "fragment"
    }
   },
   "source": [
    "https://demos.explosion.ai/displacy/"
   ]
  },
  {
   "cell_type": "code",
   "execution_count": 46,
   "metadata": {},
   "outputs": [
    {
     "data": {
      "text/plain": [
       "'@CombMyAfro @ussoccer_ynt But Ghana clearly wins the group on goal difference. Columbia 2nd, US 3rd. Rankings are n… https://t.co/joR7g4KJN3'"
      ]
     },
     "execution_count": 46,
     "metadata": {},
     "output_type": "execute_result"
    }
   ],
   "source": [
    "tweets[0]"
   ]
  },
  {
   "cell_type": "code",
   "execution_count": 48,
   "metadata": {},
   "outputs": [],
   "source": [
    "cv = CountVectorizer()\n",
    "X = cv.fit_transform(['this is a test.',\n",
    "                      'Here is a sentence.',\n",
    "                      'This is two sentences. Yes it is.'])"
   ]
  },
  {
   "cell_type": "code",
   "execution_count": 49,
   "metadata": {},
   "outputs": [
    {
     "data": {
      "text/plain": [
       "<1x9 sparse matrix of type '<class 'numpy.int64'>'\n",
       "\twith 3 stored elements in Compressed Sparse Row format>"
      ]
     },
     "execution_count": 49,
     "metadata": {},
     "output_type": "execute_result"
    }
   ],
   "source": [
    "X[0]"
   ]
  },
  {
   "cell_type": "code",
   "execution_count": 50,
   "metadata": {},
   "outputs": [
    {
     "data": {
      "text/plain": [
       "['here', 'is', 'it', 'sentence', 'sentences', 'test', 'this', 'two', 'yes']"
      ]
     },
     "execution_count": 50,
     "metadata": {},
     "output_type": "execute_result"
    }
   ],
   "source": [
    "cv.get_feature_names()"
   ]
  },
  {
   "cell_type": "code",
   "execution_count": null,
   "metadata": {
    "collapsed": true
   },
   "outputs": [],
   "source": []
  }
 ],
 "metadata": {
  "celltoolbar": "Slideshow",
  "kernelspec": {
   "display_name": "Python [conda env:coms_w4995]",
   "language": "python",
   "name": "conda-env-coms_w4995-py"
  },
  "language_info": {
   "codemirror_mode": {
    "name": "ipython",
    "version": 3
   },
   "file_extension": ".py",
   "mimetype": "text/x-python",
   "name": "python",
   "nbconvert_exporter": "python",
   "pygments_lexer": "ipython3",
   "version": "3.6.1"
  }
 },
 "nbformat": 4,
 "nbformat_minor": 2
}
