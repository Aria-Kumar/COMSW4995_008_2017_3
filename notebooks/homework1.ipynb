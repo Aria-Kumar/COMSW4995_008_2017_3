{
 "cells": [
  {
   "cell_type": "markdown",
   "metadata": {},
   "source": [
    "# Homework 1"
   ]
  },
  {
   "cell_type": "markdown",
   "metadata": {},
   "source": [
    "In this homework we will prepare some data for analysis.\n",
    "This will provide practic on loading, selecting from and joining data.\n",
    "\n",
    "This data is provided by World Bank Open Data https://data.worldbank.org/.\n",
    "\n",
    "It includes many country data indicators sampled over time.\n",
    "\n",
    "There are two files we are interested in:\n",
    "1. WDICountry.csv includes country and region information, one country or region per row.\n",
    "2. WDIData.csv includes indicator data, one row per country and indicator.\n",
    "\n",
    "We would like to be able to analyze a few indicators for countries grouped by region.\n",
    "To do that we will need to clean and join the two sets of records.\n",
    "\n",
    "\n",
    "## Instructions\n",
    "\n",
    "Follow the comments below and fill in the blanks (____) to complete."
   ]
  },
  {
   "cell_type": "code",
   "execution_count": null,
   "metadata": {
    "collapsed": true
   },
   "outputs": [],
   "source": [
    "import pandas as pd\n",
    "from pprint import pprint\n",
    "import seaborn as sns\n",
    "import matplotlib.pylab as plt\n",
    "\n",
    "%matplotlib inline"
   ]
  },
  {
   "cell_type": "markdown",
   "metadata": {},
   "source": [
    "## Part 1: Read, examine and select from WDICountry.csv"
   ]
  },
  {
   "cell_type": "code",
   "execution_count": null,
   "metadata": {
    "collapsed": true
   },
   "outputs": [],
   "source": [
    "# read Country information from '../data/WDICountry.csv' into df_country\n",
    "df_country = pd.read_csv(____)"
   ]
  },
  {
   "cell_type": "code",
   "execution_count": null,
   "metadata": {},
   "outputs": [],
   "source": [
    "# display the first 5 rows of df_country\n",
    "df_country.____"
   ]
  },
  {
   "cell_type": "code",
   "execution_count": null,
   "metadata": {},
   "outputs": [],
   "source": [
    "# display info for df_country\n",
    "df_country.____"
   ]
  },
  {
   "cell_type": "code",
   "execution_count": null,
   "metadata": {
    "collapsed": true
   },
   "outputs": [],
   "source": [
    "# DO NOT CHANGE: columns we will keep from df_country\n",
    "columns_to_keep = ['Country Code','Short Name','Region','Income Group']"
   ]
  },
  {
   "cell_type": "code",
   "execution_count": null,
   "metadata": {},
   "outputs": [],
   "source": [
    "# reduce df_country to only the columns in columns_to_keep and display info for df_country\n",
    "df_country = df_country[____] \n",
    "df_country.info()"
   ]
  },
  {
   "cell_type": "code",
   "execution_count": null,
   "metadata": {},
   "outputs": [],
   "source": [
    "# display the rows of df_country where 'Region' is null\n",
    "df_country[____]"
   ]
  },
  {
   "cell_type": "markdown",
   "metadata": {},
   "source": [
    "### Question to think about\n",
    "\n",
    "- How are these rows different?"
   ]
  },
  {
   "cell_type": "code",
   "execution_count": null,
   "metadata": {},
   "outputs": [],
   "source": [
    "# drop the rows of df_country with null values inplace, and display info for df_country\n",
    "df_country.____\n",
    "df_country.info()"
   ]
  },
  {
   "cell_type": "code",
   "execution_count": null,
   "metadata": {
    "collapsed": true
   },
   "outputs": [],
   "source": [
    "# assert that there are no duplicates (use len and drop_duplicates)\n",
    "# hint: what two things should be the same length?\n",
    "assert ____ == ____"
   ]
  },
  {
   "cell_type": "code",
   "execution_count": null,
   "metadata": {
    "collapsed": true
   },
   "outputs": [],
   "source": [
    "# assert that 'Country Code' is unique (use len and unique)\n",
    "# hist: again, what two things should be the same length?\n",
    "____"
   ]
  },
  {
   "cell_type": "code",
   "execution_count": null,
   "metadata": {},
   "outputs": [],
   "source": [
    "# set the index of df_country to be 'Country Code' inplace and display the first 5 rows\n",
    "df_country.____\n",
    "df_country.head()"
   ]
  },
  {
   "cell_type": "code",
   "execution_count": null,
   "metadata": {},
   "outputs": [],
   "source": [
    "# print the number of countries in df_country\n",
    "n_countries = ____\n",
    "print('n_countries: {}'.format(n_countries))"
   ]
  },
  {
   "cell_type": "markdown",
   "metadata": {},
   "source": [
    "---"
   ]
  },
  {
   "cell_type": "markdown",
   "metadata": {},
   "source": [
    "## Part 2: Read, examine and subset WDIData.csv.zip"
   ]
  },
  {
   "cell_type": "code",
   "execution_count": null,
   "metadata": {},
   "outputs": [],
   "source": [
    "# read csv '../data/WDIData.csv' into df_data\n",
    "df_data = pd.read_csv('../data/WDIData.csv.zip', compression='zip')"
   ]
  },
  {
   "cell_type": "code",
   "execution_count": null,
   "metadata": {},
   "outputs": [],
   "source": [
    "# display the first 5 rows of df_data\n",
    "df_data.head()"
   ]
  },
  {
   "cell_type": "code",
   "execution_count": null,
   "metadata": {},
   "outputs": [],
   "source": [
    "# display info for df_data\n",
    "df_data.info()"
   ]
  },
  {
   "cell_type": "code",
   "execution_count": null,
   "metadata": {},
   "outputs": [],
   "source": [
    "# pprint a list of the unique values in Indicator Name\n",
    "pprint(list(df_data.loc[:,'Indicator Name'].unique()))"
   ]
  },
  {
   "cell_type": "code",
   "execution_count": null,
   "metadata": {
    "collapsed": true
   },
   "outputs": [],
   "source": [
    "# DO NOT CHANGE: these are the indicators we will keep\n",
    "data_indicators_to_keep = ['Access to electricity (% of population)','GDP (constant 2010 US$)','Population, total','Population density (people per sq. km of land area)','Unemployment, total (% of total labor force) (national estimate)']"
   ]
  },
  {
   "cell_type": "code",
   "execution_count": null,
   "metadata": {
    "collapsed": true
   },
   "outputs": [],
   "source": [
    "# DO NOT CHANGE: these are the columns we will keep\n",
    "data_columns_to_keep = ['Country Code','Indicator Name','2014']"
   ]
  },
  {
   "cell_type": "code",
   "execution_count": null,
   "metadata": {
    "collapsed": true
   },
   "outputs": [],
   "source": [
    "# reduce data to only \n",
    "#  the rows whose 'Indicator Name' isin data_indicators_to_keep and \n",
    "#  the columns in data_columns_to_keep\n",
    "df_data = df_data.loc[____,____]"
   ]
  },
  {
   "cell_type": "code",
   "execution_count": null,
   "metadata": {},
   "outputs": [],
   "source": [
    "# display the info for df_data\n",
    "df_data.____"
   ]
  },
  {
   "cell_type": "code",
   "execution_count": null,
   "metadata": {},
   "outputs": [],
   "source": [
    "# into df_data_pivot, pivot df_data with index 'Country Code', columns 'Indicator Name' and values '2014'\n",
    "# and display the first 5 rows\n",
    "df_data_pivot = df_data.pivot(index=____,columns=____,values=____)\n",
    "df_data_pivot.head()"
   ]
  },
  {
   "cell_type": "code",
   "execution_count": null,
   "metadata": {},
   "outputs": [],
   "source": [
    "# display info for df_data_pivot\n",
    "df_data_pivot.info()"
   ]
  },
  {
   "cell_type": "markdown",
   "metadata": {},
   "source": [
    "## Part 3: Join the two datasets"
   ]
  },
  {
   "cell_type": "code",
   "execution_count": null,
   "metadata": {},
   "outputs": [],
   "source": [
    "# set df as the inner join df_country with df_data_pivot and display the first 5 rows\n",
    "df = df_country.join(____, how=____)\n",
    "df.head()"
   ]
  },
  {
   "cell_type": "code",
   "execution_count": null,
   "metadata": {},
   "outputs": [],
   "source": [
    "# display info for df (are there the right number of rows, the same as number of countries?)\n",
    "____"
   ]
  },
  {
   "cell_type": "markdown",
   "metadata": {},
   "source": [
    "## Part 4: Analysis and visualization"
   ]
  },
  {
   "cell_type": "code",
   "execution_count": null,
   "metadata": {},
   "outputs": [],
   "source": [
    "# display the value counts for Region\n",
    "df['Region'].____"
   ]
  },
  {
   "cell_type": "code",
   "execution_count": null,
   "metadata": {},
   "outputs": [],
   "source": [
    "# display summary stats (means and quartiles) for 'Access to electricity'\n",
    "df['Access to electricity (% of population)'].____"
   ]
  },
  {
   "cell_type": "code",
   "execution_count": null,
   "metadata": {},
   "outputs": [],
   "source": [
    "# group by 'Region' and show the means of 'Access to electricity' for each region\n",
    "df.groupby(____)['Access to electricity (% of population)'].____"
   ]
  },
  {
   "cell_type": "code",
   "execution_count": null,
   "metadata": {},
   "outputs": [],
   "source": [
    "# use seaborn to display box plots of 'Access to electricity' for each region\n",
    "sns.boxplot(x=____,y=____,data=____)\n",
    "# rotate x-axis tick labels by 90 degrees\n",
    "_ = plt.xticks(rotation=90)"
   ]
  },
  {
   "cell_type": "code",
   "execution_count": null,
   "metadata": {},
   "outputs": [],
   "source": [
    "# into df_region_dummies, create a dummies matrix for region, with prefix 'Region', dropping the first region value\n",
    "# and display the first 5 rows\n",
    "df_region_dummies = pd.get_dummies(____, prefix=____, drop_first=____)\n",
    "df_region_dummies.head()"
   ]
  },
  {
   "cell_type": "code",
   "execution_count": null,
   "metadata": {
    "collapsed": true
   },
   "outputs": [],
   "source": [
    "# join df with df_region_dummies and store in df\n",
    "df = ____"
   ]
  },
  {
   "cell_type": "code",
   "execution_count": null,
   "metadata": {},
   "outputs": [],
   "source": [
    "# show first 5 rows of df\n",
    "df.head()"
   ]
  },
  {
   "cell_type": "code",
   "execution_count": null,
   "metadata": {
    "collapsed": true
   },
   "outputs": [],
   "source": [
    "# write out the new dataframe to 'country_electricity_by_region.csv'\n",
    "df.____"
   ]
  }
 ],
 "metadata": {
  "kernelspec": {
   "display_name": "Python [conda env:coms_w4995]",
   "language": "python",
   "name": "conda-env-coms_w4995-py"
  },
  "language_info": {
   "codemirror_mode": {
    "name": "ipython",
    "version": 3
   },
   "file_extension": ".py",
   "mimetype": "text/x-python",
   "name": "python",
   "nbconvert_exporter": "python",
   "pygments_lexer": "ipython3",
   "version": "3.6.1"
  }
 },
 "nbformat": 4,
 "nbformat_minor": 2
}
