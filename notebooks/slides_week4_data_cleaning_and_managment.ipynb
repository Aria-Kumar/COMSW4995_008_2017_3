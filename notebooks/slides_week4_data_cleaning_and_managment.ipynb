{
 "cells": [
  {
   "cell_type": "markdown",
   "metadata": {
    "slideshow": {
     "slide_type": "slide"
    }
   },
   "source": [
    "# Elements of Data Science: A First Course \n",
    "\n",
    "# COMS W4995 008 2017 3\n",
    "\n",
    "\n",
    "## Week 4 :  Data Cleaning and Management"
   ]
  },
  {
   "cell_type": "markdown",
   "metadata": {
    "slideshow": {
     "slide_type": "slide"
    }
   },
   "source": [
    "## Reading: \n",
    "\n",
    "- PDSH Chapter 5 Machine Learning\n",
    "- PDSH Indroducing Scikit-Learn\n",
    "- PDSH In Depth: Naive Bayes Classification\n",
    "- PDSH In Depth: Linear Regression"
   ]
  },
  {
   "cell_type": "markdown",
   "metadata": {
    "slideshow": {
     "slide_type": "slide"
    }
   },
   "source": [
    "## Data Science Lists\n",
    "\n",
    "- Data Elixir (https://dataelixir.com/)\n",
    "- Data Science Roundup (http://roundup.fishtownanalytics.com/)\n",
    "- KDNuggets (http://www.kdnuggets.com/news/subscribe.html)\n",
    "- Data Science Central (http://www.datasciencecentral.com/profiles/blogs/check-out-our-dsc-newsletter)"
   ]
  },
  {
   "cell_type": "markdown",
   "metadata": {
    "slideshow": {
     "slide_type": "slide"
    }
   },
   "source": [
    "## Today"
   ]
  },
  {
   "cell_type": "markdown",
   "metadata": {
    "slideshow": {
     "slide_type": "fragment"
    }
   },
   "source": [
    "- Data Cleaning (& Manipulation)\n",
    "    - Duplicates\n",
    "    - Outliers\n",
    "    - Differing Scales\n",
    "    - Binning\n",
    "    "
   ]
  },
  {
   "cell_type": "markdown",
   "metadata": {
    "slideshow": {
     "slide_type": "fragment"
    }
   },
   "source": [
    "- Data Management\n",
    "    - Strucured vs. Unstructured\n",
    "    - Relational vs. NoSQL"
   ]
  },
  {
   "cell_type": "markdown",
   "metadata": {
    "slideshow": {
     "slide_type": "slide"
    }
   },
   "source": [
    "## Data Cleaning (& Manipulation)"
   ]
  },
  {
   "cell_type": "markdown",
   "metadata": {
    "slideshow": {
     "slide_type": "slide"
    }
   },
   "source": [
    "## Dealing with Duplicates"
   ]
  },
  {
   "cell_type": "markdown",
   "metadata": {
    "slideshow": {
     "slide_type": "fragment"
    }
   },
   "source": [
    "<pre>\n",
    "Signature: df.drop_duplicates(subset=None, keep='first', inplace=False)\n",
    "Docstring:\n",
    "Return DataFrame with duplicate rows removed, optionally only\n",
    "considering certain columns\n",
    "\n",
    "Parameters\n",
    "----------\n",
    "subset : column label or sequence of labels, optional\n",
    "    Only consider certain columns for identifying duplicates, by\n",
    "    default use all of the columns\n",
    "keep : {'first', 'last', False}, default 'first'\n",
    "    - ``first`` : Drop duplicates except for the first occurrence.\n",
    "    - ``last`` : Drop duplicates except for the last occurrence.\n",
    "    - False : Drop all duplicates.\n",
    "inplace : boolean, default False\n",
    "    Whether to drop duplicates in place or to return a copy\n",
    "</pre>"
   ]
  },
  {
   "cell_type": "markdown",
   "metadata": {
    "slideshow": {
     "slide_type": "slide"
    }
   },
   "source": [
    "## Dealing with Outliers"
   ]
  },
  {
   "cell_type": "markdown",
   "metadata": {
    "slideshow": {
     "slide_type": "fragment"
    }
   },
   "source": [
    "\"An observation different from other observations.\""
   ]
  },
  {
   "cell_type": "markdown",
   "metadata": {
    "slideshow": {
     "slide_type": "slide"
    }
   },
   "source": [
    "### Causes of outliers"
   ]
  },
  {
   "cell_type": "markdown",
   "metadata": {
    "slideshow": {
     "slide_type": "fragment"
    }
   },
   "source": [
    "- human data entry error"
   ]
  },
  {
   "cell_type": "markdown",
   "metadata": {
    "slideshow": {
     "slide_type": "fragment"
    }
   },
   "source": [
    "- instrument measurement errors"
   ]
  },
  {
   "cell_type": "markdown",
   "metadata": {
    "slideshow": {
     "slide_type": "fragment"
    }
   },
   "source": [
    "- data processing errors"
   ]
  },
  {
   "cell_type": "markdown",
   "metadata": {
    "slideshow": {
     "slide_type": "fragment"
    }
   },
   "source": [
    "- sampling errors"
   ]
  },
  {
   "cell_type": "markdown",
   "metadata": {
    "slideshow": {
     "slide_type": "fragment"
    }
   },
   "source": [
    "- natural deviations"
   ]
  },
  {
   "cell_type": "markdown",
   "metadata": {
    "slideshow": {
     "slide_type": "slide"
    }
   },
   "source": [
    "### Why worry about them?"
   ]
  },
  {
   "cell_type": "markdown",
   "metadata": {
    "slideshow": {
     "slide_type": "fragment"
    }
   },
   "source": [
    "- May indicate issue with the data"
   ]
  },
  {
   "cell_type": "markdown",
   "metadata": {
    "slideshow": {
     "slide_type": "fragment"
    }
   },
   "source": [
    "- Can throw off analysis"
   ]
  },
  {
   "cell_type": "markdown",
   "metadata": {
    "slideshow": {
     "slide_type": "slide"
    }
   },
   "source": [
    "<img src='http://www.kdnuggets.com/wp-content/uploads/outlier-detection-1.png'>"
   ]
  },
  {
   "cell_type": "markdown",
   "metadata": {
    "slideshow": {
     "slide_type": "slide"
    }
   },
   "source": [
    "<img src='https://cdn-images-1.medium.com/max/800/0*oj1v0rhvPt0u-jYH.'>"
   ]
  },
  {
   "cell_type": "markdown",
   "metadata": {
    "slideshow": {
     "slide_type": "slide"
    }
   },
   "source": [
    "<img src='https://cdn-images-1.medium.com/max/1000/0*A1Wupu3hKsJMvUdH.'>"
   ]
  },
  {
   "cell_type": "markdown",
   "metadata": {
    "slideshow": {
     "slide_type": "slide"
    }
   },
   "source": [
    "<img src='https://upload.wikimedia.org/wikipedia/commons/6/63/Contextual_Outlier.png?1506472654865'>"
   ]
  },
  {
   "cell_type": "markdown",
   "metadata": {
    "slideshow": {
     "slide_type": "slide"
    }
   },
   "source": [
    "<img src='https://upload.wikimedia.org/wikipedia/commons/0/07/Two-dimensional_Outliers_Example.png?1506472760120'>"
   ]
  },
  {
   "cell_type": "markdown",
   "metadata": {
    "slideshow": {
     "slide_type": "slide"
    }
   },
   "source": [
    "### Detecting outliers"
   ]
  },
  {
   "cell_type": "markdown",
   "metadata": {
    "slideshow": {
     "slide_type": "slide"
    }
   },
   "source": [
    "#### Simply understanding the data"
   ]
  },
  {
   "cell_type": "markdown",
   "metadata": {
    "slideshow": {
     "slide_type": "slide"
    }
   },
   "source": [
    "#### Visualization: gaps, boxplots"
   ]
  },
  {
   "cell_type": "code",
   "execution_count": 1,
   "metadata": {
    "slideshow": {
     "slide_type": "slide"
    }
   },
   "outputs": [],
   "source": [
    "import numpy as np\n",
    "import pandas as pd\n",
    "import matplotlib.pyplot as plt\n",
    "import seaborn as sns\n",
    "%matplotlib inline\n",
    "\n",
    "np.random.seed(123)\n",
    "\n",
    "df = pd.DataFrame(np.random.normal(50,20,1000), columns=['measure'])\n",
    "df = df.append(pd.DataFrame(np.random.normal(120,1,20), columns=['measure']))"
   ]
  },
  {
   "cell_type": "code",
   "execution_count": 2,
   "metadata": {
    "slideshow": {
     "slide_type": "slide"
    }
   },
   "outputs": [
    {
     "data": {
      "image/png": "[encoded data removed]",
      "text/plain": [
       "<matplotlib.figure.Figure at 0x7f22985b2e10>"
      ]
     },
     "metadata": {},
     "output_type": "display_data"
    }
   ],
   "source": [
    "fig,ax = plt.subplots(1,2, figsize=(10,5))\n",
    "_ = sns.distplot(df.measure,ax=ax[0])\n",
    "_ = sns.boxplot(df.measure,ax=ax[1])"
   ]
  },
  {
   "cell_type": "markdown",
   "metadata": {
    "slideshow": {
     "slide_type": "slide"
    }
   },
   "source": [
    "#### z-score"
   ]
  },
  {
   "cell_type": "markdown",
   "metadata": {
    "slideshow": {
     "slide_type": "fragment"
    }
   },
   "source": [
    "<img src='https://cdn-images-1.medium.com/max/800/0*y7kVHEQPQKBg3Cga.'>"
   ]
  },
  {
   "cell_type": "code",
   "execution_count": 3,
   "metadata": {
    "collapsed": true,
    "slideshow": {
     "slide_type": "slide"
    }
   },
   "outputs": [],
   "source": [
    "df['measure_zscore'] = (df.measure - df.measure.mean()) / df.measure.std()"
   ]
  },
  {
   "cell_type": "code",
   "execution_count": 4,
   "metadata": {
    "slideshow": {
     "slide_type": "fragment"
    }
   },
   "outputs": [
    {
     "data": {
      "image/png": "[encoded data removed]",
      "text/plain": [
       "<matplotlib.figure.Figure at 0x7f226652efd0>"
      ]
     },
     "metadata": {},
     "output_type": "display_data"
    }
   ],
   "source": [
    "fig, ax = plt.subplots(1,2,figsize=(10,5))\n",
    "_ = sns.distplot(df.measure_zscore, ax=ax[0])\n",
    "\n",
    "keep_idx = np.abs(df.measure_zscore) < 3\n",
    "_ = sns.distplot(df[keep_idx].measure_zscore, ax=ax[1])"
   ]
  },
  {
   "cell_type": "code",
   "execution_count": 5,
   "metadata": {
    "slideshow": {
     "slide_type": "slide"
    }
   },
   "outputs": [
    {
     "data": {
      "image/png": "[encoded data removed]",
      "text/plain": [
       "<matplotlib.figure.Figure at 0x7f226653c630>"
      ]
     },
     "metadata": {},
     "output_type": "display_data"
    }
   ],
   "source": [
    "df = pd.DataFrame(np.random.gamma(5,.5,1000), columns=['measure'])\n",
    "\n",
    "_ = sns.distplot(df.measure)"
   ]
  },
  {
   "cell_type": "code",
   "execution_count": 6,
   "metadata": {
    "slideshow": {
     "slide_type": "slide"
    }
   },
   "outputs": [
    {
     "data": {
      "image/png": "[encoded data removed]",
      "text/plain": [
       "<matplotlib.figure.Figure at 0x7f2266205e48>"
      ]
     },
     "metadata": {},
     "output_type": "display_data"
    }
   ],
   "source": [
    "_ = sns.distplot(df.measure.apply(np.sqrt))"
   ]
  },
  {
   "cell_type": "code",
   "execution_count": 7,
   "metadata": {
    "collapsed": true,
    "slideshow": {
     "slide_type": "slide"
    }
   },
   "outputs": [],
   "source": [
    "df['measure_zscore'] = (df.measure - df.measure.mean()) / df.measure.std()\n",
    "keep_idx = np.abs(df.measure_zscore) < 3"
   ]
  },
  {
   "cell_type": "code",
   "execution_count": 8,
   "metadata": {
    "slideshow": {
     "slide_type": "slide"
    }
   },
   "outputs": [
    {
     "data": {
      "image/png": "[encoded data removed]",
      "text/plain": [
       "<matplotlib.figure.Figure at 0x7f2266104320>"
      ]
     },
     "metadata": {},
     "output_type": "display_data"
    }
   ],
   "source": [
    "fig,ax = plt.subplots(1,3,figsize=(12,4))\n",
    "\n",
    "_ = sns.distplot(df.measure,ax=ax[0])\n",
    "\n",
    "_ = sns.distplot(df.measure.apply(np.sqrt),ax=ax[1])\n",
    "\n",
    "_ = sns.distplot(df[keep_idx].measure,ax=ax[2])\n",
    "\n",
    "_ = ax[0].set_xlabel('measure'); _ = ax[1].set_xlabel('sqrt_measure'); _ = ax[2].set_xlabel('after_trim')"
   ]
  },
  {
   "cell_type": "markdown",
   "metadata": {
    "slideshow": {
     "slide_type": "slide"
    }
   },
   "source": [
    "#### Many more parametric and non-parametric methods"
   ]
  },
  {
   "cell_type": "markdown",
   "metadata": {
    "slideshow": {
     "slide_type": "fragment"
    }
   },
   "source": [
    "- Standardized Residuals\n",
    "- DBScan\n",
    "- ElipticEnvelope\n",
    "- IsolationForest\n",
    "- other Anomoly Detection techniques"
   ]
  },
  {
   "cell_type": "markdown",
   "metadata": {
    "slideshow": {
     "slide_type": "slide"
    }
   },
   "source": [
    "### Dealing with outliers"
   ]
  },
  {
   "cell_type": "markdown",
   "metadata": {},
   "source": [
    "- Drop observations"
   ]
  },
  {
   "cell_type": "code",
   "execution_count": 9,
   "metadata": {
    "slideshow": {
     "slide_type": "fragment"
    }
   },
   "outputs": [],
   "source": [
    "#Ex:\n",
    "\n",
    "df = df[np.abs(df.measure-df.measure.mean()) < 3]"
   ]
  },
  {
   "cell_type": "markdown",
   "metadata": {
    "slideshow": {
     "slide_type": "fragment"
    }
   },
   "source": [
    "- Add dummies and replace\n",
    "    - mean\n",
    "    - infer from other features"
   ]
  },
  {
   "cell_type": "code",
   "execution_count": 10,
   "metadata": {
    "slideshow": {
     "slide_type": "fragment"
    }
   },
   "outputs": [],
   "source": [
    "#Ex:\n",
    "\n",
    "df['measure_outlier'] = np.abs(df.measure - df.measure.mean()) > 3\n",
    "\n",
    "df[df.measure_outlier] = df.measure.mean()"
   ]
  },
  {
   "cell_type": "markdown",
   "metadata": {
    "slideshow": {
     "slide_type": "slide"
    }
   },
   "source": [
    "## Normalizing Features"
   ]
  },
  {
   "cell_type": "code",
   "execution_count": 11,
   "metadata": {
    "slideshow": {
     "slide_type": "fragment"
    }
   },
   "outputs": [
    {
     "data": {
      "text/html": [
       "<div>\n",
       "<style>\n",
       "    .dataframe thead tr:only-child th {\n",
       "        text-align: right;\n",
       "    }\n",
       "\n",
       "    .dataframe thead th {\n",
       "        text-align: left;\n",
       "    }\n",
       "\n",
       "    .dataframe tbody tr th {\n",
       "        vertical-align: top;\n",
       "    }\n",
       "</style>\n",
       "<table border=\"1\" class=\"dataframe\">\n",
       "  <thead>\n",
       "    <tr style=\"text-align: right;\">\n",
       "      <th></th>\n",
       "      <th>trip_duration</th>\n",
       "      <th>tip_amount</th>\n",
       "    </tr>\n",
       "  </thead>\n",
       "  <tbody>\n",
       "    <tr>\n",
       "      <th>count</th>\n",
       "      <td>6184.000000</td>\n",
       "      <td>6184.000000</td>\n",
       "    </tr>\n",
       "    <tr>\n",
       "      <th>mean</th>\n",
       "      <td>756.319858</td>\n",
       "      <td>2.388745</td>\n",
       "    </tr>\n",
       "    <tr>\n",
       "      <th>std</th>\n",
       "      <td>509.359485</td>\n",
       "      <td>1.581928</td>\n",
       "    </tr>\n",
       "    <tr>\n",
       "      <th>min</th>\n",
       "      <td>2.000000</td>\n",
       "      <td>0.010000</td>\n",
       "    </tr>\n",
       "    <tr>\n",
       "      <th>25%</th>\n",
       "      <td>396.000000</td>\n",
       "      <td>1.360000</td>\n",
       "    </tr>\n",
       "    <tr>\n",
       "      <th>50%</th>\n",
       "      <td>625.000000</td>\n",
       "      <td>2.000000</td>\n",
       "    </tr>\n",
       "    <tr>\n",
       "      <th>75%</th>\n",
       "      <td>987.000000</td>\n",
       "      <td>2.850000</td>\n",
       "    </tr>\n",
       "    <tr>\n",
       "      <th>max</th>\n",
       "      <td>3572.000000</td>\n",
       "      <td>9.990000</td>\n",
       "    </tr>\n",
       "  </tbody>\n",
       "</table>\n",
       "</div>"
      ],
      "text/plain": [
       "       trip_duration   tip_amount\n",
       "count    6184.000000  6184.000000\n",
       "mean      756.319858     2.388745\n",
       "std       509.359485     1.581928\n",
       "min         2.000000     0.010000\n",
       "25%       396.000000     1.360000\n",
       "50%       625.000000     2.000000\n",
       "75%       987.000000     2.850000\n",
       "max      3572.000000     9.990000"
      ]
     },
     "execution_count": 11,
     "metadata": {},
     "output_type": "execute_result"
    }
   ],
   "source": [
    "df = pd.read_csv('../data/yellow_tripdata_2017-01_subset10000rows.csv')\n",
    "df.tpep_pickup_datetime = pd.to_datetime(df.tpep_pickup_datetime)\n",
    "df.tpep_dropoff_datetime = pd.to_datetime(df.tpep_dropoff_datetime)\n",
    "df['trip_duration'] = (df.tpep_dropoff_datetime - df.tpep_pickup_datetime).dt.seconds\n",
    "df = df[(df.trip_duration < 3600) & (df.tip_amount > 0) & (df.tip_amount < 10)]\n",
    "df[['trip_duration','tip_amount']].describe()"
   ]
  },
  {
   "cell_type": "code",
   "execution_count": 12,
   "metadata": {
    "slideshow": {
     "slide_type": "slide"
    }
   },
   "outputs": [
    {
     "data": {
      "image/png": "[encoded data removed]",
      "text/plain": [
       "<matplotlib.figure.Figure at 0x7f226616f9e8>"
      ]
     },
     "metadata": {},
     "output_type": "display_data"
    }
   ],
   "source": [
    "fig, ax = plt.subplots(1,3,figsize=(12,4))\n",
    "_ = sns.distplot(df.trip_duration, ax=ax[0])\n",
    "_ = sns.distplot(df.tip_amount,ax=ax[1])\n",
    "_ = sns.distplot(df.trip_duration, ax=ax[2])\n",
    "_ = sns.distplot(df.tip_amount, ax=ax[2])\n",
    "_ = plt.xlabel('')\n",
    "_ = plt.legend(['trip_duration','tip_amount'])"
   ]
  },
  {
   "cell_type": "code",
   "execution_count": 13,
   "metadata": {
    "slideshow": {
     "slide_type": "slide"
    }
   },
   "outputs": [
    {
     "data": {
      "image/png": "[encoded data removed]",
      "text/plain": [
       "<matplotlib.figure.Figure at 0x7f226603bb00>"
      ]
     },
     "metadata": {},
     "output_type": "display_data"
    }
   ],
   "source": [
    "from scipy.stats import zscore\n",
    "\n",
    "_ = sns.distplot(zscore(df.trip_duration))\n",
    "_ = sns.distplot(zscore(df.tip_amount))\n",
    "_ = plt.xlabel('')\n",
    "_ = plt.legend(['trip_duration','tip_amount'])"
   ]
  },
  {
   "cell_type": "markdown",
   "metadata": {
    "slideshow": {
     "slide_type": "slide"
    }
   },
   "source": [
    "### Binning"
   ]
  },
  {
   "cell_type": "code",
   "execution_count": 14,
   "metadata": {
    "slideshow": {
     "slide_type": "fragment"
    }
   },
   "outputs": [
    {
     "data": {
      "text/plain": [
       "1      short\n",
       "3     medium\n",
       "5      short\n",
       "6       long\n",
       "8     medium\n",
       "9      short\n",
       "10     short\n",
       "12      long\n",
       "13     short\n",
       "14    medium\n",
       "Name: trip_duration, dtype: category\n",
       "Categories (3, object): [short < medium < long]"
      ]
     },
     "execution_count": 14,
     "metadata": {},
     "output_type": "execute_result"
    }
   ],
   "source": [
    "trip_duration_bins = [df.trip_duration.min(),\n",
    "                      df.trip_duration.median(),\n",
    "                      df.trip_duration.quantile(0.75),\n",
    "                      df.trip_duration.max(),\n",
    "                     ]\n",
    "pd.cut(df.trip_duration, \n",
    "       bins=trip_duration_bins, \n",
    "       labels=['short','medium','long'])[:10]"
   ]
  },
  {
   "cell_type": "code",
   "execution_count": 15,
   "metadata": {
    "slideshow": {
     "slide_type": "slide"
    }
   },
   "outputs": [
    {
     "data": {
      "text/html": [
       "<div>\n",
       "<style>\n",
       "    .dataframe thead tr:only-child th {\n",
       "        text-align: right;\n",
       "    }\n",
       "\n",
       "    .dataframe thead th {\n",
       "        text-align: left;\n",
       "    }\n",
       "\n",
       "    .dataframe tbody tr th {\n",
       "        vertical-align: top;\n",
       "    }\n",
       "</style>\n",
       "<table border=\"1\" class=\"dataframe\">\n",
       "  <thead>\n",
       "    <tr style=\"text-align: right;\">\n",
       "      <th></th>\n",
       "      <th>trip_duration_short</th>\n",
       "      <th>trip_duration_medium</th>\n",
       "      <th>trip_duration_long</th>\n",
       "    </tr>\n",
       "  </thead>\n",
       "  <tbody>\n",
       "    <tr>\n",
       "      <th>1</th>\n",
       "      <td>1</td>\n",
       "      <td>0</td>\n",
       "      <td>0</td>\n",
       "    </tr>\n",
       "    <tr>\n",
       "      <th>3</th>\n",
       "      <td>0</td>\n",
       "      <td>1</td>\n",
       "      <td>0</td>\n",
       "    </tr>\n",
       "    <tr>\n",
       "      <th>5</th>\n",
       "      <td>1</td>\n",
       "      <td>0</td>\n",
       "      <td>0</td>\n",
       "    </tr>\n",
       "    <tr>\n",
       "      <th>6</th>\n",
       "      <td>0</td>\n",
       "      <td>0</td>\n",
       "      <td>1</td>\n",
       "    </tr>\n",
       "    <tr>\n",
       "      <th>8</th>\n",
       "      <td>0</td>\n",
       "      <td>1</td>\n",
       "      <td>0</td>\n",
       "    </tr>\n",
       "    <tr>\n",
       "      <th>9</th>\n",
       "      <td>1</td>\n",
       "      <td>0</td>\n",
       "      <td>0</td>\n",
       "    </tr>\n",
       "    <tr>\n",
       "      <th>10</th>\n",
       "      <td>1</td>\n",
       "      <td>0</td>\n",
       "      <td>0</td>\n",
       "    </tr>\n",
       "    <tr>\n",
       "      <th>12</th>\n",
       "      <td>0</td>\n",
       "      <td>0</td>\n",
       "      <td>1</td>\n",
       "    </tr>\n",
       "    <tr>\n",
       "      <th>13</th>\n",
       "      <td>1</td>\n",
       "      <td>0</td>\n",
       "      <td>0</td>\n",
       "    </tr>\n",
       "    <tr>\n",
       "      <th>14</th>\n",
       "      <td>0</td>\n",
       "      <td>1</td>\n",
       "      <td>0</td>\n",
       "    </tr>\n",
       "  </tbody>\n",
       "</table>\n",
       "</div>"
      ],
      "text/plain": [
       "    trip_duration_short  trip_duration_medium  trip_duration_long\n",
       "1                     1                     0                   0\n",
       "3                     0                     1                   0\n",
       "5                     1                     0                   0\n",
       "6                     0                     0                   1\n",
       "8                     0                     1                   0\n",
       "9                     1                     0                   0\n",
       "10                    1                     0                   0\n",
       "12                    0                     0                   1\n",
       "13                    1                     0                   0\n",
       "14                    0                     1                   0"
      ]
     },
     "execution_count": 15,
     "metadata": {},
     "output_type": "execute_result"
    }
   ],
   "source": [
    "pd.get_dummies(\n",
    "    pd.cut(df.trip_duration, \n",
    "           bins=trip_duration_bins, \n",
    "           labels=['short','medium','long'])[:10],\n",
    "    prefix='trip_duration'\n",
    "    )"
   ]
  },
  {
   "cell_type": "markdown",
   "metadata": {
    "slideshow": {
     "slide_type": "slide"
    }
   },
   "source": [
    "### Data Manipulation Review"
   ]
  },
  {
   "cell_type": "markdown",
   "metadata": {
    "slideshow": {
     "slide_type": "fragment"
    }
   },
   "source": [
    "- Real\n",
    "    - normalization (zscore)\n",
    "    - binning (cut)\n",
    "    - remove outliers\n",
    "    "
   ]
  },
  {
   "cell_type": "markdown",
   "metadata": {
    "slideshow": {
     "slide_type": "fragment"
    }
   },
   "source": [
    "- Categorical\n",
    "    - dummies (get_dummies)"
   ]
  },
  {
   "cell_type": "markdown",
   "metadata": {
    "slideshow": {
     "slide_type": "fragment"
    }
   },
   "source": [
    "- Both\n",
    "    - remove duplicates (drop_duplicates)\n",
    "    - fill missing values (fillna)\n",
    "    - drop missing values (dropna)"
   ]
  },
  {
   "cell_type": "markdown",
   "metadata": {
    "slideshow": {
     "slide_type": "slide"
    }
   },
   "source": [
    "## Managing Data"
   ]
  },
  {
   "cell_type": "markdown",
   "metadata": {
    "slideshow": {
     "slide_type": "fragment"
    }
   },
   "source": [
    "- Structured"
   ]
  },
  {
   "cell_type": "markdown",
   "metadata": {
    "slideshow": {
     "slide_type": "fragment"
    }
   },
   "source": [
    "- Unstructured"
   ]
  },
  {
   "cell_type": "markdown",
   "metadata": {
    "slideshow": {
     "slide_type": "fragment"
    }
   },
   "source": [
    "- Semi-structured"
   ]
  },
  {
   "cell_type": "markdown",
   "metadata": {
    "slideshow": {
     "slide_type": "slide"
    }
   },
   "source": [
    "# Databases"
   ]
  },
  {
   "cell_type": "markdown",
   "metadata": {
    "slideshow": {
     "slide_type": "fragment"
    }
   },
   "source": [
    "- Flatfile\n",
    "- Relational\n",
    "- NoSQL"
   ]
  },
  {
   "cell_type": "markdown",
   "metadata": {
    "slideshow": {
     "slide_type": "slide"
    }
   },
   "source": [
    "## Flatfile\n",
    "\n",
    "- csv"
   ]
  },
  {
   "cell_type": "markdown",
   "metadata": {
    "slideshow": {
     "slide_type": "slide"
    }
   },
   "source": [
    "## Relational / RDBMS / SQL"
   ]
  },
  {
   "cell_type": "markdown",
   "metadata": {
    "slideshow": {
     "slide_type": "fragment"
    }
   },
   "source": [
    "- sqlite\n",
    "- Postgresql\n",
    "- Mysql\n",
    "- MariaDB\n",
    "- Microsoft SQL Server\n",
    "- Oracle"
   ]
  },
  {
   "cell_type": "markdown",
   "metadata": {
    "slideshow": {
     "slide_type": "slide"
    }
   },
   "source": [
    "### Database Normalization\n",
    "\n",
    "- reduce data redundancy\n",
    "- improve data integrity"
   ]
  },
  {
   "cell_type": "markdown",
   "metadata": {
    "slideshow": {
     "slide_type": "fragment"
    }
   },
   "source": [
    "<img src='http://www.ecommerce-digest.com/images/normalization.jpg'>"
   ]
  },
  {
   "cell_type": "markdown",
   "metadata": {
    "slideshow": {
     "slide_type": "slide"
    }
   },
   "source": [
    "### Basic SQL Commands"
   ]
  },
  {
   "cell_type": "markdown",
   "metadata": {
    "slideshow": {
     "slide_type": "fragment"
    }
   },
   "source": [
    "- SELECT\n",
    "\n",
    "    <pre>\n",
    "    SELECT * FROM trips;\n",
    "    SELECT id, fare_amount FROM trips;</pre>"
   ]
  },
  {
   "cell_type": "markdown",
   "metadata": {
    "slideshow": {
     "slide_type": "fragment"
    }
   },
   "source": [
    "- WHERE\n",
    "\n",
    "    <pre>\n",
    "    SELECT * \n",
    "    FROM trips \n",
    "    WHERE vendor_id = 1 AND fare_amount > 10.0;</pre>"
   ]
  },
  {
   "cell_type": "markdown",
   "metadata": {
    "slideshow": {
     "slide_type": "fragment"
    }
   },
   "source": [
    "- LIMIT\n",
    "\n",
    "    <pre>\n",
    "    SELECT * \n",
    "    FROM trips \n",
    "    WHERE vendor_id = 1 AND fare_amount > 10.0\n",
    "    LIMIT 10;</pre>"
   ]
  },
  {
   "cell_type": "markdown",
   "metadata": {
    "slideshow": {
     "slide_type": "slide"
    }
   },
   "source": [
    "- DISTINCT\n",
    "\n",
    "    <pre>\n",
    "    SELECT DISTINCT vendor_id FROM trips</pre>"
   ]
  },
  {
   "cell_type": "markdown",
   "metadata": {
    "slideshow": {
     "slide_type": "fragment"
    }
   },
   "source": [
    "- COUNT\n",
    "\n",
    "    <pre>\n",
    "    SELECT COUNT(*) FROM trips</pre>"
   ]
  },
  {
   "cell_type": "markdown",
   "metadata": {
    "slideshow": {
     "slide_type": "fragment"
    }
   },
   "source": [
    "- ORDER BY\n",
    "\n",
    "    <pre>\n",
    "    SELECT fare_amount, passenger_count \n",
    "    FROM trips \n",
    "    ORDER BY fare_amount DESC;</pre>"
   ]
  },
  {
   "cell_type": "markdown",
   "metadata": {
    "slideshow": {
     "slide_type": "slide"
    }
   },
   "source": [
    "- JOIN\n",
    "\n",
    "    <pre>\n",
    "    SELECT t.fare_amount, tzp.borough \n",
    "    FROM trips AS t\n",
    "    LEFT JOIN taxi_zones AS tz ON tzp.locationid = t.pickup_location_id\n",
    "    LIMIT 10</pre>"
   ]
  },
  {
   "cell_type": "markdown",
   "metadata": {
    "slideshow": {
     "slide_type": "slide"
    }
   },
   "source": [
    "- Putting it all together\n",
    "\n",
    "    <pre>\n",
    "    SELECT \n",
    "        t.fare_amount\n",
    "        ,t.trip_distance\n",
    "        ,tzp.borough as pickup_borough\n",
    "        ,tzd.borough as dropoff_borough\n",
    "    FROM\n",
    "        trips AS t\n",
    "        LEFT JOIN taxi_zones AS tzp ON tzp.locationid = t.pickup_location_id\n",
    "        LEFT JOIN taxi_zones AS tzd ON tzd.locationid = t.dropoff_location_id\n",
    "    WHERE \n",
    "        t.fair_amount > 0 \n",
    "        AND tzp.borough = 'Manhattan'\n",
    "    ORDER BY\n",
    "        t.trip_distance DESC\n",
    "    LIMIT 10<\\/pre>"
   ]
  },
  {
   "cell_type": "markdown",
   "metadata": {
    "slideshow": {
     "slide_type": "slide"
    }
   },
   "source": [
    "## sqlalchemy"
   ]
  },
  {
   "cell_type": "code",
   "execution_count": 16,
   "metadata": {
    "slideshow": {
     "slide_type": "fragment"
    }
   },
   "outputs": [],
   "source": [
    "import sqlalchemy\n",
    "\n",
    "db = sqlalchemy.create_engine('postgres:///nyc-taxi-data?host=/var/run/postgresql')"
   ]
  },
  {
   "cell_type": "code",
   "execution_count": 17,
   "metadata": {
    "slideshow": {
     "slide_type": "fragment"
    }
   },
   "outputs": [],
   "source": [
    "q = db.execute('SELECT * FROM trips LIMIT 2')"
   ]
  },
  {
   "cell_type": "code",
   "execution_count": 18,
   "metadata": {
    "slideshow": {
     "slide_type": "fragment"
    }
   },
   "outputs": [
    {
     "name": "stdout",
     "output_type": "stream",
     "text": [
      "<class 'sqlalchemy.engine.result.ResultProxy'>\n"
     ]
    }
   ],
   "source": [
    "print(type(q))"
   ]
  },
  {
   "cell_type": "code",
   "execution_count": 19,
   "metadata": {
    "slideshow": {
     "slide_type": "fragment"
    }
   },
   "outputs": [
    {
     "name": "stdout",
     "output_type": "stream",
     "text": [
      "(1, 1, '1', datetime.datetime(2016, 10, 1, 0, 0), datetime.datetime(2016, 10, 1, 0, 10, 45), 'N', 1, None, None, None, None, 3, Decimal('3.40'), Decimal('13'), Decimal('0.5'), Decimal('0.5'), Decimal('3.55'), Decimal('0'), None, Decimal('0.3'), Decimal('17.85'), '1', None, None, None, 80, 33, None, None)\n",
      "(2, 1, '2', datetime.datetime(2016, 10, 1, 0, 0), datetime.datetime(2016, 10, 1, 0, 15, 51), 'N', 1, None, None, None, None, 5, Decimal('4.17'), Decimal('15'), Decimal('0.5'), Decimal('0.5'), Decimal('2'), Decimal('0'), None, Decimal('0.3'), Decimal('18.3'), '1', None, None, None, 262, 107, None, None)\n"
     ]
    }
   ],
   "source": [
    "for r in q:\n",
    "    print(r)"
   ]
  },
  {
   "cell_type": "code",
   "execution_count": 20,
   "metadata": {
    "slideshow": {
     "slide_type": "slide"
    }
   },
   "outputs": [
    {
     "name": "stdout",
     "output_type": "stream",
     "text": [
      "(4874540, Decimal('26.5'), Decimal('10083318.00'), 'Manhattan', 'Brooklyn')\n",
      "(5907762, Decimal('12'), Decimal('5063284.00'), 'Manhattan', 'Manhattan')\n",
      "(7108727, Decimal('40'), Decimal('5000002.70'), 'Manhattan', 'Manhattan')\n",
      "(5738861, Decimal('15'), Decimal('5000000.00'), 'Manhattan', 'Manhattan')\n",
      "(10445134, Decimal('12'), Decimal('357000.70'), 'Manhattan', 'Manhattan')\n",
      "(5433957, Decimal('9'), Decimal('300833.10'), 'Manhattan', 'Manhattan')\n",
      "(5696636, Decimal('18'), Decimal('300833.10'), 'Manhattan', 'Manhattan')\n",
      "(1448644, Decimal('19.5'), Decimal('300833.10'), 'Manhattan', 'Manhattan')\n",
      "(5898916, Decimal('16'), Decimal('3008.30'), 'Manhattan', 'Manhattan')\n",
      "(10154756, Decimal('10150.92'), Decimal('1524.20'), 'Manhattan', 'Manhattan')\n",
      "\n",
      "0:00:27.278170\n"
     ]
    }
   ],
   "source": [
    "sql = \"\"\"\n",
    "SELECT \n",
    "    t.id\n",
    "    ,t.fare_amount\n",
    "    ,t.trip_distance\n",
    "    ,tzp.borough as pickup_borough\n",
    "    ,tzd.borough as dropoff_borough\n",
    "FROM\n",
    "    trips AS t\n",
    "    LEFT JOIN taxi_zones AS tzp ON tzp.locationid = t.pickup_location_id\n",
    "    LEFT JOIN taxi_zones AS tzd ON tzd.locationid = t.dropoff_location_id\n",
    "WHERE \n",
    "    t.fare_amount > 0 \n",
    "    AND tzp.borough = 'Manhattan'\n",
    "ORDER BY\n",
    "    t.trip_distance DESC\n",
    "LIMIT 10\n",
    "\"\"\"\n",
    "\n",
    "from datetime import datetime\n",
    "\n",
    "st = datetime.now()\n",
    "q = db.execute(sql)\n",
    "\n",
    "for r in q:\n",
    "    print(r)\n",
    "\n",
    "print('\\n{}'.format(datetime.now() - st))"
   ]
  },
  {
   "cell_type": "code",
   "execution_count": 21,
   "metadata": {
    "slideshow": {
     "slide_type": "slide"
    }
   },
   "outputs": [
    {
     "name": "stdout",
     "output_type": "stream",
     "text": [
      "<class 'pandas.core.frame.DataFrame'>\n",
      "Int64Index: 10 entries, 4874540 to 10154756\n",
      "Data columns (total 4 columns):\n",
      "fare_amount        10 non-null float64\n",
      "trip_distance      10 non-null float64\n",
      "pickup_borough     10 non-null object\n",
      "dropoff_borough    10 non-null object\n",
      "dtypes: float64(2), object(2)\n",
      "memory usage: 400.0+ bytes\n",
      "None\n",
      "\n",
      "0:00:31.930641\n"
     ]
    }
   ],
   "source": [
    "st = datetime.now()\n",
    "df = pd.read_sql(sql,con=db, index_col='id')\n",
    "print(df.info())\n",
    "print('\\n{}'.format(datetime.now() - st))"
   ]
  },
  {
   "cell_type": "markdown",
   "metadata": {
    "slideshow": {
     "slide_type": "slide"
    }
   },
   "source": [
    "## NoSQL"
   ]
  },
  {
   "cell_type": "markdown",
   "metadata": {
    "slideshow": {
     "slide_type": "fragment"
    }
   },
   "source": [
    "- key-value (Redis, Berkeley DB)\n",
    "- document store (MongoDB, DocumentDB)\n",
    "- wide column (Cassandra, HBase, DynamoDB\n",
    "- graph (Neo4j, Giraph)"
   ]
  },
  {
   "cell_type": "markdown",
   "metadata": {
    "slideshow": {
     "slide_type": "slide"
    }
   },
   "source": [
    "### Basic Mongo"
   ]
  },
  {
   "cell_type": "markdown",
   "metadata": {
    "slideshow": {
     "slide_type": "fragment"
    }
   },
   "source": [
    "- db"
   ]
  },
  {
   "cell_type": "markdown",
   "metadata": {
    "slideshow": {
     "slide_type": "fragment"
    }
   },
   "source": [
    "- collection"
   ]
  },
  {
   "cell_type": "markdown",
   "metadata": {
    "slideshow": {
     "slide_type": "slide"
    }
   },
   "source": [
    "- find(filter,projection)"
   ]
  },
  {
   "cell_type": "code",
   "execution_count": 22,
   "metadata": {
    "collapsed": true,
    "slideshow": {
     "slide_type": "slide"
    }
   },
   "outputs": [],
   "source": [
    "import pymongo"
   ]
  },
  {
   "cell_type": "code",
   "execution_count": 23,
   "metadata": {
    "collapsed": true,
    "slideshow": {
     "slide_type": "fragment"
    }
   },
   "outputs": [],
   "source": [
    "mdb = pymongo.MongoClient()"
   ]
  },
  {
   "cell_type": "code",
   "execution_count": 24,
   "metadata": {
    "slideshow": {
     "slide_type": "fragment"
    }
   },
   "outputs": [],
   "source": [
    "db = mdb.twitter_db"
   ]
  },
  {
   "cell_type": "code",
   "execution_count": 25,
   "metadata": {
    "collapsed": true,
    "slideshow": {
     "slide_type": "fragment"
    }
   },
   "outputs": [],
   "source": [
    "coll = db.twitter_collection"
   ]
  },
  {
   "cell_type": "code",
   "execution_count": 26,
   "metadata": {
    "slideshow": {
     "slide_type": "fragment"
    }
   },
   "outputs": [
    {
     "data": {
      "text/plain": [
       "{'_id': ObjectId('59c95e2c2471847a9783c400'),\n",
       " 'contributors': None,\n",
       " 'coordinates': None,\n",
       " 'created_at': 'Mon Sep 25 19:51:08 +0000 2017',\n",
       " 'entities': {'hashtags': [{'indices': [94, 106], 'text': 'DataScience'},\n",
       "   {'indices': [107, 121], 'text': 'DataScientist'},\n",
       "   {'indices': [122, 130], 'text': 'BigData'},\n",
       "   {'indices': [131, 134], 'text': 'AI'},\n",
       "   {'indices': [135, 139], 'text': 'IoT'}],\n",
       "  'symbols': [],\n",
       "  'urls': [{'display_url': 'futurism.com/videos/waste-m…',\n",
       "    'expanded_url': 'https://futurism.com/videos/waste-management-just-got-cleaner-and-more-efficient/',\n",
       "    'indices': [70, 93],\n",
       "    'url': 'https://t.co/HtaXzfxbrA'}],\n",
       "  'user_mentions': [{'id': 4361928854,\n",
       "    'id_str': '4361928854',\n",
       "    'indices': [3, 15],\n",
       "    'name': 'Dan Yarmoluk',\n",
       "    'screen_name': 'YarmolukDan'}]},\n",
       " 'favorite_count': 0,\n",
       " 'favorited': False,\n",
       " 'filter_level': 'low',\n",
       " 'geo': None,\n",
       " 'id': 912404120484511749,\n",
       " 'id_str': '912404120484511749',\n",
       " 'in_reply_to_screen_name': None,\n",
       " 'in_reply_to_status_id': None,\n",
       " 'in_reply_to_status_id_str': None,\n",
       " 'in_reply_to_user_id': None,\n",
       " 'in_reply_to_user_id_str': None,\n",
       " 'is_quote_status': False,\n",
       " 'lang': 'en',\n",
       " 'place': None,\n",
       " 'possibly_sensitive': False,\n",
       " 'quote_count': 0,\n",
       " 'reply_count': 0,\n",
       " 'retweet_count': 0,\n",
       " 'retweeted': False,\n",
       " 'retweeted_status': {'contributors': None,\n",
       "  'coordinates': None,\n",
       "  'created_at': 'Mon Sep 25 19:00:38 +0000 2017',\n",
       "  'entities': {'hashtags': [{'indices': [77, 89], 'text': 'DataScience'},\n",
       "    {'indices': [90, 104], 'text': 'DataScientist'},\n",
       "    {'indices': [105, 113], 'text': 'BigData'},\n",
       "    {'indices': [114, 117], 'text': 'AI'},\n",
       "    {'indices': [118, 122], 'text': 'IoT'},\n",
       "    {'indices': [123, 140], 'text': 'InternetOfThings'}],\n",
       "   'symbols': [],\n",
       "   'urls': [{'display_url': 'futurism.com/videos/waste-m…',\n",
       "     'expanded_url': 'https://futurism.com/videos/waste-management-just-got-cleaner-and-more-efficient/',\n",
       "     'indices': [53, 76],\n",
       "     'url': 'https://t.co/HtaXzfxbrA'}],\n",
       "   'user_mentions': []},\n",
       "  'favorite_count': 3,\n",
       "  'favorited': False,\n",
       "  'filter_level': 'low',\n",
       "  'geo': None,\n",
       "  'id': 912391410757832710,\n",
       "  'id_str': '912391410757832710',\n",
       "  'in_reply_to_screen_name': None,\n",
       "  'in_reply_to_status_id': None,\n",
       "  'in_reply_to_status_id_str': None,\n",
       "  'in_reply_to_user_id': None,\n",
       "  'in_reply_to_user_id_str': None,\n",
       "  'is_quote_status': False,\n",
       "  'lang': 'en',\n",
       "  'place': None,\n",
       "  'possibly_sensitive': False,\n",
       "  'quote_count': 1,\n",
       "  'reply_count': 0,\n",
       "  'retweet_count': 78,\n",
       "  'retweeted': False,\n",
       "  'source': '<a href=\"http://bufferapp.com\" rel=\"nofollow\">Buffer</a>',\n",
       "  'text': 'Waste Management Just Got Cleaner and More Efficient https://t.co/HtaXzfxbrA #DataScience #DataScientist #BigData #AI #IoT #InternetOfThings',\n",
       "  'truncated': False,\n",
       "  'user': {'contributors_enabled': False,\n",
       "   'created_at': 'Thu Nov 26 02:03:47 +0000 2015',\n",
       "   'default_profile': True,\n",
       "   'default_profile_image': False,\n",
       "   'description': '#InternetOfThings #IIoT #IoT #DataScientist Value Creation, Commercialization, Business Models, #Bigdata #Analytics #MachineLearning #AI #DigitalTransformation',\n",
       "   'favourites_count': 44931,\n",
       "   'follow_request_sent': None,\n",
       "   'followers_count': 35666,\n",
       "   'following': None,\n",
       "   'friends_count': 20518,\n",
       "   'geo_enabled': False,\n",
       "   'id': 4361928854,\n",
       "   'id_str': '4361928854',\n",
       "   'is_translator': False,\n",
       "   'lang': 'en',\n",
       "   'listed_count': 685,\n",
       "   'location': 'Minneapolis, MN',\n",
       "   'name': 'Dan Yarmoluk',\n",
       "   'notifications': None,\n",
       "   'profile_background_color': 'C0DEED',\n",
       "   'profile_background_image_url': 'http://abs.twimg.com/images/themes/theme1/bg.png',\n",
       "   'profile_background_image_url_https': 'https://abs.twimg.com/images/themes/theme1/bg.png',\n",
       "   'profile_background_tile': False,\n",
       "   'profile_banner_url': 'https://pbs.twimg.com/profile_banners/4361928854/1503971534',\n",
       "   'profile_image_url': 'http://pbs.twimg.com/profile_images/901097373375397889/SDVFOuYq_normal.jpg',\n",
       "   'profile_image_url_https': 'https://pbs.twimg.com/profile_images/901097373375397889/SDVFOuYq_normal.jpg',\n",
       "   'profile_link_color': '1DA1F2',\n",
       "   'profile_sidebar_border_color': 'C0DEED',\n",
       "   'profile_sidebar_fill_color': 'DDEEF6',\n",
       "   'profile_text_color': '333333',\n",
       "   'profile_use_background_image': True,\n",
       "   'protected': False,\n",
       "   'screen_name': 'YarmolukDan',\n",
       "   'statuses_count': 10247,\n",
       "   'time_zone': None,\n",
       "   'translator_type': 'none',\n",
       "   'url': 'https://vertiai.com',\n",
       "   'utc_offset': None,\n",
       "   'verified': False}},\n",
       " 'source': '<a href=\"http://twitter.com/download/android\" rel=\"nofollow\">Twitter for Android</a>',\n",
       " 'text': 'RT @YarmolukDan: Waste Management Just Got Cleaner and More Efficient https://t.co/HtaXzfxbrA #DataScience #DataScientist #BigData #AI #IoT…',\n",
       " 'timestamp_ms': '1506369068629',\n",
       " 'truncated': False,\n",
       " 'user': {'contributors_enabled': False,\n",
       "  'created_at': 'Mon Sep 25 19:00:01 +0000 2017',\n",
       "  'default_profile': True,\n",
       "  'default_profile_image': False,\n",
       "  'description': 'l',\n",
       "  'favourites_count': 17,\n",
       "  'follow_request_sent': None,\n",
       "  'followers_count': 0,\n",
       "  'following': None,\n",
       "  'friends_count': 39,\n",
       "  'geo_enabled': False,\n",
       "  'id': 912391257430794241,\n",
       "  'id_str': '912391257430794241',\n",
       "  'is_translator': False,\n",
       "  'lang': 'en',\n",
       "  'listed_count': 0,\n",
       "  'location': None,\n",
       "  'name': 'Roxane Wattenbarger',\n",
       "  'notifications': None,\n",
       "  'profile_background_color': 'F5F8FA',\n",
       "  'profile_background_image_url': '',\n",
       "  'profile_background_image_url_https': '',\n",
       "  'profile_background_tile': False,\n",
       "  'profile_image_url': 'http://pbs.twimg.com/profile_images/912395322537607168/PfybaZbS_normal.jpg',\n",
       "  'profile_image_url_https': 'https://pbs.twimg.com/profile_images/912395322537607168/PfybaZbS_normal.jpg',\n",
       "  'profile_link_color': '1DA1F2',\n",
       "  'profile_sidebar_border_color': 'C0DEED',\n",
       "  'profile_sidebar_fill_color': 'DDEEF6',\n",
       "  'profile_text_color': '333333',\n",
       "  'profile_use_background_image': True,\n",
       "  'protected': False,\n",
       "  'screen_name': 'roxanewattenba6',\n",
       "  'statuses_count': 33,\n",
       "  'time_zone': None,\n",
       "  'translator_type': 'none',\n",
       "  'url': None,\n",
       "  'utc_offset': None,\n",
       "  'verified': False}}"
      ]
     },
     "execution_count": 26,
     "metadata": {},
     "output_type": "execute_result"
    }
   ],
   "source": [
    "coll.find_one()"
   ]
  },
  {
   "cell_type": "code",
   "execution_count": 27,
   "metadata": {
    "collapsed": true,
    "slideshow": {
     "slide_type": "slide"
    }
   },
   "outputs": [],
   "source": [
    "df = pd.DataFrame([coll.find_one()])"
   ]
  },
  {
   "cell_type": "code",
   "execution_count": 28,
   "metadata": {
    "slideshow": {
     "slide_type": "fragment"
    }
   },
   "outputs": [
    {
     "data": {
      "text/html": [
       "<div>\n",
       "<style>\n",
       "    .dataframe thead tr:only-child th {\n",
       "        text-align: right;\n",
       "    }\n",
       "\n",
       "    .dataframe thead th {\n",
       "        text-align: left;\n",
       "    }\n",
       "\n",
       "    .dataframe tbody tr th {\n",
       "        vertical-align: top;\n",
       "    }\n",
       "</style>\n",
       "<table border=\"1\" class=\"dataframe\">\n",
       "  <thead>\n",
       "    <tr style=\"text-align: right;\">\n",
       "      <th></th>\n",
       "      <th>_id</th>\n",
       "      <th>contributors</th>\n",
       "      <th>coordinates</th>\n",
       "      <th>created_at</th>\n",
       "      <th>entities</th>\n",
       "      <th>favorite_count</th>\n",
       "      <th>favorited</th>\n",
       "      <th>filter_level</th>\n",
       "      <th>geo</th>\n",
       "      <th>id</th>\n",
       "      <th>...</th>\n",
       "      <th>quote_count</th>\n",
       "      <th>reply_count</th>\n",
       "      <th>retweet_count</th>\n",
       "      <th>retweeted</th>\n",
       "      <th>retweeted_status</th>\n",
       "      <th>source</th>\n",
       "      <th>text</th>\n",
       "      <th>timestamp_ms</th>\n",
       "      <th>truncated</th>\n",
       "      <th>user</th>\n",
       "    </tr>\n",
       "  </thead>\n",
       "  <tbody>\n",
       "    <tr>\n",
       "      <th>0</th>\n",
       "      <td>59c95e2c2471847a9783c400</td>\n",
       "      <td>None</td>\n",
       "      <td>None</td>\n",
       "      <td>Mon Sep 25 19:51:08 +0000 2017</td>\n",
       "      <td>{'hashtags': [{'text': 'DataScience', 'indices...</td>\n",
       "      <td>0</td>\n",
       "      <td>False</td>\n",
       "      <td>low</td>\n",
       "      <td>None</td>\n",
       "      <td>912404120484511749</td>\n",
       "      <td>...</td>\n",
       "      <td>0</td>\n",
       "      <td>0</td>\n",
       "      <td>0</td>\n",
       "      <td>False</td>\n",
       "      <td>{'created_at': 'Mon Sep 25 19:00:38 +0000 2017...</td>\n",
       "      <td>&lt;a href=\"http://twitter.com/download/android\" ...</td>\n",
       "      <td>RT @YarmolukDan: Waste Management Just Got Cle...</td>\n",
       "      <td>1506369068629</td>\n",
       "      <td>False</td>\n",
       "      <td>{'id': 912391257430794241, 'id_str': '91239125...</td>\n",
       "    </tr>\n",
       "  </tbody>\n",
       "</table>\n",
       "<p>1 rows × 30 columns</p>\n",
       "</div>"
      ],
      "text/plain": [
       "                        _id contributors coordinates  \\\n",
       "0  59c95e2c2471847a9783c400         None        None   \n",
       "\n",
       "                       created_at  \\\n",
       "0  Mon Sep 25 19:51:08 +0000 2017   \n",
       "\n",
       "                                            entities  favorite_count  \\\n",
       "0  {'hashtags': [{'text': 'DataScience', 'indices...               0   \n",
       "\n",
       "   favorited filter_level   geo                  id  \\\n",
       "0      False          low  None  912404120484511749   \n",
       "\n",
       "                         ...                         quote_count reply_count  \\\n",
       "0                        ...                                   0           0   \n",
       "\n",
       "  retweet_count retweeted                                   retweeted_status  \\\n",
       "0             0     False  {'created_at': 'Mon Sep 25 19:00:38 +0000 2017...   \n",
       "\n",
       "                                              source  \\\n",
       "0  <a href=\"http://twitter.com/download/android\" ...   \n",
       "\n",
       "                                                text   timestamp_ms truncated  \\\n",
       "0  RT @YarmolukDan: Waste Management Just Got Cle...  1506369068629     False   \n",
       "\n",
       "                                                user  \n",
       "0  {'id': 912391257430794241, 'id_str': '91239125...  \n",
       "\n",
       "[1 rows x 30 columns]"
      ]
     },
     "execution_count": 28,
     "metadata": {},
     "output_type": "execute_result"
    }
   ],
   "source": [
    "df"
   ]
  },
  {
   "cell_type": "code",
   "execution_count": 29,
   "metadata": {
    "slideshow": {
     "slide_type": "slide"
    }
   },
   "outputs": [
    {
     "name": "stdout",
     "output_type": "stream",
     "text": [
      "DataScience\n",
      "DataScientist\n",
      "BigData\n",
      "AI\n",
      "IoT\n"
     ]
    }
   ],
   "source": [
    "hts = df.entities[0]['hashtags']\n",
    "for ht in hts:\n",
    "    print(ht['text'])"
   ]
  },
  {
   "cell_type": "code",
   "execution_count": 30,
   "metadata": {
    "slideshow": {
     "slide_type": "slide"
    }
   },
   "outputs": [
    {
     "name": "stdout",
     "output_type": "stream",
     "text": [
      "roxanewattenba6\n",
      "['DataScience', 'DataScientist', 'BigData', 'AI', 'IoT']\n",
      "sawney_patience\n",
      "['DataScience', 'DataScientist', 'BigData', 'AI', 'IoT']\n",
      "jackverr54\n",
      "['MachineLearning', 'BigData', 'DataScience', 'AI', 'RStats', 'RLang', 'Statistics']\n",
      "AvvRossello\n",
      "['Chatbots', 'Infographic', 'AI', 'DeepLearning', 'Startup', 'IoT', 'BigData', 'Analytics', 'DataScience', 'Fintech']\n",
      "Follow2bFollowd\n",
      "['AI', 'MachineLearning', 'Fintech', 'insurtech', 'ML', 'DL', 'tech']\n",
      "Follow2bFollowd\n",
      "['AI', 'MachineLearning', 'BigData', 'Fintech', 'ML', 'Banking', 'tech']\n",
      "Calcaware\n",
      "['BigData', 'DataScience', 'MachineLearning', 'AI', 'DeepLearning', 'fintech']\n"
     ]
    }
   ],
   "source": [
    "q = coll.find({'entities.hashtags.text':'AI'},{'user.screen_name':1,'entities':1})\n",
    "for r in q:\n",
    "    print(r['user']['screen_name'])\n",
    "    print([x['text'] for x in r['entities']['hashtags']])"
   ]
  },
  {
   "cell_type": "code",
   "execution_count": null,
   "metadata": {
    "collapsed": true
   },
   "outputs": [],
   "source": []
  }
 ],
 "metadata": {
  "celltoolbar": "Slideshow",
  "kernelspec": {
   "display_name": "Python [conda env:coms_w4995]",
   "language": "python",
   "name": "conda-env-coms_w4995-py"
  },
  "language_info": {
   "codemirror_mode": {
    "name": "ipython",
    "version": 3
   },
   "file_extension": ".py",
   "mimetype": "text/x-python",
   "name": "python",
   "nbconvert_exporter": "python",
   "pygments_lexer": "ipython3",
   "version": "3.6.1"
  }
 },
 "nbformat": 4,
 "nbformat_minor": 2
}
