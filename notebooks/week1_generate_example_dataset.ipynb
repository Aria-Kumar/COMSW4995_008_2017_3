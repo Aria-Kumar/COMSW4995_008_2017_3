{
 "cells": [
  {
   "cell_type": "code",
   "execution_count": 1,
   "metadata": {
    "collapsed": true,
    "nbpresent": {
     "id": "18c8e1e5-e9f5-445c-921e-445ba1d21f17"
    },
    "slideshow": {
     "slide_type": "slide"
    }
   },
   "outputs": [],
   "source": [
    "import numpy as np\n",
    "#import scipy as sp\n",
    "import pandas as pd\n",
    "import seaborn as sns\n",
    "#import sqlalchemy\n",
    "import matplotlib.pyplot as plt"
   ]
  },
  {
   "cell_type": "code",
   "execution_count": 67,
   "metadata": {},
   "outputs": [
    {
     "name": "stdout",
     "output_type": "stream",
     "text": [
      "(300,)\n"
     ]
    }
   ],
   "source": [
    "url = 'https://www2.census.gov/topics/genealogy/1990surnames/dist.all.last'\n",
    "filename = '../data/dist.all.last.csv'\n",
    "df_last_names = pd.read_csv(filename, delim_whitespace=True, header=None, nrows=300)\n",
    "lastnames = df_last_names.iloc[:,0].values\n",
    "print(lastnames.shape)"
   ]
  },
  {
   "cell_type": "code",
   "execution_count": 68,
   "metadata": {},
   "outputs": [],
   "source": [
    "lastnames = df_last_names.loc[df_last_names[0] != 'ROBINSON',0].values"
   ]
  },
  {
   "cell_type": "code",
   "execution_count": 69,
   "metadata": {},
   "outputs": [
    {
     "data": {
      "text/plain": [
       "array(['SMITH', 'JOHNSON', 'WILLIAMS', 'JONES', 'BROWN', 'DAVIS', 'MILLER',\n",
       "       'WILSON', 'MOORE', 'TAYLOR', 'ANDERSON', 'THOMAS', 'JACKSON',\n",
       "       'WHITE', 'HARRIS', 'MARTIN', 'THOMPSON', 'GARCIA', 'MARTINEZ',\n",
       "       'CLARK', 'RODRIGUEZ', 'LEWIS', 'LEE', 'WALKER', 'HALL', 'ALLEN',\n",
       "       'YOUNG', 'HERNANDEZ', 'KING', 'WRIGHT', 'LOPEZ', 'HILL', 'SCOTT',\n",
       "       'GREEN', 'ADAMS', 'BAKER', 'GONZALEZ', 'NELSON', 'CARTER',\n",
       "       'MITCHELL', 'PEREZ', 'ROBERTS', 'TURNER', 'PHILLIPS', 'CAMPBELL',\n",
       "       'PARKER', 'EVANS', 'EDWARDS', 'COLLINS', 'STEWART', 'SANCHEZ',\n",
       "       'MORRIS', 'ROGERS', 'REED', 'COOK', 'MORGAN', 'BELL', 'MURPHY',\n",
       "       'BAILEY', 'RIVERA', 'COOPER', 'RICHARDSON', 'COX', 'HOWARD', 'WARD',\n",
       "       'TORRES', 'PETERSON', 'GRAY', 'RAMIREZ', 'JAMES', 'WATSON',\n",
       "       'BROOKS', 'KELLY', 'SANDERS', 'PRICE', 'BENNETT', 'WOOD', 'BARNES',\n",
       "       'ROSS', 'HENDERSON', 'COLEMAN', 'JENKINS', 'PERRY', 'POWELL',\n",
       "       'LONG', 'PATTERSON', 'HUGHES', 'FLORES', 'WASHINGTON', 'BUTLER',\n",
       "       'SIMMONS', 'FOSTER', 'GONZALES', 'BRYANT', 'ALEXANDER', 'RUSSELL',\n",
       "       'GRIFFIN', 'DIAZ', 'HAYES', 'MYERS', 'FORD', 'HAMILTON', 'GRAHAM',\n",
       "       'SULLIVAN', 'WALLACE', 'WOODS', 'COLE', 'WEST', 'JORDAN', 'OWENS',\n",
       "       'REYNOLDS', 'FISHER', 'ELLIS', 'HARRISON', 'GIBSON', 'MCDONALD',\n",
       "       'CRUZ', 'MARSHALL', 'ORTIZ', 'GOMEZ', 'MURRAY', 'FREEMAN', 'WELLS',\n",
       "       'WEBB', 'SIMPSON', 'STEVENS', 'TUCKER', 'PORTER', 'HUNTER', 'HICKS',\n",
       "       'CRAWFORD', 'HENRY', 'BOYD', 'MASON', 'MORALES', 'KENNEDY',\n",
       "       'WARREN', 'DIXON', 'RAMOS', 'REYES', 'BURNS', 'GORDON', 'SHAW',\n",
       "       'HOLMES', 'RICE', 'ROBERTSON', 'HUNT', 'BLACK', 'DANIELS', 'PALMER',\n",
       "       'MILLS', 'NICHOLS', 'GRANT', 'KNIGHT', 'FERGUSON', 'ROSE', 'STONE',\n",
       "       'HAWKINS', 'DUNN', 'PERKINS', 'HUDSON', 'SPENCER', 'GARDNER',\n",
       "       'STEPHENS', 'PAYNE', 'PIERCE', 'BERRY', 'MATTHEWS', 'ARNOLD',\n",
       "       'WAGNER', 'WILLIS', 'RAY', 'WATKINS', 'OLSON', 'CARROLL', 'DUNCAN',\n",
       "       'SNYDER', 'HART', 'CUNNINGHAM', 'BRADLEY', 'LANE', 'ANDREWS',\n",
       "       'RUIZ', 'HARPER', 'FOX', 'RILEY', 'ARMSTRONG', 'CARPENTER',\n",
       "       'WEAVER', 'GREENE', 'LAWRENCE', 'ELLIOTT', 'CHAVEZ', 'SIMS',\n",
       "       'AUSTIN', 'PETERS', 'KELLEY', 'FRANKLIN', 'LAWSON', 'FIELDS',\n",
       "       'GUTIERREZ', 'RYAN', 'SCHMIDT', 'CARR', 'VASQUEZ', 'CASTILLO',\n",
       "       'WHEELER', 'CHAPMAN', 'OLIVER', 'MONTGOMERY', 'RICHARDS',\n",
       "       'WILLIAMSON', 'JOHNSTON', 'BANKS', 'MEYER', 'BISHOP', 'MCCOY',\n",
       "       'HOWELL', 'ALVAREZ', 'MORRISON', 'HANSEN', 'FERNANDEZ', 'GARZA',\n",
       "       'HARVEY', 'LITTLE', 'BURTON', 'STANLEY', 'NGUYEN', 'GEORGE',\n",
       "       'JACOBS', 'REID', 'KIM', 'FULLER', 'LYNCH', 'DEAN', 'GILBERT',\n",
       "       'GARRETT', 'ROMERO', 'WELCH', 'LARSON', 'FRAZIER', 'BURKE',\n",
       "       'HANSON', 'DAY', 'MENDOZA', 'MORENO', 'BOWMAN', 'MEDINA', 'FOWLER',\n",
       "       'BREWER', 'HOFFMAN', 'CARLSON', 'SILVA', 'PEARSON', 'HOLLAND',\n",
       "       'DOUGLAS', 'FLEMING', 'JENSEN', 'VARGAS', 'BYRD', 'DAVIDSON',\n",
       "       'HOPKINS', 'MAY', 'TERRY', 'HERRERA', 'WADE', 'SOTO', 'WALTERS',\n",
       "       'CURTIS', 'NEAL', 'CALDWELL', 'LOWE', 'JENNINGS', 'BARNETT',\n",
       "       'GRAVES', 'JIMENEZ', 'HORTON', 'SHELTON', 'BARRETT', 'OBRIEN',\n",
       "       'CASTRO', 'SUTTON', 'GREGORY', 'MCKINNEY', 'LUCAS', 'MILES',\n",
       "       'CRAIG', 'RODRIQUEZ', 'CHAMBERS', 'HOLT', 'LAMBERT', 'FLETCHER',\n",
       "       'WATTS', 'BATES', 'HALE', 'RHODES', 'PENA', 'BECK', 'NEWMAN'], dtype=object)"
      ]
     },
     "execution_count": 69,
     "metadata": {},
     "output_type": "execute_result"
    }
   ],
   "source": [
    "lastnames"
   ]
  },
  {
   "cell_type": "code",
   "execution_count": 3,
   "metadata": {
    "collapsed": true
   },
   "outputs": [],
   "source": [
    "np.random.seed=123"
   ]
  },
  {
   "cell_type": "code",
   "execution_count": 179,
   "metadata": {},
   "outputs": [
    {
     "name": "stdout",
     "output_type": "stream",
     "text": [
      "1000 1000 1000\n"
     ]
    }
   ],
   "source": [
    "def gen_star():\n",
    "    star = np.ceil(np.random.normal(loc=3,scale=1.5))\n",
    "    if star < 1:\n",
    "        star = 1\n",
    "    elif star > 5:\n",
    "        star = 5\n",
    "    return int(star)\n",
    "\n",
    "from datetime import date\n",
    "import random\n",
    "\n",
    "start_date = date.today().replace(day=1, month=1).toordinal()\n",
    "end_date = date.today().toordinal()\n",
    "\n",
    "names_list = []\n",
    "stars_list = []\n",
    "dates_list = []\n",
    "\n",
    "p_robinson = 0.15\n",
    "p_repeat = 0.4\n",
    "\n",
    "for i in range(1000):\n",
    "    p1 = np.random.rand()\n",
    "    if p1 > p_robinson:\n",
    "        p2 = np.random.rand()\n",
    "        if len(names_list) > 0 and p2 < p_repeat:\n",
    "            p3 = np.random.randint(0,len(names_list))\n",
    "            names_list.append(names_list[p3])\n",
    "        else:\n",
    "            p3 = np.random.randint(0,len(lastnames))\n",
    "            names_list.append(lastnames[p3])\n",
    "        stars_list.append(gen_star())\n",
    "    else:\n",
    "        names_list.append('ROBINSON')\n",
    "        p2 = np.random.rand()\n",
    "        if p2 < .8:\n",
    "            stars_list.append(5)\n",
    "        else:\n",
    "            stars_list.append(gen_star())\n",
    "            \n",
    "    dates_list.append( date.fromordinal(random.randint(start_date, end_date)))\n",
    "    \n",
    "print(len(names_list),len(stars_list),len(dates_list))"
   ]
  },
  {
   "cell_type": "code",
   "execution_count": 180,
   "metadata": {},
   "outputs": [],
   "source": [
    "data = {'lastname':names_list, 'stars':stars_list, 'purchase_date':dates_list}\n",
    "\n",
    "df = pd.DataFrame(data)"
   ]
  },
  {
   "cell_type": "code",
   "execution_count": 181,
   "metadata": {},
   "outputs": [
    {
     "data": {
      "text/plain": [
       "ROBINSON    208\n",
       "DANIELS      37\n",
       "BURKE        16\n",
       "JACOBS       16\n",
       "CALDWELL     15\n",
       "Name: lastname, dtype: int64"
      ]
     },
     "execution_count": 181,
     "metadata": {},
     "output_type": "execute_result"
    }
   ],
   "source": [
    "df.lastname.value_counts().head()"
   ]
  },
  {
   "cell_type": "code",
   "execution_count": 182,
   "metadata": {},
   "outputs": [
    {
     "data": {
      "text/plain": [
       "180"
      ]
     },
     "execution_count": 182,
     "metadata": {},
     "output_type": "execute_result"
    }
   ],
   "source": [
    "sum(df.lastname.value_counts() > 1)"
   ]
  },
  {
   "cell_type": "code",
   "execution_count": 183,
   "metadata": {},
   "outputs": [
    {
     "data": {
      "text/plain": [
       "253"
      ]
     },
     "execution_count": 183,
     "metadata": {},
     "output_type": "execute_result"
    }
   ],
   "source": [
    "len(df.lastname.unique())"
   ]
  },
  {
   "cell_type": "code",
   "execution_count": 184,
   "metadata": {
    "collapsed": true
   },
   "outputs": [],
   "source": [
    "def draw_price(n):\n",
    "    prods = np.random.randint(0,100,size=(n,1))\n",
    "    prices = np.empty(n)\n",
    "    for idx,prod in enumerate(prods):\n",
    "        if prod <= 25:\n",
    "            prices[idx] = np.random.normal(loc=10,scale=1)\n",
    "        elif prod <= 70:\n",
    "            prices[idx] = np.random.normal(loc=20,scale=1)\n",
    "        elif prod <= 97:\n",
    "            prices[idx] = np.random.normal(loc=40,scale=1)\n",
    "        else:\n",
    "            prices[idx] = np.nan\n",
    "    return prices"
   ]
  },
  {
   "cell_type": "code",
   "execution_count": 185,
   "metadata": {},
   "outputs": [
    {
     "data": {
      "text/plain": [
       "array([ 41.05484539,  38.03819095,  20.06099999,          nan,\n",
       "        10.05674195,  20.10475896,  10.6434863 ,   9.32056618,\n",
       "                nan,  40.13175211])"
      ]
     },
     "execution_count": 185,
     "metadata": {},
     "output_type": "execute_result"
    }
   ],
   "source": [
    "draw_price(10)"
   ]
  },
  {
   "cell_type": "code",
   "execution_count": 186,
   "metadata": {
    "collapsed": true
   },
   "outputs": [],
   "source": [
    "df['price'] = draw_price(len(df))"
   ]
  },
  {
   "cell_type": "code",
   "execution_count": 187,
   "metadata": {},
   "outputs": [
    {
     "data": {
      "text/plain": [
       "<matplotlib.axes._subplots.AxesSubplot at 0x7f44be6db7b8>"
      ]
     },
     "execution_count": 187,
     "metadata": {},
     "output_type": "execute_result"
    },
    {
     "data": {
      "image/png": "[encoded data removed]",
      "text/plain": [
       "<matplotlib.figure.Figure at 0x7f44bd917fd0>"
      ]
     },
     "metadata": {},
     "output_type": "display_data"
    }
   ],
   "source": [
    "df.stars.hist()"
   ]
  },
  {
   "cell_type": "code",
   "execution_count": 188,
   "metadata": {
    "collapsed": true
   },
   "outputs": [],
   "source": [
    "df = df.iloc[np.random.permutation(len(df))].reset_index(drop=True)"
   ]
  },
  {
   "cell_type": "code",
   "execution_count": 189,
   "metadata": {},
   "outputs": [
    {
     "data": {
      "text/html": [
       "<div>\n",
       "<style>\n",
       "    .dataframe thead tr:only-child th {\n",
       "        text-align: right;\n",
       "    }\n",
       "\n",
       "    .dataframe thead th {\n",
       "        text-align: left;\n",
       "    }\n",
       "\n",
       "    .dataframe tbody tr th {\n",
       "        vertical-align: top;\n",
       "    }\n",
       "</style>\n",
       "<table border=\"1\" class=\"dataframe\">\n",
       "  <thead>\n",
       "    <tr style=\"text-align: right;\">\n",
       "      <th></th>\n",
       "      <th>lastname</th>\n",
       "      <th>purchase_date</th>\n",
       "      <th>stars</th>\n",
       "      <th>price</th>\n",
       "    </tr>\n",
       "  </thead>\n",
       "  <tbody>\n",
       "    <tr>\n",
       "      <th>0</th>\n",
       "      <td>PERKINS</td>\n",
       "      <td>2017-04-08</td>\n",
       "      <td>5</td>\n",
       "      <td>19.599886</td>\n",
       "    </tr>\n",
       "    <tr>\n",
       "      <th>1</th>\n",
       "      <td>ROBINSON</td>\n",
       "      <td>2017-01-01</td>\n",
       "      <td>5</td>\n",
       "      <td>37.983904</td>\n",
       "    </tr>\n",
       "    <tr>\n",
       "      <th>2</th>\n",
       "      <td>WILLIAMSON</td>\n",
       "      <td>2017-03-20</td>\n",
       "      <td>4</td>\n",
       "      <td>19.339138</td>\n",
       "    </tr>\n",
       "    <tr>\n",
       "      <th>3</th>\n",
       "      <td>ROBINSON</td>\n",
       "      <td>2017-04-12</td>\n",
       "      <td>5</td>\n",
       "      <td>18.140616</td>\n",
       "    </tr>\n",
       "    <tr>\n",
       "      <th>4</th>\n",
       "      <td>RHODES</td>\n",
       "      <td>2017-03-24</td>\n",
       "      <td>1</td>\n",
       "      <td>22.179522</td>\n",
       "    </tr>\n",
       "  </tbody>\n",
       "</table>\n",
       "</div>"
      ],
      "text/plain": [
       "     lastname purchase_date  stars      price\n",
       "0     PERKINS    2017-04-08      5  19.599886\n",
       "1    ROBINSON    2017-01-01      5  37.983904\n",
       "2  WILLIAMSON    2017-03-20      4  19.339138\n",
       "3    ROBINSON    2017-04-12      5  18.140616\n",
       "4      RHODES    2017-03-24      1  22.179522"
      ]
     },
     "execution_count": 189,
     "metadata": {},
     "output_type": "execute_result"
    }
   ],
   "source": [
    "df.head()"
   ]
  },
  {
   "cell_type": "code",
   "execution_count": 190,
   "metadata": {},
   "outputs": [
    {
     "name": "stdout",
     "output_type": "stream",
     "text": [
      "4.23076923077\n"
     ]
    }
   ],
   "source": [
    "robinson_mean = df[df.lastname == 'ROBINSON'].stars.mean()\n",
    "print(robinson_mean)"
   ]
  },
  {
   "cell_type": "code",
   "execution_count": 191,
   "metadata": {},
   "outputs": [
    {
     "name": "stdout",
     "output_type": "stream",
     "text": [
      "3.43308080808\n"
     ]
    }
   ],
   "source": [
    "other_mean = df[df.lastname != 'ROBINSON'].stars.mean()\n",
    "print(other_mean)"
   ]
  },
  {
   "cell_type": "code",
   "execution_count": 192,
   "metadata": {},
   "outputs": [
    {
     "name": "stdout",
     "output_type": "stream",
     "text": [
      "0.797688422688\n"
     ]
    }
   ],
   "source": [
    "robinson_mean_diff = robinson_mean - other_mean\n",
    "print(robinson_mean_diff)"
   ]
  },
  {
   "cell_type": "code",
   "execution_count": 193,
   "metadata": {},
   "outputs": [],
   "source": [
    "n_robinson = len(df[df.lastname == 'ROBINSON'])\n",
    "n_other = len(df) - n_robinson"
   ]
  },
  {
   "cell_type": "code",
   "execution_count": 194,
   "metadata": {
    "collapsed": true
   },
   "outputs": [],
   "source": [
    "stars = df.stars.values"
   ]
  },
  {
   "cell_type": "code",
   "execution_count": 195,
   "metadata": {
    "collapsed": true
   },
   "outputs": [],
   "source": [
    "mean_diffs = []\n",
    "\n",
    "for i in range(10000):\n",
    "    perm = np.random.permutation(stars)\n",
    "    mean_1 = np.sum(perm[:n_robinson] / n_robinson)\n",
    "    mean_2 = np.sum(perm[n_robinson:] / n_other)\n",
    "    mean_diffs.append(mean_1-mean_2)"
   ]
  },
  {
   "cell_type": "code",
   "execution_count": 196,
   "metadata": {},
   "outputs": [
    {
     "data": {
      "image/png": "[encoded data removed]",
      "text/plain": [
       "<matplotlib.figure.Figure at 0x7f44bd905518>"
      ]
     },
     "metadata": {},
     "output_type": "display_data"
    }
   ],
   "source": [
    "_  = plt.hist(mean_diffs)\n",
    "_  = plt.vlines(x=robinson_mean_diff, ymin = 0, ymax = 3000)"
   ]
  },
  {
   "cell_type": "code",
   "execution_count": 197,
   "metadata": {},
   "outputs": [
    {
     "name": "stdout",
     "output_type": "stream",
     "text": [
      "0.0\n"
     ]
    }
   ],
   "source": [
    "p = sum(mean_diffs >= robinson_mean_diff) / len(mean_diffs)\n",
    "print(p)"
   ]
  },
  {
   "cell_type": "code",
   "execution_count": 198,
   "metadata": {},
   "outputs": [
    {
     "name": "stdout",
     "output_type": "stream",
     "text": [
      "<class 'pandas.core.frame.DataFrame'>\n",
      "RangeIndex: 1000 entries, 0 to 999\n",
      "Data columns (total 4 columns):\n",
      "lastname         1000 non-null object\n",
      "purchase_date    1000 non-null object\n",
      "stars            1000 non-null int64\n",
      "price            978 non-null float64\n",
      "dtypes: float64(1), int64(1), object(2)\n",
      "memory usage: 31.3+ KB\n"
     ]
    }
   ],
   "source": [
    "df.info()"
   ]
  },
  {
   "cell_type": "code",
   "execution_count": 199,
   "metadata": {},
   "outputs": [
    {
     "data": {
      "text/plain": [
       "ROBINSON    135\n",
       "DANIELS       9\n",
       "CALDWELL      8\n",
       "JACOBS        6\n",
       "JOHNSTON      6\n",
       "Name: lastname, dtype: int64"
      ]
     },
     "execution_count": 199,
     "metadata": {},
     "output_type": "execute_result"
    }
   ],
   "source": [
    "df[df.stars == 5].lastname.value_counts().head()"
   ]
  },
  {
   "cell_type": "code",
   "execution_count": 200,
   "metadata": {
    "collapsed": true
   },
   "outputs": [],
   "source": [
    "flower_names = np.array(['rose','carnation','tulip','daisy','sunflower','daffodil','gerbera','orchid','iris','lilac','gardenia','jasmine'])"
   ]
  },
  {
   "cell_type": "code",
   "execution_count": 201,
   "metadata": {},
   "outputs": [
    {
     "data": {
      "text/plain": [
       "12"
      ]
     },
     "execution_count": 201,
     "metadata": {},
     "output_type": "execute_result"
    }
   ],
   "source": [
    "len(flower_names)"
   ]
  },
  {
   "cell_type": "code",
   "execution_count": 202,
   "metadata": {},
   "outputs": [],
   "source": [
    "name_to_flower_dict = {}\n",
    "\n",
    "for name in df.lastname.unique():\n",
    "    name_to_flower_dict[name] = flower_names[np.random.randint(0,len(flower_names))]"
   ]
  },
  {
   "cell_type": "code",
   "execution_count": 203,
   "metadata": {
    "collapsed": true
   },
   "outputs": [],
   "source": [
    "#flower_idx = np.random.randint(0,len(flower_names),size=1000)"
   ]
  },
  {
   "cell_type": "code",
   "execution_count": 204,
   "metadata": {},
   "outputs": [],
   "source": [
    "df['favorite_flower'] = [name_to_flower_dict[x] for x in df.lastname.values]"
   ]
  },
  {
   "cell_type": "code",
   "execution_count": 205,
   "metadata": {},
   "outputs": [
    {
     "data": {
      "text/html": [
       "<div>\n",
       "<style>\n",
       "    .dataframe thead tr:only-child th {\n",
       "        text-align: right;\n",
       "    }\n",
       "\n",
       "    .dataframe thead th {\n",
       "        text-align: left;\n",
       "    }\n",
       "\n",
       "    .dataframe tbody tr th {\n",
       "        vertical-align: top;\n",
       "    }\n",
       "</style>\n",
       "<table border=\"1\" class=\"dataframe\">\n",
       "  <thead>\n",
       "    <tr style=\"text-align: right;\">\n",
       "      <th></th>\n",
       "      <th>lastname</th>\n",
       "      <th>purchase_date</th>\n",
       "      <th>stars</th>\n",
       "      <th>price</th>\n",
       "      <th>favorite_flower</th>\n",
       "    </tr>\n",
       "  </thead>\n",
       "  <tbody>\n",
       "    <tr>\n",
       "      <th>0</th>\n",
       "      <td>PERKINS</td>\n",
       "      <td>2017-04-08</td>\n",
       "      <td>5</td>\n",
       "      <td>19.599886</td>\n",
       "      <td>iris</td>\n",
       "    </tr>\n",
       "    <tr>\n",
       "      <th>1</th>\n",
       "      <td>ROBINSON</td>\n",
       "      <td>2017-01-01</td>\n",
       "      <td>5</td>\n",
       "      <td>37.983904</td>\n",
       "      <td>lilac</td>\n",
       "    </tr>\n",
       "    <tr>\n",
       "      <th>2</th>\n",
       "      <td>WILLIAMSON</td>\n",
       "      <td>2017-03-20</td>\n",
       "      <td>4</td>\n",
       "      <td>19.339138</td>\n",
       "      <td>carnation</td>\n",
       "    </tr>\n",
       "    <tr>\n",
       "      <th>3</th>\n",
       "      <td>ROBINSON</td>\n",
       "      <td>2017-04-12</td>\n",
       "      <td>5</td>\n",
       "      <td>18.140616</td>\n",
       "      <td>lilac</td>\n",
       "    </tr>\n",
       "    <tr>\n",
       "      <th>4</th>\n",
       "      <td>RHODES</td>\n",
       "      <td>2017-03-24</td>\n",
       "      <td>1</td>\n",
       "      <td>22.179522</td>\n",
       "      <td>carnation</td>\n",
       "    </tr>\n",
       "  </tbody>\n",
       "</table>\n",
       "</div>"
      ],
      "text/plain": [
       "     lastname purchase_date  stars      price favorite_flower\n",
       "0     PERKINS    2017-04-08      5  19.599886            iris\n",
       "1    ROBINSON    2017-01-01      5  37.983904           lilac\n",
       "2  WILLIAMSON    2017-03-20      4  19.339138       carnation\n",
       "3    ROBINSON    2017-04-12      5  18.140616           lilac\n",
       "4      RHODES    2017-03-24      1  22.179522       carnation"
      ]
     },
     "execution_count": 205,
     "metadata": {},
     "output_type": "execute_result"
    }
   ],
   "source": [
    "df.head()"
   ]
  },
  {
   "cell_type": "code",
   "execution_count": 206,
   "metadata": {
    "collapsed": true
   },
   "outputs": [],
   "source": [
    "df.to_csv('../data/week1_flowershop_data.csv', index=False)"
   ]
  }
 ],
 "metadata": {
  "celltoolbar": "Slideshow",
  "kernelspec": {
   "display_name": "Python [conda env:coms_w4995]",
   "language": "python",
   "name": "conda-env-coms_w4995-py"
  },
  "language_info": {
   "codemirror_mode": {
    "name": "ipython",
    "version": 3
   },
   "file_extension": ".py",
   "mimetype": "text/x-python",
   "name": "python",
   "nbconvert_exporter": "python",
   "pygments_lexer": "ipython3",
   "version": "3.6.1"
  },
  "nbpresent": {
   "slides": {
    "08efc919-a3bf-444e-a59e-8a81bb806462": {
     "id": "08efc919-a3bf-444e-a59e-8a81bb806462",
     "prev": "cc17e954-5b0f-4943-a73e-6dd39883477e",
     "regions": {
      "f5fec6eb-b112-45fa-a846-747ef3b0a7a1": {
       "attrs": {
        "height": 0.8,
        "width": 0.8,
        "x": 0.1,
        "y": 0.1
       },
       "content": {
        "cell": "53762eb2-9aa4-4b59-8986-37b91f9f269f",
        "part": "whole"
       },
       "id": "f5fec6eb-b112-45fa-a846-747ef3b0a7a1"
      }
     }
    },
    "0bef4fab-4ba7-45a2-be5e-ce59853b0aed": {
     "id": "0bef4fab-4ba7-45a2-be5e-ce59853b0aed",
     "prev": "9a32fb8e-0afa-4a2f-ae56-b154827051e0",
     "regions": {
      "40e74d05-76e7-4ed3-8b19-331437618ec0": {
       "attrs": {
        "height": 0.8,
        "width": 0.8,
        "x": 0.1,
        "y": 0.1
       },
       "content": {
        "cell": "60e19c32-2c29-44f3-a14d-eea662e1ef0c",
        "part": "whole"
       },
       "id": "40e74d05-76e7-4ed3-8b19-331437618ec0"
      }
     }
    },
    "0e13760e-461d-4783-8a79-8562b86cc1c6": {
     "id": "0e13760e-461d-4783-8a79-8562b86cc1c6",
     "prev": "5e74d8fc-400a-4697-ba47-89f9fa5d0356",
     "regions": {
      "eebb2ed2-c24a-41e4-b541-59ffb1a4e8bb": {
       "attrs": {
        "height": 0.8,
        "width": 0.8,
        "x": 0.1,
        "y": 0.1
       },
       "content": {
        "cell": "37412bb8-98d6-4eef-8e72-0fb5211e5f5b",
        "part": "whole"
       },
       "id": "eebb2ed2-c24a-41e4-b541-59ffb1a4e8bb"
      }
     }
    },
    "166949f6-6683-4bcb-81c6-7ebb3ce6408a": {
     "id": "166949f6-6683-4bcb-81c6-7ebb3ce6408a",
     "prev": "08efc919-a3bf-444e-a59e-8a81bb806462",
     "regions": {
      "680c1105-f5fc-43b1-8a7c-e9f016324b05": {
       "attrs": {
        "height": 0.8,
        "width": 0.8,
        "x": 0.1,
        "y": 0.1
       },
       "content": {
        "cell": "edeee317-3c50-4714-bbec-6cca26c2d518",
        "part": "whole"
       },
       "id": "680c1105-f5fc-43b1-8a7c-e9f016324b05"
      }
     }
    },
    "1fe97c07-6519-4182-b9c2-2f91e96af545": {
     "id": "1fe97c07-6519-4182-b9c2-2f91e96af545",
     "prev": "72763892-f5a9-4b56-a4e4-7b90f46cde1c",
     "regions": {
      "f1cd5728-e176-44f7-add7-f5c0d33c45a7": {
       "attrs": {
        "height": 0.8,
        "width": 0.8,
        "x": 0.1,
        "y": 0.1
       },
       "content": {
        "cell": "a8917322-8c7b-4748-b5ec-7924fd9e980c",
        "part": "whole"
       },
       "id": "f1cd5728-e176-44f7-add7-f5c0d33c45a7"
      }
     }
    },
    "26b41115-1f19-40a4-81bb-6b07e0f58f50": {
     "id": "26b41115-1f19-40a4-81bb-6b07e0f58f50",
     "prev": "28c44aa7-8b8a-4227-b84b-6ea0c77b109a",
     "regions": {
      "843d7f5a-7635-40d6-93d7-70e8ae2d3d0d": {
       "attrs": {
        "height": 0.8,
        "width": 0.8,
        "x": 0.1,
        "y": 0.1
       },
       "content": {
        "cell": "aa9ed3a1-af9a-4c21-a838-21be62634c9b",
        "part": "whole"
       },
       "id": "843d7f5a-7635-40d6-93d7-70e8ae2d3d0d"
      }
     }
    },
    "28c44aa7-8b8a-4227-b84b-6ea0c77b109a": {
     "id": "28c44aa7-8b8a-4227-b84b-6ea0c77b109a",
     "prev": "c6578ac5-c537-4311-9a4a-4d257244aea1",
     "regions": {
      "1aa37098-bb14-4e62-acb9-c5048d244cfc": {
       "attrs": {
        "height": 0.8,
        "width": 0.8,
        "x": 0.1,
        "y": 0.1
       },
       "content": {
        "cell": "66f9a163-6c6f-41f0-b230-8d320d00c88b",
        "part": "whole"
       },
       "id": "1aa37098-bb14-4e62-acb9-c5048d244cfc"
      }
     }
    },
    "3a5c8f56-5fdc-4471-b8a8-da7fd58ccc05": {
     "id": "3a5c8f56-5fdc-4471-b8a8-da7fd58ccc05",
     "prev": "3eb84012-0328-4f72-85e8-3655074514be",
     "regions": {
      "6cdba517-1b15-4f35-8c54-282a70ec60b5": {
       "attrs": {
        "height": 0.8,
        "width": 0.8,
        "x": 0.1,
        "y": 0.1
       },
       "content": {
        "cell": "057d2e68-422b-44ab-9abc-0fc3dea1c1d7",
        "part": "whole"
       },
       "id": "6cdba517-1b15-4f35-8c54-282a70ec60b5"
      }
     }
    },
    "3eb84012-0328-4f72-85e8-3655074514be": {
     "id": "3eb84012-0328-4f72-85e8-3655074514be",
     "prev": "166949f6-6683-4bcb-81c6-7ebb3ce6408a",
     "regions": {
      "9234fcfb-d1d6-415a-929d-5994777899ba": {
       "attrs": {
        "height": 0.8,
        "width": 0.8,
        "x": 0.1,
        "y": 0.1
       },
       "content": {
        "cell": "21e3f8d1-7a79-4970-8e75-e7eab3c2653a",
        "part": "whole"
       },
       "id": "9234fcfb-d1d6-415a-929d-5994777899ba"
      }
     }
    },
    "44cb1a79-0c3d-40b1-8c3a-e39a216f9098": {
     "id": "44cb1a79-0c3d-40b1-8c3a-e39a216f9098",
     "prev": "958ce141-2cb2-4bdf-a210-3655c5252b4d",
     "regions": {
      "a0b73501-2288-48d4-a357-837bdd6240ac": {
       "attrs": {
        "height": 0.8,
        "width": 0.8,
        "x": 0.1,
        "y": 0.1
       },
       "content": {
        "cell": "f516a627-4568-46c6-973e-afd337a2c972",
        "part": "whole"
       },
       "id": "a0b73501-2288-48d4-a357-837bdd6240ac"
      }
     }
    },
    "4536a947-8005-411e-a0a3-34f41e121619": {
     "id": "4536a947-8005-411e-a0a3-34f41e121619",
     "prev": "b3c746fe-4167-4dc9-b525-24fe0d20e671",
     "regions": {
      "cf561fee-e7ca-4cc7-a62b-5baf54029066": {
       "attrs": {
        "height": 0.8,
        "width": 0.8,
        "x": 0.1,
        "y": 0.1
       },
       "content": {
        "cell": "7397c4be-450c-49e5-bbab-76292836cd23",
        "part": "whole"
       },
       "id": "cf561fee-e7ca-4cc7-a62b-5baf54029066"
      }
     }
    },
    "5e74d8fc-400a-4697-ba47-89f9fa5d0356": {
     "id": "5e74d8fc-400a-4697-ba47-89f9fa5d0356",
     "prev": "26b41115-1f19-40a4-81bb-6b07e0f58f50",
     "regions": {
      "f20a111c-0058-490f-9026-f228efca1441": {
       "attrs": {
        "height": 0.8,
        "width": 0.8,
        "x": 0.1,
        "y": 0.1
       },
       "content": {
        "cell": "e4e8af64-7494-4f01-abf3-f2ab5972e823",
        "part": "whole"
       },
       "id": "f20a111c-0058-490f-9026-f228efca1441"
      }
     }
    },
    "5efa628c-01b4-4415-b70b-ebb384e5019c": {
     "id": "5efa628c-01b4-4415-b70b-ebb384e5019c",
     "prev": "7ce8dba7-7e11-4c2c-b2b5-a306996702de",
     "regions": {
      "ae5fac2e-d464-4df0-9f1f-cefe906ce98a": {
       "attrs": {
        "height": 0.8,
        "width": 0.8,
        "x": 0.1,
        "y": 0.1
       },
       "content": {
        "cell": "204fc3b2-905d-4fee-9e9a-80d0718a8ae1",
        "part": "whole"
       },
       "id": "ae5fac2e-d464-4df0-9f1f-cefe906ce98a"
      }
     }
    },
    "72763892-f5a9-4b56-a4e4-7b90f46cde1c": {
     "id": "72763892-f5a9-4b56-a4e4-7b90f46cde1c",
     "prev": "0e13760e-461d-4783-8a79-8562b86cc1c6",
     "regions": {
      "df91c8f0-5906-4588-b2f8-b21a1874e961": {
       "attrs": {
        "height": 0.8,
        "width": 0.8,
        "x": 0.1,
        "y": 0.1
       },
       "content": {
        "cell": "d97f9831-912b-4545-88dd-fd23cc1850fc",
        "part": "whole"
       },
       "id": "df91c8f0-5906-4588-b2f8-b21a1874e961"
      }
     }
    },
    "73cfb512-6f9f-4550-b553-2ace2aa999f8": {
     "id": "73cfb512-6f9f-4550-b553-2ace2aa999f8",
     "prev": "1fe97c07-6519-4182-b9c2-2f91e96af545",
     "regions": {
      "2c50fac5-edb7-4323-9993-c4b4d30b9e9f": {
       "attrs": {
        "height": 0.8,
        "width": 0.8,
        "x": 0.1,
        "y": 0.1
       },
       "content": {
        "cell": "e1a5852c-9886-401d-8f97-b268dfc8acee",
        "part": "whole"
       },
       "id": "2c50fac5-edb7-4323-9993-c4b4d30b9e9f"
      }
     }
    },
    "786d3889-d865-4e22-92be-94334bf1b5e5": {
     "id": "786d3889-d865-4e22-92be-94334bf1b5e5",
     "prev": "788bcf63-5bc1-4524-9125-f25f39163b47",
     "regions": {
      "3de3109b-bc8c-4d80-ae2a-c45fdcba8887": {
       "attrs": {
        "height": 0.8,
        "width": 0.8,
        "x": 0.1,
        "y": 0.1
       },
       "content": {
        "cell": "b71b3c73-9491-44e5-8fee-93b9c24a84d9",
        "part": "whole"
       },
       "id": "3de3109b-bc8c-4d80-ae2a-c45fdcba8887"
      }
     }
    },
    "788bcf63-5bc1-4524-9125-f25f39163b47": {
     "id": "788bcf63-5bc1-4524-9125-f25f39163b47",
     "prev": "0bef4fab-4ba7-45a2-be5e-ce59853b0aed",
     "regions": {
      "977262b1-f553-4dcc-87ca-d31bafc67e54": {
       "attrs": {
        "height": 0.8,
        "width": 0.8,
        "x": 0.1,
        "y": 0.1
       },
       "content": {
        "cell": "e1a378cc-5906-4b72-b761-f7dffddd7606",
        "part": "whole"
       },
       "id": "977262b1-f553-4dcc-87ca-d31bafc67e54"
      }
     }
    },
    "7ce8dba7-7e11-4c2c-b2b5-a306996702de": {
     "id": "7ce8dba7-7e11-4c2c-b2b5-a306996702de",
     "prev": "d1234db9-92ca-4d05-9a9d-150226892688",
     "regions": {
      "dd64474a-38d6-43bd-ba71-533d2b900bce": {
       "attrs": {
        "height": 0.8,
        "width": 0.8,
        "x": 0.1,
        "y": 0.1
       },
       "content": {
        "cell": "c0ac2f34-0e38-4611-a4e1-081b59b3c540",
        "part": "whole"
       },
       "id": "dd64474a-38d6-43bd-ba71-533d2b900bce"
      }
     }
    },
    "958ce141-2cb2-4bdf-a210-3655c5252b4d": {
     "id": "958ce141-2cb2-4bdf-a210-3655c5252b4d",
     "prev": "4536a947-8005-411e-a0a3-34f41e121619",
     "regions": {
      "62430e4d-2c24-4799-8858-ff69474b3c7b": {
       "attrs": {
        "height": 0.8,
        "width": 0.8,
        "x": 0.1,
        "y": 0.1
       },
       "content": {
        "cell": "18c8e1e5-e9f5-445c-921e-445ba1d21f17",
        "part": "whole"
       },
       "id": "62430e4d-2c24-4799-8858-ff69474b3c7b"
      }
     }
    },
    "9a32fb8e-0afa-4a2f-ae56-b154827051e0": {
     "id": "9a32fb8e-0afa-4a2f-ae56-b154827051e0",
     "prev": "3a5c8f56-5fdc-4471-b8a8-da7fd58ccc05",
     "regions": {
      "2a464aec-a3f1-4593-9ed0-bd9e6bb5bee7": {
       "attrs": {
        "height": 0.8,
        "width": 0.8,
        "x": 0.1,
        "y": 0.1
       },
       "content": {
        "cell": "eb5c5dfc-13cf-4f51-b8a8-8c0ab113c68a",
        "part": "whole"
       },
       "id": "2a464aec-a3f1-4593-9ed0-bd9e6bb5bee7"
      }
     }
    },
    "b3c746fe-4167-4dc9-b525-24fe0d20e671": {
     "id": "b3c746fe-4167-4dc9-b525-24fe0d20e671",
     "prev": "73cfb512-6f9f-4550-b553-2ace2aa999f8",
     "regions": {
      "49b4d0bc-b281-43c4-8b6e-e5bc776ab12e": {
       "attrs": {
        "height": 0.8,
        "width": 0.8,
        "x": 0.1,
        "y": 0.1
       },
       "content": {
        "cell": "50ffd993-b6c8-43a3-a4d7-8f3c74bfb08b",
        "part": "whole"
       },
       "id": "49b4d0bc-b281-43c4-8b6e-e5bc776ab12e"
      }
     }
    },
    "c0e1146b-357c-4839-a3b9-39dbb14f6805": {
     "id": "c0e1146b-357c-4839-a3b9-39dbb14f6805",
     "prev": "44cb1a79-0c3d-40b1-8c3a-e39a216f9098",
     "regions": {
      "c0b2b675-5904-44f5-b510-0119eb806fcf": {
       "attrs": {
        "height": 0.8,
        "width": 0.8,
        "x": 0.1,
        "y": 0.1
       },
       "content": {
        "cell": "1427b760-54f8-47a7-9478-ca83f95f19c5",
        "part": "whole"
       },
       "id": "c0b2b675-5904-44f5-b510-0119eb806fcf"
      }
     }
    },
    "c6578ac5-c537-4311-9a4a-4d257244aea1": {
     "id": "c6578ac5-c537-4311-9a4a-4d257244aea1",
     "prev": "786d3889-d865-4e22-92be-94334bf1b5e5",
     "regions": {
      "7106af3d-bc11-4b85-8811-b13039bf4acc": {
       "attrs": {
        "height": 0.8,
        "width": 0.8,
        "x": 0.1,
        "y": 0.1
       },
       "content": {
        "cell": "e4f8bf7d-0370-4104-8269-97f95839f907",
        "part": "whole"
       },
       "id": "7106af3d-bc11-4b85-8811-b13039bf4acc"
      }
     }
    },
    "cc17e954-5b0f-4943-a73e-6dd39883477e": {
     "id": "cc17e954-5b0f-4943-a73e-6dd39883477e",
     "prev": "5efa628c-01b4-4415-b70b-ebb384e5019c",
     "regions": {
      "d79e071b-e505-4347-b051-a0b7e0b9562a": {
       "attrs": {
        "height": 0.8,
        "width": 0.8,
        "x": 0.1,
        "y": 0.1
       },
       "content": {
        "cell": "47428576-bef1-413d-8ce9-c27c19a89469",
        "part": "whole"
       },
       "id": "d79e071b-e505-4347-b051-a0b7e0b9562a"
      }
     }
    },
    "d1234db9-92ca-4d05-9a9d-150226892688": {
     "id": "d1234db9-92ca-4d05-9a9d-150226892688",
     "prev": null,
     "regions": {
      "ab6a1591-31ee-4f5f-9bde-f077312f093c": {
       "attrs": {
        "height": 0.8,
        "width": 0.8,
        "x": 0.1,
        "y": 0.1
       },
       "content": {
        "cell": "edd75f49-a55e-45f8-8f53-79b4869c8175",
        "part": "whole"
       },
       "id": "ab6a1591-31ee-4f5f-9bde-f077312f093c"
      }
     }
    },
    "e2c064c2-341c-4c18-b9ff-78ae58d0d670": {
     "id": "e2c064c2-341c-4c18-b9ff-78ae58d0d670",
     "prev": "c0e1146b-357c-4839-a3b9-39dbb14f6805",
     "regions": {
      "28e6e84b-7808-4470-a019-79b17384deb0": {
       "attrs": {
        "height": 0.8,
        "width": 0.8,
        "x": 0.1,
        "y": 0.1
       },
       "content": {
        "cell": "7c564809-bea3-4ed7-ae55-a27efa4ecce9",
        "part": "whole"
       },
       "id": "28e6e84b-7808-4470-a019-79b17384deb0"
      }
     }
    }
   },
   "themes": {
    "default": "d55d4ec0-04bb-42a0-95d4-46ebafa95821",
    "theme": {
     "3abea00e-03cb-443d-83ff-025da24b6127": {
      "backgrounds": {
       "dc7afa04-bf90-40b1-82a5-726e3cff5267": {
        "background-color": "31af15d2-7e15-44c5-ab5e-e04b16a89eff",
        "id": "dc7afa04-bf90-40b1-82a5-726e3cff5267"
       }
      },
      "id": "3abea00e-03cb-443d-83ff-025da24b6127",
      "palette": {
       "19cc588f-0593-49c9-9f4b-e4d7cc113b1c": {
        "id": "19cc588f-0593-49c9-9f4b-e4d7cc113b1c",
        "rgb": [
         252,
         252,
         252
        ]
       },
       "31af15d2-7e15-44c5-ab5e-e04b16a89eff": {
        "id": "31af15d2-7e15-44c5-ab5e-e04b16a89eff",
        "rgb": [
         68,
         68,
         68
        ]
       },
       "50f92c45-a630-455b-aec3-788680ec7410": {
        "id": "50f92c45-a630-455b-aec3-788680ec7410",
        "rgb": [
         197,
         226,
         245
        ]
       },
       "c5cc3653-2ee1-402a-aba2-7caae1da4f6c": {
        "id": "c5cc3653-2ee1-402a-aba2-7caae1da4f6c",
        "rgb": [
         43,
         126,
         184
        ]
       },
       "efa7f048-9acb-414c-8b04-a26811511a21": {
        "id": "efa7f048-9acb-414c-8b04-a26811511a21",
        "rgb": [
         25.118061674008803,
         73.60176211453744,
         107.4819383259912
        ]
       }
      },
      "rules": {
       "a": {
        "color": "19cc588f-0593-49c9-9f4b-e4d7cc113b1c"
       },
       "blockquote": {
        "color": "50f92c45-a630-455b-aec3-788680ec7410",
        "font-size": 3
       },
       "code": {
        "font-family": "Anonymous Pro"
       },
       "h1": {
        "color": "19cc588f-0593-49c9-9f4b-e4d7cc113b1c",
        "font-family": "Merriweather",
        "font-size": 8
       },
       "h2": {
        "color": "19cc588f-0593-49c9-9f4b-e4d7cc113b1c",
        "font-family": "Merriweather",
        "font-size": 6
       },
       "h3": {
        "color": "50f92c45-a630-455b-aec3-788680ec7410",
        "font-family": "Lato",
        "font-size": 5.5
       },
       "h4": {
        "color": "c5cc3653-2ee1-402a-aba2-7caae1da4f6c",
        "font-family": "Lato",
        "font-size": 5
       },
       "h5": {
        "font-family": "Lato"
       },
       "h6": {
        "font-family": "Lato"
       },
       "h7": {
        "font-family": "Lato"
       },
       "li": {
        "color": "50f92c45-a630-455b-aec3-788680ec7410",
        "font-size": 3.25
       },
       "pre": {
        "font-family": "Anonymous Pro",
        "font-size": 4
       }
      },
      "text-base": {
       "color": "19cc588f-0593-49c9-9f4b-e4d7cc113b1c",
       "font-family": "Lato",
       "font-size": 4
      }
     },
     "d55d4ec0-04bb-42a0-95d4-46ebafa95821": {
      "id": "d55d4ec0-04bb-42a0-95d4-46ebafa95821",
      "palette": {
       "19cc588f-0593-49c9-9f4b-e4d7cc113b1c": {
        "id": "19cc588f-0593-49c9-9f4b-e4d7cc113b1c",
        "rgb": [
         252,
         252,
         252
        ]
       },
       "31af15d2-7e15-44c5-ab5e-e04b16a89eff": {
        "id": "31af15d2-7e15-44c5-ab5e-e04b16a89eff",
        "rgb": [
         68,
         68,
         68
        ]
       },
       "50f92c45-a630-455b-aec3-788680ec7410": {
        "id": "50f92c45-a630-455b-aec3-788680ec7410",
        "rgb": [
         155,
         177,
         192
        ]
       },
       "c5cc3653-2ee1-402a-aba2-7caae1da4f6c": {
        "id": "c5cc3653-2ee1-402a-aba2-7caae1da4f6c",
        "rgb": [
         43,
         126,
         184
        ]
       },
       "efa7f048-9acb-414c-8b04-a26811511a21": {
        "id": "efa7f048-9acb-414c-8b04-a26811511a21",
        "rgb": [
         25.118061674008803,
         73.60176211453744,
         107.4819383259912
        ]
       }
      },
      "rules": {
       "blockquote": {
        "color": "50f92c45-a630-455b-aec3-788680ec7410"
       },
       "code": {
        "font-family": "Anonymous Pro"
       },
       "h1": {
        "color": "c5cc3653-2ee1-402a-aba2-7caae1da4f6c",
        "font-family": "Lato",
        "font-size": 8
       },
       "h2": {
        "color": "c5cc3653-2ee1-402a-aba2-7caae1da4f6c",
        "font-family": "Lato",
        "font-size": 6
       },
       "h3": {
        "color": "50f92c45-a630-455b-aec3-788680ec7410",
        "font-family": "Lato",
        "font-size": 5.5
       },
       "h4": {
        "color": "c5cc3653-2ee1-402a-aba2-7caae1da4f6c",
        "font-family": "Lato",
        "font-size": 5
       },
       "h5": {
        "font-family": "Lato"
       },
       "h6": {
        "font-family": "Lato"
       },
       "h7": {
        "font-family": "Lato"
       },
       "pre": {
        "font-family": "Anonymous Pro",
        "font-size": 4
       }
      },
      "text-base": {
       "font-family": "Merriweather",
       "font-size": 4
      }
     }
    }
   }
  }
 },
 "nbformat": 4,
 "nbformat_minor": 1
}
